{
 "cells": [
  {
   "cell_type": "code",
   "execution_count": 20,
   "metadata": {
    "collapsed": true
   },
   "outputs": [],
   "source": [
    "import pandas as pd\n",
    "import numpy as np\n",
    "import re\n",
    "import matplotlib.pyplot as pl\n",
    "%matplotlib inline"
   ]
  },
  {
   "cell_type": "code",
   "execution_count": 2,
   "metadata": {
    "collapsed": true
   },
   "outputs": [],
   "source": [
    "def ParseTextFile(textFileHandle, topickle=False, convert2DateTime=False, **kwargs):\n",
    "    \"\"\"\n",
    "    * topickle: pickle resulting DataFrame if True\n",
    "    * convert2DateTime: join date/time columns and convert entries to datetime objects\n",
    "    * kwargs:\n",
    "        pkl_fname: pickle file name to save DataFrame by, if topickle=True\n",
    "    \"\"\"\n",
    "    # Pre-compute some regex\n",
    "    columns = re.compile('^/fields=(.+)') # to get field/column names\n",
    "    units = re.compile('^/units=(.+)') # to get units -- optional\n",
    "    endHeader = re.compile('^/end_header') # to know when to start storing data\n",
    "    # Set some milestones\n",
    "    noFields = True\n",
    "    getData = False\n",
    "    # loop through the text data\n",
    "    for line in textFileHandle:\n",
    "        if noFields:\n",
    "            fieldStr = columns.findall(line)\n",
    "            if len(fieldStr)>0:\n",
    "                noFields = False\n",
    "                fieldList = fieldStr[0].split(',')\n",
    "                dataDict = dict.fromkeys(fieldList)\n",
    "                continue # nothing left to do with this line, keep looping\n",
    "        if not getData:\n",
    "            if endHeader.match(line):\n",
    "                # end of header reached, start acquiring data\n",
    "                getData = True \n",
    "        else:\n",
    "            dataList = line.split(',')\n",
    "            for field,datum in zip(fieldList, dataList):\n",
    "                if not dataDict[field]:\n",
    "                    dataDict[field] = []\n",
    "                dataDict[field].append(datum)\n",
    "    df = pd.DataFrame(dataDict, columns=fieldList)\n",
    "    if convert2DateTime:\n",
    "        datetimelabels=['year', 'month', 'day', 'hour', 'minute', 'second']\n",
    "        df['Datetime']= pd.to_datetime(df[datetimelabels],\n",
    "                                       format='%Y-%m-%dT%H:%M:%S')\n",
    "        df.drop(datetimelabels, axis=1, inplace=True)\n",
    "    if topickle:\n",
    "        fname=kwargs.pop('pkl_fname', 'dfNomad2.pkl')\n",
    "        df.to_pickle(fname)\n",
    "    return df\n",
    "\n",
    "def FindNaNs(df):\n",
    "    for col in df.columns:\n",
    "        sn = np.where(df[col].values=='NaN', True, False).sum()\n",
    "        s9 = np.where('-999' in df[col].values, True, False).sum()\n",
    "        print(\"%s: %d NaNs & %d -999s\" % (col, sn, s9))\n",
    "        \n",
    "def FitPoly(X,y, order=4, lin=False):\n",
    "    \"\"\"\n",
    "    Numpy regression. Returns coeffs.\n",
    "    kwargs:\n",
    "        lin: specifies whether data is log transformed. Data is log transformed if not.\"\"\"\n",
    "    if lin:\n",
    "        X = np.log10(X)\n",
    "        y = np.log10(y)\n",
    "    coeffs = np.polyfit(X,y,deg=order)\n",
    "    return coeff"
   ]
  },
  {
   "cell_type": "code",
   "execution_count": 3,
   "metadata": {
    "collapsed": true
   },
   "outputs": [],
   "source": [
    "chlacsvfp = '/home/madhatter106/Downloads/1490907415987539_chlor_a.csv'\n",
    "rrscsvfp = '/home/madhatter106/Downloads/1490907415987539_rrs.csv'"
   ]
  },
  {
   "cell_type": "code",
   "execution_count": 4,
   "metadata": {
    "collapsed": false
   },
   "outputs": [],
   "source": [
    "with open(chlacsvfp) as fchl:\n",
    "    dfChl = ParseTextFile(fchl, topickle=True, pkl_fname='./dfMtUpChla.pkl')\n",
    "with open(rrscsvfp) as frrs:\n",
    "    dfRrs = ParseTextFile(frrs, topickle=True, pkl_fname='./dfMtUpRrs.pkl')"
   ]
  },
  {
   "cell_type": "code",
   "execution_count": 13,
   "metadata": {
    "collapsed": false
   },
   "outputs": [
    {
     "data": {
      "text/plain": [
       "array(['2010_05_wbii', 'abudhabi-masqat', 'ba-ushuaia', 'bb1011',\n",
       "       'bd02_2010', 'cbp05', 'cv3', 'cv4', 'cv5', 'dfo_canada_chl',\n",
       "       'glider_calibration', 'icescape2010_asb', 'masqat-mumbay', 's1010'], dtype=object)"
      ]
     },
     "execution_count": 13,
     "metadata": {},
     "output_type": "execute_result"
    }
   ],
   "source": [
    "dfChl.cruise.unique()"
   ]
  },
  {
   "cell_type": "code",
   "execution_count": 14,
   "metadata": {
    "collapsed": false,
    "scrolled": false
   },
   "outputs": [
    {
     "data": {
      "text/plain": [
       "array(['bats255', 'bats256', 'bats258', 'bats259', 'bats260', 'bats263',\n",
       "       'greenbay_01', 'pb221', 'pb223', 's1010'], dtype=object)"
      ]
     },
     "execution_count": 14,
     "metadata": {},
     "output_type": "execute_result"
    }
   ],
   "source": [
    "dfRrs.cruise.unique()"
   ]
  },
  {
   "cell_type": "code",
   "execution_count": 15,
   "metadata": {
    "collapsed": false
   },
   "outputs": [
    {
     "name": "stdout",
     "output_type": "stream",
     "text": [
      "s1010 found in both\n"
     ]
    }
   ],
   "source": [
    "for entry in dfChl.cruise.unique():\n",
    "    if entry in dfRrs.cruise.unique():\n",
    "        print('%s found in both' % entry)"
   ]
  },
  {
   "cell_type": "code",
   "execution_count": 16,
   "metadata": {
    "collapsed": false
   },
   "outputs": [
    {
     "data": {
      "text/html": [
       "<div>\n",
       "<table border=\"1\" class=\"dataframe\">\n",
       "  <thead>\n",
       "    <tr style=\"text-align: right;\">\n",
       "      <th></th>\n",
       "      <th>id</th>\n",
       "      <th>latitude</th>\n",
       "      <th>longitude</th>\n",
       "      <th>date_time</th>\n",
       "      <th>cruise</th>\n",
       "      <th>seawifs_filename</th>\n",
       "      <th>seawifs_es_error</th>\n",
       "      <th>seawifs_pixel_total</th>\n",
       "      <th>seawifs_tdiff</th>\n",
       "      <th>seawifs_solz</th>\n",
       "      <th>...</th>\n",
       "      <th>seawifs_cv</th>\n",
       "      <th>seawifs_windspeed</th>\n",
       "      <th>seawifs_chlor_a</th>\n",
       "      <th>insitu_chlor_a</th>\n",
       "      <th>seawifs_rrs412</th>\n",
       "      <th>seawifs_rrs443</th>\n",
       "      <th>seawifs_rrs490</th>\n",
       "      <th>seawifs_rrs510</th>\n",
       "      <th>seawifs_rrs555</th>\n",
       "      <th>seawifs_rrs670</th>\n",
       "    </tr>\n",
       "  </thead>\n",
       "  <tbody>\n",
       "    <tr>\n",
       "      <th>58</th>\n",
       "      <td>293366</td>\n",
       "      <td>26.42480000</td>\n",
       "      <td>-82.19440000</td>\n",
       "      <td>2010-10-05 18:25:00</td>\n",
       "      <td>s1010</td>\n",
       "      <td>S2010278200632.L2_MLAC.R0000021476_26N_26N_82W...</td>\n",
       "      <td>0.00000000</td>\n",
       "      <td>25</td>\n",
       "      <td>6797</td>\n",
       "      <td>53.89</td>\n",
       "      <td>...</td>\n",
       "      <td>0.093</td>\n",
       "      <td>6.707</td>\n",
       "      <td>3.32302000</td>\n",
       "      <td>1.93200004</td>\n",
       "      <td>0.00376500</td>\n",
       "      <td>0.00442800</td>\n",
       "      <td>0.00557000</td>\n",
       "      <td>0.00592600</td>\n",
       "      <td>0.00705300</td>\n",
       "      <td>0.00167200\\n</td>\n",
       "    </tr>\n",
       "  </tbody>\n",
       "</table>\n",
       "<p>1 rows × 21 columns</p>\n",
       "</div>"
      ],
      "text/plain": [
       "        id     latitude     longitude            date_time cruise  \\\n",
       "58  293366  26.42480000  -82.19440000  2010-10-05 18:25:00  s1010   \n",
       "\n",
       "                                     seawifs_filename seawifs_es_error  \\\n",
       "58  S2010278200632.L2_MLAC.R0000021476_26N_26N_82W...       0.00000000   \n",
       "\n",
       "   seawifs_pixel_total seawifs_tdiff seawifs_solz      ...       seawifs_cv  \\\n",
       "58                  25          6797        53.89      ...            0.093   \n",
       "\n",
       "   seawifs_windspeed seawifs_chlor_a insitu_chlor_a seawifs_rrs412  \\\n",
       "58             6.707      3.32302000     1.93200004     0.00376500   \n",
       "\n",
       "   seawifs_rrs443 seawifs_rrs490 seawifs_rrs510 seawifs_rrs555 seawifs_rrs670  \n",
       "58     0.00442800     0.00557000     0.00592600     0.00705300   0.00167200\\n  \n",
       "\n",
       "[1 rows x 21 columns]"
      ]
     },
     "execution_count": 16,
     "metadata": {},
     "output_type": "execute_result"
    }
   ],
   "source": [
    "dfChl.loc[dfChl.cruise=='s1010',:]"
   ]
  },
  {
   "cell_type": "code",
   "execution_count": 19,
   "metadata": {
    "collapsed": false
   },
   "outputs": [
    {
     "data": {
      "text/html": [
       "<div>\n",
       "<table border=\"1\" class=\"dataframe\">\n",
       "  <thead>\n",
       "    <tr style=\"text-align: right;\">\n",
       "      <th></th>\n",
       "      <th>id</th>\n",
       "      <th>latitude</th>\n",
       "      <th>longitude</th>\n",
       "      <th>date_time</th>\n",
       "      <th>cruise</th>\n",
       "      <th>seawifs_filename</th>\n",
       "      <th>seawifs_es_error</th>\n",
       "      <th>seawifs_pixel_total</th>\n",
       "      <th>seawifs_tdiff</th>\n",
       "      <th>seawifs_solz</th>\n",
       "      <th>...</th>\n",
       "      <th>seawifs_rrs490</th>\n",
       "      <th>seawifs_rrs510</th>\n",
       "      <th>seawifs_rrs555</th>\n",
       "      <th>seawifs_rrs670</th>\n",
       "      <th>insitu_rrs412</th>\n",
       "      <th>insitu_rrs443</th>\n",
       "      <th>insitu_rrs490</th>\n",
       "      <th>insitu_rrs510</th>\n",
       "      <th>insitu_rrs555</th>\n",
       "      <th>insitu_rrs670</th>\n",
       "    </tr>\n",
       "  </thead>\n",
       "  <tbody>\n",
       "    <tr>\n",
       "      <th>11</th>\n",
       "      <td>293363</td>\n",
       "      <td>26.42480000</td>\n",
       "      <td>-82.19440000</td>\n",
       "      <td>2010-10-05 18:25:00</td>\n",
       "      <td>s1010</td>\n",
       "      <td>S2010278200632.L2_MLAC.R0000021476_26N_26N_82W...</td>\n",
       "      <td>1.30000000</td>\n",
       "      <td>25</td>\n",
       "      <td>6797</td>\n",
       "      <td>53.89</td>\n",
       "      <td>...</td>\n",
       "      <td>0.00557000</td>\n",
       "      <td>0.00592600</td>\n",
       "      <td>0.00705300</td>\n",
       "      <td>0.00167200</td>\n",
       "      <td>0.00156116</td>\n",
       "      <td>0.00219547</td>\n",
       "      <td>0.00368125</td>\n",
       "      <td>0.00427749</td>\n",
       "      <td>0.00541289</td>\n",
       "      <td>0.00124485\\n</td>\n",
       "    </tr>\n",
       "  </tbody>\n",
       "</table>\n",
       "<p>1 rows × 25 columns</p>\n",
       "</div>"
      ],
      "text/plain": [
       "        id     latitude     longitude            date_time cruise  \\\n",
       "11  293363  26.42480000  -82.19440000  2010-10-05 18:25:00  s1010   \n",
       "\n",
       "                                     seawifs_filename seawifs_es_error  \\\n",
       "11  S2010278200632.L2_MLAC.R0000021476_26N_26N_82W...       1.30000000   \n",
       "\n",
       "   seawifs_pixel_total seawifs_tdiff seawifs_solz      ...       \\\n",
       "11                  25          6797        53.89      ...        \n",
       "\n",
       "   seawifs_rrs490 seawifs_rrs510 seawifs_rrs555 seawifs_rrs670 insitu_rrs412  \\\n",
       "11     0.00557000     0.00592600     0.00705300     0.00167200    0.00156116   \n",
       "\n",
       "   insitu_rrs443 insitu_rrs490 insitu_rrs510 insitu_rrs555 insitu_rrs670  \n",
       "11    0.00219547    0.00368125    0.00427749    0.00541289  0.00124485\\n  \n",
       "\n",
       "[1 rows x 25 columns]"
      ]
     },
     "execution_count": 19,
     "metadata": {},
     "output_type": "execute_result"
    }
   ],
   "source": [
    "dfRrs.loc[dfRrs.cruise=='s1010',:]"
   ]
  },
  {
   "cell_type": "code",
   "execution_count": 17,
   "metadata": {
    "collapsed": false
   },
   "outputs": [
    {
     "name": "stdout",
     "output_type": "stream",
     "text": [
      "<class 'pandas.core.frame.DataFrame'>\n",
      "RangeIndex: 59 entries, 0 to 58\n",
      "Data columns (total 21 columns):\n",
      "id                     59 non-null object\n",
      "latitude               59 non-null object\n",
      "longitude              59 non-null object\n",
      "date_time              59 non-null object\n",
      "cruise                 59 non-null object\n",
      "seawifs_filename       59 non-null object\n",
      "seawifs_es_error       59 non-null object\n",
      "seawifs_pixel_total    59 non-null object\n",
      "seawifs_tdiff          59 non-null object\n",
      "seawifs_solz           59 non-null object\n",
      "seawifs_senz           59 non-null object\n",
      "seawifs_cv             59 non-null object\n",
      "seawifs_windspeed      59 non-null object\n",
      "seawifs_chlor_a        59 non-null object\n",
      "insitu_chlor_a         59 non-null object\n",
      "seawifs_rrs412         59 non-null object\n",
      "seawifs_rrs443         59 non-null object\n",
      "seawifs_rrs490         59 non-null object\n",
      "seawifs_rrs510         59 non-null object\n",
      "seawifs_rrs555         59 non-null object\n",
      "seawifs_rrs670         59 non-null object\n",
      "dtypes: object(21)\n",
      "memory usage: 9.8+ KB\n"
     ]
    }
   ],
   "source": [
    "dfChl.info()"
   ]
  },
  {
   "cell_type": "code",
   "execution_count": 31,
   "metadata": {
    "collapsed": false
   },
   "outputs": [
    {
     "data": {
      "text/plain": [
       "[<matplotlib.lines.Line2D at 0x7ff5ee0e4048>]"
      ]
     },
     "execution_count": 31,
     "metadata": {},
     "output_type": "execute_result"
    },
    {
     "data": {
      "image/png": "[encoded data removed]",
      "text/plain": [
       "<matplotlib.figure.Figure at 0x7ff5ec356e48>"
      ]
     },
     "metadata": {},
     "output_type": "display_data"
    }
   ],
   "source": [
    "pl.scatter(dfChl.insitu_chlor_a.astype('f8'), dfChl.seawifs_chlor_a.astype('f8'))\n",
    "pl.xlim((0,20))\n",
    "pl.xlabel('in situ')\n",
    "pl.ylabel('seawifs')\n",
    "pl.plot([0,20],[0,20],'k--')"
   ]
  },
  {
   "cell_type": "code",
   "execution_count": 32,
   "metadata": {
    "collapsed": true
   },
   "outputs": [],
   "source": [
    "dfChl['maxBlue'] = dfChl[['seawifs_rrs443', 'seawifs_rrs490','seawifs_rrs510']].max(axis=1)"
   ]
  },
  {
   "cell_type": "code",
   "execution_count": 35,
   "metadata": {
    "collapsed": false
   },
   "outputs": [],
   "source": [
    "dfChl['mxBl2Gr'] = dfChl.maxBlue / dfChl.seawifs_rrs555.astype('f8')"
   ]
  },
  {
   "cell_type": "code",
   "execution_count": 36,
   "metadata": {
    "collapsed": false,
    "scrolled": true
   },
   "outputs": [
    {
     "name": "stdout",
     "output_type": "stream",
     "text": [
      "<class 'pandas.core.frame.DataFrame'>\n",
      "RangeIndex: 59 entries, 0 to 58\n",
      "Data columns (total 23 columns):\n",
      "id                     59 non-null object\n",
      "latitude               59 non-null object\n",
      "longitude              59 non-null object\n",
      "date_time              59 non-null object\n",
      "cruise                 59 non-null object\n",
      "seawifs_filename       59 non-null object\n",
      "seawifs_es_error       59 non-null object\n",
      "seawifs_pixel_total    59 non-null object\n",
      "seawifs_tdiff          59 non-null object\n",
      "seawifs_solz           59 non-null object\n",
      "seawifs_senz           59 non-null object\n",
      "seawifs_cv             59 non-null object\n",
      "seawifs_windspeed      59 non-null object\n",
      "seawifs_chlor_a        59 non-null object\n",
      "insitu_chlor_a         59 non-null object\n",
      "seawifs_rrs412         59 non-null object\n",
      "seawifs_rrs443         59 non-null object\n",
      "seawifs_rrs490         59 non-null object\n",
      "seawifs_rrs510         59 non-null object\n",
      "seawifs_rrs555         59 non-null object\n",
      "seawifs_rrs670         59 non-null object\n",
      "maxBlue                59 non-null float64\n",
      "mxBl2Gr                59 non-null float64\n",
      "dtypes: float64(2), object(21)\n",
      "memory usage: 10.7+ KB\n"
     ]
    }
   ],
   "source": [
    "dfChl.info()"
   ]
  },
  {
   "cell_type": "code",
   "execution_count": 40,
   "metadata": {
    "collapsed": false
   },
   "outputs": [],
   "source": [
    "colsIWant = ['id', 'latitude', 'longitude', 'date_time', 'cruise',\n",
    "            'seawifs_solz', 'seawifs_senz','seawifs_windspeed','seawifs_tdiff','mxBl2Gr',\n",
    "             'insitu_chlor_a','seawifs_chlor_a'] \n",
    "dfChlMups = dfChl[colsIWant]"
   ]
  },
  {
   "cell_type": "code",
   "execution_count": 42,
   "metadata": {
    "collapsed": false
   },
   "outputs": [
    {
     "name": "stderr",
     "output_type": "stream",
     "text": [
      "/home/madhatter106/anaconda3/lib/python3.5/site-packages/ipykernel/__main__.py:2: SettingWithCopyWarning: \n",
      "A value is trying to be set on a copy of a slice from a DataFrame.\n",
      "Try using .loc[row_indexer,col_indexer] = value instead\n",
      "\n",
      "See the caveats in the documentation: http://pandas.pydata.org/pandas-docs/stable/indexing.html#indexing-view-versus-copy\n",
      "  from ipykernel import kernelapp as app\n"
     ]
    }
   ],
   "source": [
    "for col in colsIWant[1:3] + colsIWant[5:8]+colsIWant[9:]:\n",
    "    dfChlMups[col] = dfChlMups[col].astype('f8')"
   ]
  },
  {
   "cell_type": "code",
   "execution_count": 45,
   "metadata": {
    "collapsed": false
   },
   "outputs": [
    {
     "name": "stderr",
     "output_type": "stream",
     "text": [
      "/home/madhatter106/anaconda3/lib/python3.5/site-packages/pandas/core/indexing.py:477: SettingWithCopyWarning: \n",
      "A value is trying to be set on a copy of a slice from a DataFrame.\n",
      "Try using .loc[row_indexer,col_indexer] = value instead\n",
      "\n",
      "See the caveats in the documentation: http://pandas.pydata.org/pandas-docs/stable/indexing.html#indexing-view-versus-copy\n",
      "  self.obj[item] = s\n"
     ]
    }
   ],
   "source": [
    "for col in ['id','seawifs_tdiff']:\n",
    "    dfChlMups.loc[:,col] = dfChlMups.loc[:,col].astype('i8')"
   ]
  },
  {
   "cell_type": "code",
   "execution_count": 47,
   "metadata": {
    "collapsed": false
   },
   "outputs": [
    {
     "name": "stderr",
     "output_type": "stream",
     "text": [
      "/home/madhatter106/anaconda3/lib/python3.5/site-packages/pandas/core/generic.py:2773: SettingWithCopyWarning: \n",
      "A value is trying to be set on a copy of a slice from a DataFrame.\n",
      "Try using .loc[row_indexer,col_indexer] = value instead\n",
      "\n",
      "See the caveats in the documentation: http://pandas.pydata.org/pandas-docs/stable/indexing.html#indexing-view-versus-copy\n",
      "  self[name] = value\n"
     ]
    }
   ],
   "source": [
    "dfChlMups.date_time = pd.to_datetime(dfChlMups.date_time)"
   ]
  },
  {
   "cell_type": "code",
   "execution_count": 50,
   "metadata": {
    "collapsed": false
   },
   "outputs": [
    {
     "name": "stdout",
     "output_type": "stream",
     "text": [
      "<class 'pandas.core.frame.DataFrame'>\n",
      "RangeIndex: 59 entries, 0 to 58\n",
      "Data columns (total 12 columns):\n",
      "id                   59 non-null int64\n",
      "latitude             59 non-null float64\n",
      "longitude            59 non-null float64\n",
      "date_time            59 non-null datetime64[ns]\n",
      "cruise               59 non-null object\n",
      "seawifs_solz         59 non-null float64\n",
      "seawifs_senz         59 non-null float64\n",
      "seawifs_windspeed    59 non-null float64\n",
      "seawifs_tdiff        59 non-null int64\n",
      "mxBl2Gr              59 non-null float64\n",
      "insitu_chlor_a       59 non-null float64\n",
      "seawifs_chlor_a      59 non-null float64\n",
      "dtypes: datetime64[ns](1), float64(8), int64(2), object(1)\n",
      "memory usage: 5.6+ KB\n"
     ]
    }
   ],
   "source": [
    "dfChlMups.info()"
   ]
  },
  {
   "cell_type": "code",
   "execution_count": 57,
   "metadata": {
    "collapsed": false
   },
   "outputs": [
    {
     "name": "stderr",
     "output_type": "stream",
     "text": [
      "/home/madhatter106/anaconda3/lib/python3.5/site-packages/pandas/core/frame.py:2834: SettingWithCopyWarning: \n",
      "A value is trying to be set on a copy of a slice from a DataFrame\n",
      "\n",
      "See the caveats in the documentation: http://pandas.pydata.org/pandas-docs/stable/indexing.html#indexing-view-versus-copy\n",
      "  **kwargs)\n"
     ]
    }
   ],
   "source": [
    "dfChlMups.rename(columns={'mxBl2Gr':'seawifs_mxBl2Gr'}, inplace=True)"
   ]
  },
  {
   "cell_type": "code",
   "execution_count": 58,
   "metadata": {
    "collapsed": false
   },
   "outputs": [
    {
     "name": "stdout",
     "output_type": "stream",
     "text": [
      "<class 'pandas.core.frame.DataFrame'>\n",
      "RangeIndex: 59 entries, 0 to 58\n",
      "Data columns (total 12 columns):\n",
      "id                   59 non-null int64\n",
      "latitude             59 non-null float64\n",
      "longitude            59 non-null float64\n",
      "date_time            59 non-null datetime64[ns]\n",
      "cruise               59 non-null object\n",
      "seawifs_solz         59 non-null float64\n",
      "seawifs_senz         59 non-null float64\n",
      "seawifs_windspeed    59 non-null float64\n",
      "seawifs_tdiff        59 non-null int64\n",
      "seawifs_mxBl2Gr      59 non-null float64\n",
      "insitu_chlor_a       59 non-null float64\n",
      "seawifs_chlor_a      59 non-null float64\n",
      "dtypes: datetime64[ns](1), float64(8), int64(2), object(1)\n",
      "memory usage: 5.6+ KB\n"
     ]
    }
   ],
   "source": [
    "dfChlMups.info()"
   ]
  },
  {
   "cell_type": "code",
   "execution_count": 59,
   "metadata": {
    "collapsed": true
   },
   "outputs": [],
   "source": [
    "dfChlMups.to_pickle('./dfSwfChloraMups2010p.pkl')"
   ]
  },
  {
   "cell_type": "code",
   "execution_count": null,
   "metadata": {
    "collapsed": true
   },
   "outputs": [],
   "source": []
  }
 ],
 "metadata": {
  "anaconda-cloud": {},
  "kernelspec": {
   "display_name": "Python [conda root]",
   "language": "python",
   "name": "conda-root-py"
  },
  "language_info": {
   "codemirror_mode": {
    "name": "ipython",
    "version": 3
   },
   "file_extension": ".py",
   "mimetype": "text/x-python",
   "name": "python",
   "nbconvert_exporter": "python",
   "pygments_lexer": "ipython3",
   "version": "3.5.2"
  }
 },
 "nbformat": 4,
 "nbformat_minor": 1
}
