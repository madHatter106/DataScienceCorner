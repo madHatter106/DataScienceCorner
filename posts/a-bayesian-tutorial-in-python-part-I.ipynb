{
 "cells": [
  {
   "cell_type": "markdown",
   "metadata": {},
   "source": [
    "# <center><u><u>Bayesian Modeling for the Busy and the Confused - Part I</u></u></center>\n",
    "## <center><i>Basic Principles of Bayesian Computation and the Grid Approximation</i><center>\n",
    "Currently, the capacity to gather data is far ahead of the ability to generate meaningful insight using conventional approaches. Hopes of alleviating this bottleneck has come through the application of machine learning tools. Among these tools one that is increasingly garnering traction is probabilistic programming, particularly Bayesian modeling. In this paradigm, variables that are used to define models carry a probabilistic distribution rather than a scalar value. \"Fitting\" a model to data can then , simplistically, be construed as finding the appropriate parameterization for these distributions, given the model structure and the data. This offers a number of advantages over other methods, not the least of which is the estimation of uncertainty around model results. This in turn can better inform subsequent processes, such as decision-making, and/or scientific discovery.\n",
    "<br><br>\n",
    "<u>Part-I overview</u>:\n",
    "The present is the first of a two-notebook series, the subject of which is a brief, basic, but hands-on programmatic introduction to Bayesian modeling. This first notebook begins with an overview of a few key probability principles relevant to Bayesian inference.  An illustration of how to put these in practice follows. In particular, I will demonstrate one of the more intuitve approaches to Bayesian computation; Grid Approximation (GA). With this framework I will show how to create simple models that can be used to interpret and predict real world data. <br>\n",
    "<u>Part-II overview</u>:\n",
    "GA is computationally intensive and runs into problems quickly when the data set is large and/or the model increases in complexity. One of the more popular solutions to this problem is the Markov Chain Monte-Carlo (MCMC) algorithm. The implementation of MCMC in Bayesian models will be the subject of the [second notebook of this series]().\n",
    "\n",
    "<br>\n",
    "<u>Hands-on approach with Python</u>:\n",
    "Bayesian modeling cannot be understood without practice. To that end, this notebook uses code snippets that should be iteratively modified and run for better insight.\n",
    "As of this writing the most popular programming language in machine learning is Python. Python is an easy language to pickup. Python is free, open source, and a large number of very useful libraries have been written over the years that have propelled it to its current place of prominence in a number of fields, in addition to machine learning.\n",
    "<br><br>\n",
    "I use Python (3.6+) code to illustrate the mechanics of Bayesian inference in lieu of lengthy explanations. I also use a number of dedicated Python libraries that shortens the code considerably. A solid understanding of Bayesian modeling cannot be spoon-fed and can only come from getting one's hands dirty.. Emphasis is therefore on readable reproducible code. This should ease the work the interested has to do to get some practice re-running the notebook  and experimenting with some of the coding and Bayesian modeling patterns presented. Some know-how is required regarding installing and running a Python distribution, the required libraries, and jupyter notebooks; this is easily gleaned from the internet. A popular option in the machine learning community is [Anaconda](https://www.anaconda.com/distribution)."
   ]
  },
  {
   "cell_type": "markdown",
   "metadata": {
    "slideshow": {
     "slide_type": "slide"
    }
   },
   "source": [
    "<a id='TOP'></a>\n",
    "\n",
    "## Notebook Contents\n",
    "\n",
    "\n",
    "1. [Basics: Joint probability, Inverse probability and Bayes' Theorem](#BASIC)\n",
    "2. [Example: Inferring the Statistical Distribution of Chlorophyll from Data](#JustCHL)\n",
    "    1. [Grid Approximation](#GRID)\n",
    "        1. [Impact of priors](#PriorImpact)\n",
    "        2. [Impact of data set size](#DataImpact)\n",
    "    2. [MCMC](#MCMC)\n",
    "    3. [PyMC3](#PyMC3)\n",
    "3. [Regression](#Reg)\n",
    "    1. [Data Preparation](#DataPrep)\n",
    "    2. [Regression in PyMC3](#RegPyMC3)\n",
    "    3. [Checking Priors](#PriorCheck)\n",
    "    4. [Model Fitting](#Mining)\n",
    "    5. [Flavors of Uncertainty](#UNC)\n",
    "4. [Final Comments](#Conclusion\n",
    "\n"
   ]
  },
  {
   "cell_type": "code",
   "execution_count": 2,
   "metadata": {},
   "outputs": [],
   "source": [
    "import pickle\n",
    "import warnings\n",
    "import sys\n",
    "\n",
    "import pandas as pd\n",
    "import numpy as np\n",
    "from scipy.stats import norm as gaussian, uniform\n",
    "\n",
    "import seaborn as sb\n",
    "import matplotlib.pyplot as pl\n",
    "from matplotlib import rcParams\n",
    "from matplotlib import ticker as mtick"
   ]
  },
  {
   "cell_type": "code",
   "execution_count": null,
   "metadata": {
    "slideshow": {
     "slide_type": "notes"
    }
   },
   "outputs": [],
   "source": [
    "print('Versions:')\n",
    "print('---------')\n",
    "print(f'python:  {sys.version.split(\"|\")[0]}')\n",
    "print(f'numpy:   {np.__version__}')\n",
    "print(f'pandas:  {pd.__version__}')\n",
    "print(f'seaborn: {sb.__version__}')"
   ]
  },
  {
   "cell_type": "code",
   "execution_count": null,
   "metadata": {
    "slideshow": {
     "slide_type": "skip"
    }
   },
   "outputs": [],
   "source": [
    "%matplotlib inline\n",
    "warnings.filterwarnings('ignore',  category=FutureWarning)"
   ]
  },
  {
   "cell_type": "markdown",
   "metadata": {
    "slideshow": {
     "slide_type": "fragment"
    }
   },
   "source": [
    "<a id='BASIC'></a>\n",
    "[Back to Contents](#TOP)\n",
    "\n",
    "## 1. <u>Basics</u>:\n",
    "\n",
    "#### $\\Rightarrow$Joint probability, Inverse probability and Bayes'  rule\n",
    "<br>\n",
    "Here's a circumspect list of basic concepts that will help understand what is going on:\n",
    "\n",
    "* Joint probability of two events $A$, $B$:\n",
    "$$P(A, B)=P(A|B)\\times P(B)=P(B|A)\\times P(A)$$\n",
    "\n",
    "* If A and B are independent: $$P(A|B) = P(A)\\ \\leftrightarrow P(A,B) = P(A)\\times P(B)$$\n",
    "\n",
    "* Inverse probability:$$\\boxed{P(A|B) = \\frac{P(B|A) \\times P(A)}{P(B)}}$$ \n",
    "\n",
    "$\\rightarrow$Inverse probability is handy when $P(A|B)$ is desired but hard to compute, but its counterpart, $P(B|A)$ is easy to compute. The result above which is derived directly from the joint probability formulation above, is referred to as Bayes' theorem/rule. One might ask next, how this is used to build a \"Bayesian model.\"\n",
    "\n",
    "#### $\\Rightarrow$Extending Bayes' theorem to model building\n",
    "<br>\n",
    "Given a model:\n",
    "\n",
    "* Hypotheses (\\\\(H\\\\)): values that model parameters can take\n",
    "* \\\\( P(H) \\\\): probability of each value in H\n",
    "* Data (\\\\( D \\\\))\n",
    "* \\\\( P(D) \\\\): probability of the data, commonly referred to as \"Evidence.\"\n",
    "\n",
    "Approach \n",
    "* formulate initial opinion on what $H$ might include and with what probability, $P(H)$\n",
    "* collect data ($D$) \n",
    "* update $P(H)$ using $D$ and Bayes' theorem\n",
    "\n",
    "$$\\frac{P(H)\\times P(D|H)}{P(D)} = P(H|D)$$\n",
    "\n",
    "Computing the \"Evidence\", P(D), can yield intractable integrals to solve. Fortunately, it turns out that we can approximate the posterior, and give those integrals a wide berth. Hereafter, P(D), will be considered a normalization constant and will therefore be dropped; without prejudice, as it turns out.<br><br>\n",
    "$$\\boxed{P(H) \\times P(D|H) \\propto P(H|D)}$$\n",
    "\n",
    "\n",
    "Note that what we care about is updating H, model parameters, after evaluating some observations.\n",
    "Let's go over each of the elements of this proportionality statement."
   ]
  },
  {
   "cell_type": "markdown",
   "metadata": {
    "slideshow": {
     "slide_type": "subslide"
    }
   },
   "source": [
    "#### The prior\n",
    "$$\\underline{P(H)}\\times P(D|H) \\propto P(H|D)$$\n",
    "\n",
    "* $H$: set of values that model parameters might take with corresponding probability $P(H)$.\n",
    "* Priors should encompass justifiable assumptions/context information and nothing more.\n",
    "* We can use probability distributions to express $P(H)$ as shown below."
   ]
  },
  {
   "cell_type": "markdown",
   "metadata": {
    "slideshow": {
     "slide_type": "subslide"
    }
   },
   "source": [
    "#### The likelihood\n",
    "\n",
    "$$P(H)\\times \\underline{P(D|H)} \\propto  P(H|D)$$\n",
    "\n",
    "\n",
    "* probability of the data, \\\\(D\\\\), *given* \\\\(H\\\\).\n",
    "* in the frequentist framework, this quantity is maximized to find the \"best\" fit \\\\(\\rightarrow\\\\) Likelihood Maximization.\n",
    "    * maximizing the likelihood means finding a particular value for H, \\\\(\\hat{H}\\\\).\n",
    "    * for simple models and uninformative priors, \\\\(\\hat{H}\\\\) often corresponds to the mode of the Bayesian posterior (see below).\n",
    "    * likelihood maximization discards a lot of potentially valuable information (the posterior)."
   ]
  },
  {
   "cell_type": "markdown",
   "metadata": {
    "slideshow": {
     "slide_type": "skip"
    }
   },
   "source": [
    "#### The posterior:\n",
    "\n",
    "$$P(H)\\times P(D|H) \\propto \\underline{P(H|D)}$$\n",
    "\n",
    "\n",
    "* it's what Bayesians are after!!!\n",
    "* updated probability of \\\\(H\\\\) after exposing the model to \\\\(D\\\\).\n",
    "* used as prior for next iteration \\\\(P(H|D)\\rightarrow P(H)\\\\), when new data become available.\n",
    "* $P(H|D)$ naturally yields uncertainty around the estimate via propagation.\n",
    "\n",
    "\n",
    "In the next section I will attempt to illustrate the mechanics of Bayesian inference on real-world data.\n",
    "\n",
    "[Back to Contents](#TOP)"
   ]
  },
  {
   "cell_type": "markdown",
   "metadata": {
    "slideshow": {
     "slide_type": "subslide"
    }
   },
   "source": [
    "<a id='JustCHL'></a>\n",
    "## 2. <u>Bayesian \"Hello World\": Inferring the Statistical Distribution of Chlorophyll</u>\n",
    "<p>\n",
    "   The goal of Bayesian modeling is to approximate the process that generated a set of outcomes observed. Often, a set of input observations can be used to modify the expected outcome via a deterministic model expression. In a first instance,  neither input observations nor deterministic expression are included. Only the set of outcomes is of concern here and the model is reduced to a probability assignment, using a simple statistical distribution. <br>\n",
    "    For the present example the outcome of interest are some chlorophyll measurements. Assuming that the process generating these observations can be approximated, <u>after log-transformation of the data</u>, by a Gaussian distribution, the scalar parameters of which are not expected to vary. The goal is to the range of values these parameters - a constant central tendency, \\\\(\\mu\\\\), and a constant spread \\\\(\\sigma\\\\) - could take. Note that this example, while not realistic, is intended to help build intuition. Further down the road, the use of inputs and deterministic models will be introduced with linear regression as example.</p>\n",
    "\n",
    "</p>   I will contrast two major approaches. <u>Grid computation</u>, and <u>Markov Chain Monte-Carlo</u>.  Note in both methods, , as mentioned earlier, the evidence \\\\(P(D)\\\\) is ignored. In both cases, relative probabilities are computed and subsequently normalized so as to add to 1.</p>\n",
    "\n",
    "### A. Grid Computation\n",
    "\n",
    "In grid-based inference, all the possible parameter combinations to infer upon are fixed before hand, through the building of a grid. This grid is made of as many dimensions as there are parameter to the model of interest. The user needs to define a range and a resolution for each dimension. This choice depends on the computing power available, and the requirements of the problem at hand.I will illustrate that as the model complexity increases, along with the number of parameters featured, the [curse of dimensionality](https://en.wikipedia.org/wiki/Curse_of_dimensionality) can quickly take hold and limit the usefulness of this approach.\n",
    "\n",
    "Given a set of ranges and a resolutions for the grid's dimension, each grid point \"stores\" the joint probability of the corresponding parameter values. Initially the grid is populated by the stipulation of prior probabilities that should encode what is deemed to be \"reasonable\" by the practitioner. These priors can diverge between individual users. This is not a problem however as it makes assumptions - and therefore ground for disagreement - explicit and specific. As these priors are confronted to a relatively (usually to the model complexity) large amount of data, initially diverging priors tend to converge.\n",
    "\n",
    "Given our model is a Gaussian distribution, our set of hypotheses (\\\\(H\\\\) in the previous section) includes 2 vectors; a mean \\\\(\\mu\\\\) and a standard deviation \\\\(\\sigma\\\\). The next couple of lines of code defines the corresponding two axes of a \\\\(200 \\times 200\\\\) grid, and include the range of the axes, and by extension, their resolution. "
   ]
  },
  {
   "cell_type": "code",
   "execution_count": 4,
   "metadata": {
    "slideshow": {
     "slide_type": "fragment"
    }
   },
   "outputs": [],
   "source": [
    "μ = np.linspace(-2, 2, num=200) # μ-axis\n",
    "σ = np.linspace(0, 2, num=200) # σ-axis"
   ]
  },
  {
   "cell_type": "markdown",
   "metadata": {},
   "source": [
    "For ease of manipulation I will use a [pandas DataFrame](), which at first sight looks deceivingly like a 'lame' spreadsheet, to store the grid coordinates. I use this dataframe to subsequently store the prior definitions, and the results of likelihood and posterior computation at each grid point. Here's the code that defines the DataFrame, named and populates the first two columns \\\\(\\mu\\\\) and \\\\(\\sigma\\\\)."
   ]
  },
  {
   "cell_type": "code",
   "execution_count": 5,
   "metadata": {
    "slideshow": {
     "slide_type": "fragment"
    }
   },
   "outputs": [],
   "source": [
    "df_grid = pd.DataFrame([[μ_i, σ_i]\n",
    "                        for σ_i in σ for μ_i in μ], columns=['μ', 'σ'])"
   ]
  },
  {
   "cell_type": "markdown",
   "metadata": {},
   "source": [
    "Accessing say the column **\\\\(\\mu\\\\)** is as simple as typing: ***df\\_grid.\\\\(\\mu\\\\)***\n",
    "#### Priors\n",
    "\n",
    "The next step is to define the priors for both **\\\\(\\mu\\\\)** and **\\\\(\\sigma\\\\)** that encodes what the user's knowledge, or more commonly her or his lack thereof. Principles guiding the choice of priors are beyond the scope of this post. For no other reason than what seems to make sense. In this case, chlorophyll is expected to be log-transformed, so \\\\(\\mu\\\\) should range within a few digits north and south of '0', and \\\\(\\sigma\\\\) should be positive, and not expected to range beyond a few orders of magnitude. Thus a normal distribution for \\\\(\\mu\\\\) and a uniform distribution for \\\\(\\sigma\\\\) parameterized as below seems to make sense: <br>\n",
    "\\\\(\\rightarrow \\mu \\sim \\mathcal{N}(mean=1, st.dev.=1)\\\\); a gaussian (normal) distribution centered at 1, with an standard deviation of 1<br>\n",
    "\\\\(\\rightarrow \\sigma \\sim \\mathcal{U}(lo=0, high=2)\\\\); a uniform distribution bounded at 0 and 2<br>\n",
    "\n",
    "Note that these are specified independently because \\\\(\\mu\\\\) and \\\\(\\sigma\\\\) are assumed independent.\n",
    "The code below computes the probability for each \\\\(\\mu\\\\) and \\\\(\\sigma\\\\) values;"
   ]
  },
  {
   "cell_type": "markdown",
   "metadata": {
    "slideshow": {
     "slide_type": "subslide"
    }
   },
   "source": [
    "The lines below show how to pass the grid defined above to the scipy.stats distribution functions to compute the prior at each grid point."
   ]
  },
  {
   "cell_type": "code",
   "execution_count": 7,
   "metadata": {
    "slideshow": {
     "slide_type": "fragment"
    }
   },
   "outputs": [],
   "source": [
    "μ_log_prior = gaussian.logpdf(df_grid.μ, 1, 1)\n",
    "σ_log_prior = uniform.logpdf(df_grid.σ, 0, 2)"
   ]
  },
  {
   "cell_type": "markdown",
   "metadata": {
    "slideshow": {
     "slide_type": "fragment"
    }
   },
   "source": [
    "Note that the code above computes the log (prior) probability of each parameter at each grid point. Because the parameters \\\\(\\mu\\\\) and \\\\(\\sigma\\\\) are assumed independent, the joint prior probability at each grid point is just the product the individual prior probability. Products of probabilities can result in underflow errors. Log-transformed probabilities can be summed and exponentiated to compute joint probabilities of the entire grid can be computed by summing log probabilities followed by taking the exponent of the result. I store both the joint log-probability and the log-probability at each grid point in the pandas dataframe with the code snippet below:"
   ]
  },
  {
   "cell_type": "code",
   "execution_count": 8,
   "metadata": {
    "slideshow": {
     "slide_type": "fragment"
    }
   },
   "outputs": [],
   "source": [
    "# log prior probability\n",
    "df_grid['log_prior_prob'] = μ_log_prior + σ_log_prior\n",
    "# straight prior probability from exponentiation of log_prior_prob\n",
    "df_grid['prior_prob'] = np.exp(df_grid.log_prior_prob\n",
    "                                - df_grid.log_prior_prob.max())"
   ]
  },
  {
   "cell_type": "markdown",
   "metadata": {},
   "source": [
    "Since there are only two parameters, visualizing the joint prior probability is straighforward:"
   ]
  },
  {
   "cell_type": "code",
   "execution_count": 11,
   "metadata": {
    "slideshow": {
     "slide_type": "fragment"
    }
   },
   "outputs": [
    {
     "data": {
      "image/png": "[encoded data removed]",
      "text/plain": [
       "<Figure size 504x432 with 2 Axes>"
      ]
     },
     "metadata": {
      "needs_background": "light"
     },
     "output_type": "display_data"
    }
   ],
   "source": [
    "f, ax = pl.subplots(figsize=(6, 6))\n",
    "df_grid.plot.hexbin(x='μ', y='σ', C='prior_prob', figsize=(7,6),\n",
    "                    cmap='plasma', sharex=False, ax=ax);\n",
    "ax.set_title('Prior')\n",
    "f.savefig('./resources/f1_grid_prior.svg')"
   ]
  },
  {
   "cell_type": "markdown",
   "metadata": {
    "slideshow": {
     "slide_type": "subslide"
    }
   },
   "source": [
    "In the figure above looking across the \\\\(\\sigma\\\\)-axis reveals the 'wall' of uniform probability where none of the positive values, bounded here between 0 and 2.0, is expected to be more likely. Looking down the \\\\(\\mu\\\\)-axis, on the other hand, reveals the gaussian peak around 1, within a grid of floats extending from -2.0 to 2.0. \n",
    "Once priors have been defined, the model is ready to be fed some data. The *chl_* loaded earlier had several thousand observations. Because grid approximation is computationally intensive, I'll only pick a handful of data. For reasons discussed further below, this will enable the comparison of the effects different priors can have on the final result.\n",
    "I'll start by selecting 10 observations. "
   ]
  },
  {
   "cell_type": "markdown",
   "metadata": {
    "slideshow": {
     "slide_type": "subslide"
    }
   },
   "source": [
    "<a id='GRID'></a>\n",
    "#### Building the Grid"
   ]
  },
  {
   "cell_type": "markdown",
   "metadata": {
    "slideshow": {
     "slide_type": "subslide"
    }
   },
   "source": [
    "For this example I simply want to approximate the distribution of *chl_l* following these steps: \n",
    "\n",
    "* Define a model to approximate the process that generates the observations\n",
    "    * Theory: data generation is well approximated by a Gaussian.\n",
    "    * Hypotheses (\\\\(H\\\\)) therefore include 2 vectors; mean \\\\(\\mu\\\\) and standard deviation \\\\(\\sigma\\\\).\n",
    "    * Both parameters are expected to vary within a certain range.\n",
    "* Build the grid of model parameters\n",
    "    * 2D grid of \\\\((\\mu, \\sigma)\\\\) pair\n",
    "* Propose priors\n",
    "    * define priors for both \\\\(\\mu\\\\) and \\\\(\\sigma\\\\)\n",
    "* Compute likelihood\n",
    "* Compute posterior"
   ]
  },
  {
   "cell_type": "markdown",
   "metadata": {
    "slideshow": {
     "slide_type": "subslide"
    }
   },
   "source": [
    "First, I load data stored in a pandas dataframe that contains among other things, log-transformed phytoplankton chlorophyll (*chl_l*) values measured during oceanographic cruises around the world."
   ]
  },
  {
   "cell_type": "code",
   "execution_count": null,
   "metadata": {
    "slideshow": {
     "slide_type": "skip"
    }
   },
   "outputs": [],
   "source": [
    "df_data = pd.read_pickle('./pickleJar/df_logMxBlues.pkl')"
   ]
  },
  {
   "cell_type": "code",
   "execution_count": null,
   "metadata": {
    "slideshow": {
     "slide_type": "skip"
    }
   },
   "outputs": [],
   "source": [
    "df_data[['MxBl-Gr', 'chl_l']].info()"
   ]
  },
  {
   "cell_type": "markdown",
   "metadata": {},
   "source": [
    "here are two columns. *MxBl-Gr* is a blue-to-green ratio that will serve as predictor of chlorophyll when I address regression. For now, *MxBl-Gr* is ignored, only *chl_l* is of interest. Here is what the distribution of *chl_l*, smoothed by kernel density estimation, looks like:"
   ]
  },
  {
   "cell_type": "code",
   "execution_count": null,
   "metadata": {
    "slideshow": {
     "slide_type": "skip"
    }
   },
   "outputs": [],
   "source": [
    "f, ax = pl.subplots(figsize=(4,4))\n",
    "sb.kdeplot(df_data.chl_l, ax=ax, legend=False);\n",
    "ax.set_xlabel('chl_l');\n",
    "f.tight_layout()\n",
    "f.savefig('./figJar/Presentation/fig1_chl.svg', dpi=300, format='svg')"
   ]
  },
  {
   "cell_type": "markdown",
   "metadata": {},
   "source": [
    "... and here is what it looks like."
   ]
  },
  {
   "cell_type": "code",
   "execution_count": null,
   "metadata": {
    "slideshow": {
     "slide_type": "fragment"
    }
   },
   "outputs": [],
   "source": [
    "print(df_grid.shape)\n",
    "df_grid.head(7)"
   ]
  },
  {
   "cell_type": "markdown",
   "metadata": {
    "slideshow": {
     "slide_type": "subslide"
    }
   },
   "source": [
    "In the figure above looking down the \\\\(\\sigma\\\\)-axis shows the 'wall' of uniform probability where none of the positive values, capped here at 2.0 has is expected to be more likely. Looking down the \\\\(\\mu\\\\)-axis, on the other hand, reveals the gaussian peak around 1, within a grid of floats extending from -2.0 to 2.0. \n",
    "Once priors have been defined, the model is ready to be fed some data. The *chl_* loaded earlier had several thousand observations. Because grid approximation is computationally intensive, I'll only pick a handful of data. For reasons discussed further below, this will enable the comparison of the effects different priors can have on the final result.\n",
    "I'll start by selecting 10 observations. "
   ]
  },
  {
   "cell_type": "code",
   "execution_count": null,
   "metadata": {
    "slideshow": {
     "slide_type": "fragment"
    }
   },
   "outputs": [],
   "source": [
    "sample_N = 10\n",
    "df_data_s = df_data.dropna().sample(n=sample_N)"
   ]
  },
  {
   "cell_type": "code",
   "execution_count": null,
   "metadata": {
    "slideshow": {
     "slide_type": "skip"
    }
   },
   "outputs": [],
   "source": [
    "g = sb.PairGrid(df_data_s.loc[:,['MxBl-Gr', 'chl_l']],\n",
    "                diag_sharey=False)\n",
    "g.map_diag(sb.kdeplot, )\n",
    "g.map_offdiag(sb.scatterplot, alpha=0.75, edgecolor='k');\n",
    "make_lower_triangle(g)\n",
    "g.axes[1,0].set_ylabel(r'$log_{10}(chl)$');\n",
    "g.axes[1,1].set_xlabel(r'$log_{10}(chl)$');"
   ]
  },
  {
   "cell_type": "markdown",
   "metadata": {
    "slideshow": {
     "slide_type": "subslide"
    }
   },
   "source": [
    "Compute Log-Likelihood of the data given every  pair \\\\( ( \\mu ,\\sigma)\\\\). This is done by summing the log-probability of each datapoint, given each grid point; i.e. each \\\\((\\mu, \\sigma)\\\\) pair."
   ]
  },
  {
   "cell_type": "code",
   "execution_count": null,
   "metadata": {
    "slideshow": {
     "slide_type": "fragment"
    }
   },
   "outputs": [],
   "source": [
    "df_grid['LL'] = np.sum(norm.logpdf(df_data_s.chl_l.values.reshape(1, -1),\n",
    "                                    loc=df_grid.μ.values.reshape(-1, 1),\n",
    "                                    scale=df_grid.σ.values.reshape(-1, 1)\n",
    "                                   ), axis=1)"
   ]
  },
  {
   "cell_type": "markdown",
   "metadata": {
    "slideshow": {
     "slide_type": "subslide"
    }
   },
   "source": [
    "#### Compute Posterior $P(\\mu,\\sigma\\ | data) \\propto P(data | \\mu, \\sigma) \\times P(\\mu, \\sigma)$"
   ]
  },
  {
   "cell_type": "code",
   "execution_count": null,
   "metadata": {
    "slideshow": {
     "slide_type": "fragment"
    }
   },
   "outputs": [],
   "source": [
    "# compute log-probability\n",
    "df_grid['log_post_prob'] = df_grid.LL + df_grid.log_prior_prob\n",
    "# convert to straight prob.\n",
    "df_grid['post_prob'] = np.exp(df_grid.log_post_prob\n",
    "                               - df_grid.log_post_prob.max())"
   ]
  },
  {
   "cell_type": "code",
   "execution_count": null,
   "metadata": {
    "scrolled": false,
    "slideshow": {
     "slide_type": "skip"
    }
   },
   "outputs": [],
   "source": [
    "# Plot Multi-Dimensional Prior and Posterior\n",
    "f, ax = pl.subplots(ncols=2, figsize=(12, 5), sharey=True)\n",
    "df_grid.plot.hexbin(x='μ', y='σ', C='prior_prob',\n",
    "                    cmap='plasma', sharex=False, ax=ax[0])\n",
    "df_grid.plot.hexbin(x='μ', y='σ', C='post_prob',\n",
    "                     cmap='plasma', sharex=False, ax=ax[1]);\n",
    "ax[0].set_title('Prior Probability Distribution')\n",
    "ax[1].set_title('Posterior Probability Distribution')\n",
    "f.tight_layout()\n",
    "f.savefig('./figJar/Presentation/grid1.svg')"
   ]
  },
  {
   "cell_type": "markdown",
   "metadata": {},
   "source": [
    "<img src='./resources/grid1.svg'/>"
   ]
  },
  {
   "cell_type": "code",
   "execution_count": null,
   "metadata": {
    "slideshow": {
     "slide_type": "skip"
    }
   },
   "outputs": [],
   "source": [
    "# Compute Marginal Priors and Posteriors for each Parameter\n",
    "df_μ = df_grid.groupby(['μ']).sum().drop('σ', axis=1)[['prior_prob',\n",
    "                                                        'post_prob']\n",
    "                                                      ].reset_index()\n",
    "df_σ = df_grid.groupby(['σ']).sum().drop('μ', axis=1)[['prior_prob',\n",
    "                                                        'post_prob']\n",
    "                                                      ].reset_index() \n",
    "\n",
    "# Normalize Probability Distributions\n",
    "df_μ.prior_prob /= df_μ.prior_prob.max()\n",
    "df_μ.post_prob /= df_μ.post_prob.max()\n",
    "df_σ.prior_prob /= df_σ.prior_prob.max()\n",
    "df_σ.post_prob /= df_σ.post_prob.max()"
   ]
  },
  {
   "cell_type": "code",
   "execution_count": null,
   "metadata": {
    "slideshow": {
     "slide_type": "skip"
    }
   },
   "outputs": [],
   "source": [
    "#Plot Marginal Priors and Posteriors\n",
    "f, ax = pl.subplots(ncols=2, figsize=(12, 4))\n",
    "df_μ.plot(x='μ', y='prior_prob', ax=ax[0], label='prior');\n",
    "df_μ.plot(x='μ', y='post_prob', ax=ax[0], label='posterior')\n",
    "df_σ.plot(x='σ', y='prior_prob', ax=ax[1], label='prior')\n",
    "df_σ.plot(x='σ', y='post_prob', ax=ax[1], label='posterior');\n",
    "f.suptitle('Marginal Probability Distributions', fontsize=16);\n",
    "f.tight_layout(pad=2)\n",
    "f.savefig('./figJar/Presentation/grid2.svg')"
   ]
  },
  {
   "cell_type": "markdown",
   "metadata": {
    "slideshow": {
     "slide_type": "skip"
    }
   },
   "source": [
    "[Back to Contents](#TOP)\n",
    "<a id='PriorImpact'></a>"
   ]
  },
  {
   "cell_type": "markdown",
   "metadata": {
    "slideshow": {
     "slide_type": "subslide"
    }
   },
   "source": [
    "### Impact of Priors"
   ]
  },
  {
   "cell_type": "code",
   "execution_count": null,
   "metadata": {
    "slideshow": {
     "slide_type": "skip"
    }
   },
   "outputs": [],
   "source": [
    "def compute_bayes_framework(data, priors_dict):\n",
    "    # build grid:\n",
    "    μ = np.linspace(-2, 2, num=200)\n",
    "    σ = np.linspace(0, 2, num=200)\n",
    "    df_b = pd.DataFrame([[μ_i, σ_i] for σ_i in σ for μ_i in μ],\n",
    "                        columns=['μ', 'σ'])\n",
    "    # compute/store distributions\n",
    "    μ_prior = norm.logpdf(df_b.μ, priors_dict['μ_mean'],\n",
    "                          priors_dict['μ_sd'])\n",
    "    σ_prior = uniform.logpdf(df_b.σ, priors_dict['σ_lo'],\n",
    "                             priors_dict['σ_hi'])\n",
    "    # compute joint prior\n",
    "    df_b['log_prior_prob'] = μ_prior + σ_prior \n",
    "    df_b['prior_prob'] = np.exp(df_b.log_prior_prob\n",
    "                                    - df_b.log_prior_prob.max())\n",
    "    # compute log likelihood\n",
    "    df_b['LL'] = np.sum(norm.logpdf(data.chl_l.values.reshape(1, -1),\n",
    "                                    loc=df_b.μ.values.reshape(-1, 1),\n",
    "                                    scale=df_b.σ.values.reshape(-1, 1)\n",
    "                                   ), axis=1)\n",
    "    # compute joint posterior\n",
    "    df_b['log_post_prob'] = df_b.LL + df_b.log_prior_prob\n",
    "    df_b['post_prob'] = np.exp(df_b.log_post_prob\n",
    "                               - df_b.log_post_prob.max())\n",
    "    return df_b\n",
    "\n",
    "\n",
    "def plot_posterior(df_, ax1, ax2):\n",
    "    df_.plot.hexbin(x='μ', y='σ', C='prior_prob',\n",
    "                        cmap='plasma', sharex=False, ax=ax1)\n",
    "    df_.plot.hexbin(x='μ', y='σ', C='post_prob',\n",
    "                         cmap='plasma', sharex=False, ax=ax2);\n",
    "    ax1.set_title('Prior Probability Distribution')\n",
    "    ax2.set_title('Posterior Probability Distribution')\n",
    "    \n",
    "    \n",
    "def plot_marginals(df_, ax1, ax2, plot_prior=True):\n",
    "    \"\"\"Compute marginal posterior distributions.\"\"\"\n",
    "    df_μ = df_.groupby(['μ']).sum().drop('σ',\n",
    "                                         axis=1)[['prior_prob',\n",
    "                                                  'post_prob']\n",
    "                                                ].reset_index()\n",
    "    df_σ = df_.groupby(['σ']).sum().drop('μ',\n",
    "                                         axis=1)[['prior_prob',\n",
    "                                                  'post_prob']\n",
    "                                                ].reset_index() \n",
    "    \n",
    "    # Normalize Probability Distributions\n",
    "    df_μ.prior_prob /= df_μ.prior_prob.max()\n",
    "    df_μ.post_prob /= df_μ.post_prob.max()\n",
    "    df_σ.prior_prob /= df_σ.prior_prob.max()\n",
    "    df_σ.post_prob /= df_σ.post_prob.max()\n",
    "\n",
    "    #Plot Marginal Priors and Posteriors\n",
    "    if plot_prior:\n",
    "        df_μ.plot(x='μ', y='prior_prob', ax=ax1, label='prior');\n",
    "        df_σ.plot(x='σ', y='prior_prob', ax=ax2, label='prior')\n",
    "    df_μ.plot(x='μ', y='post_prob', ax=ax1, label='posterior')\n",
    "    df_σ.plot(x='σ', y='post_prob', ax=ax2, label='posterior');"
   ]
  },
  {
   "cell_type": "markdown",
   "metadata": {
    "slideshow": {
     "slide_type": "subslide"
    }
   },
   "source": [
    "Try two priors:\n",
    "1. $\\mu \\sim \\mathcal{N}(1, 1)$, $\\sigma \\sim \\mathcal{U}(0, 2)$ - a weakly informative set of priors"
   ]
  },
  {
   "cell_type": "code",
   "execution_count": null,
   "metadata": {
    "slideshow": {
     "slide_type": "fragment"
    }
   },
   "outputs": [],
   "source": [
    "weak_prior=dict(μ_mean=1, μ_sd=1, σ_lo=0, σ_hi=2)\n",
    "df_grid_1 = compute_bayes_framework(df_data_s, priors_dict=weak_prior)"
   ]
  },
  {
   "cell_type": "code",
   "execution_count": null,
   "metadata": {
    "slideshow": {
     "slide_type": "skip"
    }
   },
   "outputs": [],
   "source": [
    "f , axp = pl.subplots(ncols=2, nrows=2, figsize=(12, 9))\n",
    "axp = axp.ravel()\n",
    "plot_posterior(df_grid_1, axp[0], axp[1])\n",
    "plot_marginals(df_grid_1, axp[2], axp[3])\n",
    "axp[2].legend(['weak prior', 'posterior'])\n",
    "axp[3].legend(['flat prior', 'posterior'])\n",
    "f.tight_layout()\n",
    "f.savefig('./figJar/Presentation/grid3.svg')"
   ]
  },
  {
   "cell_type": "markdown",
   "metadata": {
    "slideshow": {
     "slide_type": "fragment"
    }
   },
   "source": [
    "<img src=\"./resources/grid3.svg?modified=3\"/>"
   ]
  },
  {
   "cell_type": "markdown",
   "metadata": {
    "slideshow": {
     "slide_type": "subslide"
    }
   },
   "source": [
    "2. $\\mu \\sim \\mathcal{N}(-1.5, 0.1)$, $\\sigma \\sim \\mathcal{U}(0, 2)$ - a strongly informative prior"
   ]
  },
  {
   "cell_type": "code",
   "execution_count": null,
   "metadata": {
    "slideshow": {
     "slide_type": "fragment"
    }
   },
   "outputs": [],
   "source": [
    "strong_prior=dict(μ_mean=-1.5, μ_sd=.1, σ_lo=0, σ_hi=2)\n",
    "df_grid_2 = compute_bayes_framework(df_data_s, priors_dict=strong_prior)"
   ]
  },
  {
   "cell_type": "code",
   "execution_count": null,
   "metadata": {
    "slideshow": {
     "slide_type": "skip"
    }
   },
   "outputs": [],
   "source": [
    "f , axp = pl.subplots(ncols=2, nrows=2, figsize=(12, 9))\n",
    "axp = axp.ravel()\n",
    "plot_posterior(df_grid_2, axp[0], axp[1])\n",
    "plot_marginals(df_grid_2, axp[2], axp[3])\n",
    "axp[2].legend(['strong prior', 'posterior'])\n",
    "axp[3].legend(['flat prior', 'posterior'])\n",
    "f.tight_layout()\n",
    "f.savefig('./figJar/Presentation/grid4.svg')"
   ]
  },
  {
   "cell_type": "markdown",
   "metadata": {
    "slideshow": {
     "slide_type": "skip"
    }
   },
   "source": [
    "[Back to Contents](#TOP)\n",
    "<a id='DataImpact'></a>"
   ]
  },
  {
   "cell_type": "markdown",
   "metadata": {
    "slideshow": {
     "slide_type": "subslide"
    }
   },
   "source": [
    "### Impact of data set size\n",
    "* sub-sample size is now 500 samples,\n",
    "* same two priors used"
   ]
  },
  {
   "cell_type": "code",
   "execution_count": null,
   "metadata": {
    "slideshow": {
     "slide_type": "fragment"
    }
   },
   "outputs": [],
   "source": [
    "sample_N = 500\n",
    "\n",
    "# compute the inference dataframe\n",
    "df_data_s = df_data.dropna().sample(n=sample_N)"
   ]
  },
  {
   "cell_type": "code",
   "execution_count": null,
   "metadata": {
    "slideshow": {
     "slide_type": "skip"
    }
   },
   "outputs": [],
   "source": [
    "# display the new sub-sample\n",
    "g = sb.PairGrid(df_data_s.loc[:,['MxBl-Gr', 'chl_l']],\n",
    "                diag_sharey=False)\n",
    "g.map_diag(sb.kdeplot, )\n",
    "g.map_offdiag(sb.scatterplot, alpha=0.75, edgecolor='k');\n",
    "make_lower_triangle(g)\n",
    "g.axes[1,0].set_ylabel(r'$log_{10}(chl)$');\n",
    "g.axes[1,1].set_xlabel(r'$log_{10}(chl)$');"
   ]
  },
  {
   "cell_type": "code",
   "execution_count": null,
   "metadata": {
    "slideshow": {
     "slide_type": "subslide"
    }
   },
   "outputs": [],
   "source": [
    "%%time\n",
    "df_grid_3 = compute_bayes_framework(df_data_s, priors_dict=weak_prior)"
   ]
  },
  {
   "cell_type": "code",
   "execution_count": null,
   "metadata": {
    "slideshow": {
     "slide_type": "skip"
    }
   },
   "outputs": [],
   "source": [
    "f , axp = pl.subplots(ncols=2, nrows=2, figsize=(12, 9))\n",
    "axp = axp.ravel()\n",
    "plot_posterior(df_grid_3, axp[0], axp[1])\n",
    "plot_marginals(df_grid_3, axp[2], axp[3])\n",
    "axp[2].legend(['weak prior', 'posterior'])\n",
    "axp[3].legend(['flat prior', 'posterior'])\n",
    "f.tight_layout()\n",
    "f.savefig('./figJar/Presentation/grid5.svg')"
   ]
  },
  {
   "cell_type": "markdown",
   "metadata": {},
   "source": [
    "<img src=./resources/grid5.svg/>"
   ]
  },
  {
   "cell_type": "code",
   "execution_count": null,
   "metadata": {
    "slideshow": {
     "slide_type": "subslide"
    }
   },
   "outputs": [],
   "source": [
    "df_grid_4 = compute_bayes_framework(df_data_s, priors_dict=strong_prior)"
   ]
  },
  {
   "cell_type": "code",
   "execution_count": null,
   "metadata": {
    "slideshow": {
     "slide_type": "skip"
    }
   },
   "outputs": [],
   "source": [
    "f , axp = pl.subplots(ncols=2, nrows=2, figsize=(12, 9))\n",
    "axp = axp.ravel()\n",
    "plot_posterior(df_grid_4, axp[0], axp[1])\n",
    "plot_marginals(df_grid_4, axp[2], axp[3])\n",
    "axp[2].legend(['strong prior', 'posterior'])\n",
    "axp[3].legend(['flat prior', 'posterior'])\n",
    "f.tight_layout()\n",
    "f.savefig('./figJar/Presentation/grid6.svg')"
   ]
  },
  {
   "cell_type": "markdown",
   "metadata": {},
   "source": [
    "<img src=./resources/grid6.svg/>"
   ]
  },
  {
   "cell_type": "code",
   "execution_count": null,
   "metadata": {
    "slideshow": {
     "slide_type": "skip"
    }
   },
   "outputs": [],
   "source": [
    "f , axp = pl.subplots(ncols=2, nrows=2, figsize=(12, 8), sharey=True)\n",
    "axp = axp.ravel()\n",
    "plot_marginals(df_grid_3, axp[0], axp[1])\n",
    "plot_marginals(df_grid_4, axp[2], axp[3])\n",
    "axp[0].legend(['weak prior', 'posterior'])\n",
    "axp[1].legend(['flat prior', 'posterior'])\n",
    "axp[2].legend(['strong prior', 'posterior'])\n",
    "axp[3].legend(['flat prior', 'posterior'])\n",
    "f.tight_layout()\n",
    "f.savefig('./figJar/Presentation/grid7.svg')"
   ]
  },
  {
   "cell_type": "markdown",
   "metadata": {
    "slideshow": {
     "slide_type": "subslide"
    }
   },
   "source": [
    "***And using all the data?***"
   ]
  },
  {
   "cell_type": "code",
   "execution_count": null,
   "metadata": {
    "slideshow": {
     "slide_type": "subslide"
    }
   },
   "outputs": [],
   "source": [
    "%%time\n",
    "priors=dict(μ_mean=-1.5, μ_sd=.1, σ_lo=0, σ_hi=2)\n",
    "try:\n",
    "    df_grid_all_data= compute_bayes_framework(df_data, priors_dict=priors)\n",
    "except MemoryError:\n",
    "    print(\"OUT OF MEMORY!\")\n",
    "    print(\"--------------\")"
   ]
  },
  {
   "cell_type": "markdown",
   "metadata": {
    "slideshow": {
     "slide_type": "skip"
    }
   },
   "source": [
    "[Back to Contents](#TOP)\n",
    "<a id=\"Next\"></a>"
   ]
  }
 ],
 "metadata": {
  "kernelspec": {
   "display_name": "Python 3",
   "language": "python",
   "name": "python3"
  },
  "language_info": {
   "codemirror_mode": {
    "name": "ipython",
    "version": 3
   },
   "file_extension": ".py",
   "mimetype": "text/x-python",
   "name": "python",
   "nbconvert_exporter": "python",
   "pygments_lexer": "ipython3",
   "version": "3.7.3"
  },
  "nikola": {
   "category": "",
   "date": "2019-07-21 10:27:18 UTC-04:00",
   "description": "",
   "link": "",
   "slug": "a-bayesian-tutorial-in-python",
   "tags": "",
   "title": "A Bayesian Tutorial in Python",
   "type": "text"
  }
 },
 "nbformat": 4,
 "nbformat_minor": 2
}
