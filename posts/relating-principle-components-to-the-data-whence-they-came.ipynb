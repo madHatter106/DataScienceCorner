{
 "cells": [
  {
   "cell_type": "markdown",
   "metadata": {},
   "source": [
    "When preparing a dataset for machine learning, a common step is to reduce dimensions using [principal component analysis (PCA)](https://georgemdallas.wordpress.com/2013/10/30/principal-component-analysis-4-dummies-eigenvectors-eigenvalues-and-dimension-reduction/). This is often necessary when multi-collinearity is an issue. Multi-collinearity is often encountered in multi- and hyper-spectral satellite data, where individual channels do not add much information to that carried by their neighbors.\n",
    "\n",
    "Here I use data from the [Hyperspectral Imager for the Coastal Ocean (HICO)](http://hico.coas.oregonstate.edu/).\n"
   ]
  },
  {
   "cell_type": "code",
   "execution_count": 1,
   "metadata": {},
   "outputs": [
    {
     "name": "stderr",
     "output_type": "stream",
     "text": [
      "/accounts/ekarakoy/anaconda3/lib/python3.6/site-packages/cmocean/tools.py:76: MatplotlibDeprecationWarning: The is_string_like function was deprecated in version 2.1.\n",
      "  if not mpl.cbook.is_string_like(rgbin[0]):\n"
     ]
    }
   ],
   "source": [
    "import netCDF4 as nc\n",
    "import sys\n",
    "from sklearn.preprocessing import StandardScaler\n",
    "from sklearn.decomposition import PCA\n",
    "import xarray as xr\n",
    "import pandas as pd\n",
    "import os\n",
    "import matplotlib.pyplot as pl\n",
    "from matplotlib import rcParams\n",
    "import numpy as np\n",
    "from seaborn import heatmap\n",
    "import cmocean as cm"
   ]
  },
  {
   "cell_type": "code",
   "execution_count": 2,
   "metadata": {},
   "outputs": [
    {
     "name": "stdout",
     "output_type": "stream",
     "text": [
      "versions:\n",
      "python: 3.6.3 | packaged by conda-forge | (default, Oct  5 2017, 14:07:33) \n",
      "[GCC 4.8.2 20140120 (Red Hat 4.8.2-15)]\n",
      "nc: 1.3.0\n",
      "pd: 0.20.3\n",
      "xr: 0.9.6\n",
      "np: 1.13.3\n"
     ]
    }
   ],
   "source": [
    "print(\"versions:\")\n",
    "print(\"python: %s\" % sys.version)\n",
    "print(\"nc: %s\" % nc.__version__)\n",
    "print(\"pd: %s\" % pd.__version__)\n",
    "print(\"xr: %s\" % xr.__version__)\n",
    "print(\"np: %s\" % np.__version__)"
   ]
  },
  {
   "cell_type": "code",
   "execution_count": 3,
   "metadata": {
    "collapsed": true
   },
   "outputs": [],
   "source": [
    "% matplotlib inline"
   ]
  },
  {
   "cell_type": "code",
   "execution_count": 4,
   "metadata": {
    "collapsed": true
   },
   "outputs": [],
   "source": [
    "rcParams['xtick.labelsize'] = 14\n",
    "rcParams['ytick.labelsize'] = 14\n",
    "rcParams['axes.titlesize'] = 18\n",
    "rcParams['font.size'] = 14"
   ]
  },
  {
   "cell_type": "code",
   "execution_count": 5,
   "metadata": {
    "collapsed": true
   },
   "outputs": [],
   "source": [
    "def PlotPCARes(pca_machine, threshold=0.85, alpha=1):\n",
    "    \"\"\"This function plots PCA results\"\"\"\n",
    "    f, ax = pl.subplots(figsize=(12, 10))\n",
    "    #n = data.shape[1]\n",
    "    cum_expl_var = np.cumsum(pca_machine.explained_variance_ratio_)\n",
    "    num_pca_disp = np.argmax(cum_expl_var>0.999) + 1\n",
    "    \n",
    "    ax.bar(range(1, num_pca_disp+1),\n",
    "           pca_machine.explained_variance_ratio_[:num_pca_disp],\n",
    "           align='center', color='skyblue',\n",
    "          label='PC explained_variance');\n",
    "    ax.step(range(1, num_pca_disp+1),\n",
    "            np.cumsum(pca_machine.explained_variance_ratio_[:num_pca_disp]),\n",
    "            where='mid',\n",
    "           label='cumulated variance')\n",
    "    ax.hlines(threshold, 0, num_pca_disp+2, linestyles='--', linewidth=2,\n",
    "                 label='selection cutoff: %.2f' % threshold)\n",
    "    ax.set_xticks(np.arange(1, num_pca_disp+1))\n",
    "    ax.set_xticklabels(['PC%d' %i for i in range(1, num_pca_disp+1)],\n",
    "                       rotation=45)\n",
    "    ax.set_xlim((0, 1+num_pca_disp))\n",
    "    ax.set_ylim((0, 1))\n",
    "    ax.set_title('PCA Explained Variance')\n",
    "    ax.legend(loc='center right')\n",
    "    \n",
    "def PlotPCAvsFeatures(pca_data, df_features, num_pc=None, df_target=np.empty(0)):\n",
    "    if num_pc is None:\n",
    "        num_pc = pca_data.shape[1]\n",
    "    df_pca = pd.DataFrame(pca_data[:, :num_pc], columns=['PC%d' % (pci+1) for pci in range(num_pc)], index=df_features.index)\n",
    "    to_drop = df_features.columns.tolist()\n",
    "    if df_target.any().any():\n",
    "        df_feat_pca = pd.concat((df_features, df_target, df_pca), axis=1)\n",
    "        to_drop.extend(df_target.columns.tolist())\n",
    "    else:\n",
    "        df_feat_pca = pd.concat((df_features, df_pca), axis=1)\n",
    "    pca_corr = df_feat_pca.corr()\n",
    "    pca_corr.drop(to_drop, axis=0, inplace=True)\n",
    "    pca_corr.drop(df_pca.columns.tolist(), axis=1, inplace=True)\n",
    "    f, ax = pl.subplots(figsize=(len(to_drop), pc_num))\n",
    "    heatmap(pca_corr, ax=ax, annot=True, cmap=CM.balance, vmin=-1, vmax=1);\n",
    "    \n",
    "def ScaleAndPCA(df, visualize=True, var_threshold=0.95, alpha=0.6, verbose=True):\n",
    "    pca = PCA()\n",
    "    scaler = StandardScaler()\n",
    "    features = df.values\n",
    "    features_sc = scaler.fit_transform(features)\n",
    "    pca=PCA()\n",
    "    pcadata = pca.fit_transform(features_sc)\n",
    "    cum_expl_var = np.cumsum(pca.explained_variance_ratio_)\n",
    "    num_pca_thresh = np.argmax(cum_expl_var>var_threshold) + 1\n",
    "    if verbose:\n",
    "        print(\"explained variance, by PC\")\n",
    "        print(pca.explained_variance_)\n",
    "        print('-' * 80)\n",
    "        print(\"relative explained variance by PC\")\n",
    "        print(pca.explained_variance_ratio_)\n",
    "        print('-' * 80)\n",
    "    print(\"min. # of PCs accounting for req. var. thresh. (%.2f) requested %d\" \n",
    "          % (var_threshold, num_pca_thresh))\n",
    "    if visualize:\n",
    "        PlotPCARes(pca, threshold=var_threshold, alpha=alpha)\n",
    "    return scaler, pcadata, pca, num_pca_thresh"
   ]
  },
  {
   "cell_type": "markdown",
   "metadata": {},
   "source": [
    "Now to load the data. Below I gather reflectance data from 128 channels"
   ]
  },
  {
   "cell_type": "code",
   "execution_count": 6,
   "metadata": {
    "collapsed": true
   },
   "outputs": [],
   "source": [
    "HOME = os.getenv('HOME')\n",
    "fp = os.path.join(HOME,'DATA/HICO/L2_files/H2013019151817_1km.L2')"
   ]
  },
  {
   "cell_type": "code",
   "execution_count": 7,
   "metadata": {
    "collapsed": true
   },
   "outputs": [],
   "source": [
    "rrsDict = {}\n",
    "with nc.Dataset(fp) as ds:\n",
    "    gpv = ds.groups['geophysical_data'].variables\n",
    "    names = []\n",
    "    for name in gpv.keys():\n",
    "        if 'Rrs' in name:\n",
    "            rrsDict[name] = gpv[name][:].flatten()\n",
    "            names.append(name)\n",
    "\n",
    "df = pd.DataFrame(data=rrsDict)\n",
    "df_rrs_no_nans = df.dropna()"
   ]
  },
  {
   "cell_type": "markdown",
   "metadata": {},
   "source": [
    "Compute PCA and determine number of PC accounting for 95% of the variance:"
   ]
  },
  {
   "cell_type": "code",
   "execution_count": 8,
   "metadata": {},
   "outputs": [
    {
     "name": "stdout",
     "output_type": "stream",
     "text": [
      "min. # of PCs accounting for req. var. thresh. (0.95) requested 5\n"
     ]
    },
    {
     "data": {
      "image/png": "[encoded data removed]",
      "text/plain": [
       "<matplotlib.figure.Figure at 0x7f1c11187f28>"
      ]
     },
     "metadata": {},
     "output_type": "display_data"
    }
   ],
   "source": [
    "_, pca_data, pca_, pc_num = ScaleAndPCA(df_rrs_no_nans, var_threshold=0.95,\n",
    "                                            verbose=False)"
   ]
  },
  {
   "cell_type": "markdown",
   "metadata": {},
   "source": [
    "Now let's take a look at how the primary (as defined by pc_num, above) relate to the features they originate from. First trim the pca_data to retain the pc_num PCs and put them in a data frame, with appropriate labeling:"
   ]
  },
  {
   "cell_type": "code",
   "execution_count": 9,
   "metadata": {
    "collapsed": true
   },
   "outputs": [],
   "source": [
    "df_pca = pd.DataFrame(pca_data[:,:pc_num],\n",
    "                      columns=['PC%d' %(i+1) for i in range(pc_num)],\n",
    "                      index=df_rrs_no_nans.index)"
   ]
  },
  {
   "cell_type": "markdown",
   "metadata": {},
   "source": [
    "Merge the pca dataframe defined above with the rrs dataframe:"
   ]
  },
  {
   "cell_type": "code",
   "execution_count": 10,
   "metadata": {
    "collapsed": true
   },
   "outputs": [],
   "source": [
    "dfrrs_w_pca = pd.merge(df_pca, df_rrs_no_nans, 'outer',\n",
    "                        left_index=True,\n",
    "                        right_index=True)"
   ]
  },
  {
   "cell_type": "markdown",
   "metadata": {},
   "source": [
    "Compute dataframe pairwise (Pearson's) correlation. Remove Rrs labels from vertical and PC labels from the horizontal axes, and plot results with [seaborn's heatmap](https://seaborn.pydata.org/generated/seaborn.heatmap.html) colored with the \"balance\" color map from [cmocean](http://matplotlib.org/cmocean/). "
   ]
  },
  {
   "cell_type": "code",
   "execution_count": 11,
   "metadata": {},
   "outputs": [
    {
     "data": {
      "image/png": "[encoded data removed]",
      "text/plain": [
       "<matplotlib.figure.Figure at 0x7f1bb8d53e48>"
      ]
     },
     "metadata": {},
     "output_type": "display_data"
    }
   ],
   "source": [
    "corr_w_pca = dfrrs_w_pca.corr()\n",
    "corr_w_pca.drop(df_pca.columns, axis=1, inplace=True)\n",
    "corr_w_pca.drop(df_rrs_no_nans.columns, axis=0, inplace=True)\n",
    "f, ax = pl.subplots(figsize=(20, 5))\n",
    "heatmap(corr_w_pca, cmap=cm.cm.balance, vmin=-1, vmax=1, ax=ax);"
   ]
  },
  {
   "cell_type": "markdown",
   "metadata": {
    "collapsed": true
   },
   "source": [
    "So to hand-wavily summarize the graph above; \n",
    "* PC1 appears to originate mostly from green to short-wave IR, with an interesting reversal in the low blue bands;\n",
    "* PC2 seems to relate to the blue wavelengths;\n",
    "* PC3, has some positive relation to red/near IR and negative relation to higher bands; * PC4 relates to a few bands low in the UV; \n",
    "* PC5 points mosly in the higher near-IR.\n",
    "\n",
    "*Happy coding!*"
   ]
  }
 ],
 "metadata": {
  "kernelspec": {
   "display_name": "Python 3",
   "language": "python",
   "name": "python3"
  },
  "language_info": {
   "codemirror_mode": {
    "name": "ipython",
    "version": 3
   },
   "file_extension": ".py",
   "mimetype": "text/x-python",
   "name": "python",
   "nbconvert_exporter": "python",
   "pygments_lexer": "ipython3",
   "version": "3.6.3"
  },
  "nikola": {
   "category": "",
   "date": "2017-10-23 14:54:21 UTC-04:00",
   "description": "",
   "link": "",
   "slug": "relating-principle-components-to-the-data-whence-they-came",
   "tags": "",
   "title": "Relating Principle Components To The Data Whence They Came",
   "type": "text"
  }
 },
 "nbformat": 4,
 "nbformat_minor": 2
}
