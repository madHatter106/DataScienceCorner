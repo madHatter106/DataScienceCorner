{
 "cells": [
  {
   "cell_type": "markdown",
   "metadata": {},
   "source": [
    "This is a post written after [Frouin and Pelletier (2015)](http://genius.ucsd.edu/Papers/AC_Bayesian_RFBP.pdf)'s tutorial, with the goal of giving it a reproducible and shareable platform for experimentation of the concepts laid out. A lot of the text describing the model was lifted off verbatim from the paper refereced above.\n",
    "\n",
    "### Problem\n",
    "\n",
    "The inputs available are:\n",
    "\n",
    "* $L_{toa}$: radiance measured by satellite ocean color sensor at a given band\n",
    "* $F_s$: extraterrestrial solar irradiance (corrected for earth-sun distance)\n",
    "* $\\theta_s$: sun zenith angle\n",
    "\n",
    "Expressing $L_{toa}$ in terms of bidirectional reflectance yields:\n",
    "                $$\\rho_{toa} = \\pi \\frac{L_{toa}}{F_s cos(\\theta_s)}$$\n",
    "                \n",
    "Typically, $\\rho_{toa}$ is modeled as:\n",
    "\n",
    "$$\\rho_{toa} = T_g \\bigg[ \\rho_{mol} +\\rho_{aer} +\\rho_{mol-g} +\\rho_{aer-g} +\\rho_{mol-aer} + \\rho_gt_a + \\frac{T_a\\rho_f}{1 - S_a\\rho_f} + \\frac{T_a\\rho_w}{1-S_a\\rho_w} \\bigg] $$\n",
    "\n",
    "\n",
    "where, \n",
    "* $T_g$: gaseous transmittance; accounts for absorption of photons by\n",
    "    * nitrous oxide\n",
    "    * ozone\n",
    "    * oxygen\n",
    "    * water vapor\n",
    "* $\\rho_{mol}$: molecular reflectance\n",
    "    - accounts for multiple scattering of photons by molecules\n",
    "* $\\rho_{aer}$: aerosol reflectance\n",
    "    - accounts for multiple scattering of photons by molecules\n",
    "* $\\rho_{mol-g}$:\n",
    "    - accounts for interactions b/w molecules and photons reflected by a wavy surface\n",
    "* $\\rho_{aer-g}$:\n",
    "    - accounts for interactions b/w aerosols and photons reflected by a wavy surface\n",
    "* $\\rho_{mol-aer}$: \n",
    "    - accounts for coupling b/w scattering by molecules and scattering/absorption by aerosols\n",
    "* $\\rho_g$: sun glint reflectance\n",
    "* $t_a$: direct transmittance\n",
    "    - along the paths sun-to-surface & surface-to-sensor\n",
    "* $T_a$: total (direct + diffuse) transmittance\n",
    "    - along the paths sun-to-surface & surface-to-sensor\n",
    "* $\\rho_f$: backscattering of photons by whitecaps\n",
    "* $S_a$: spherical albedo of atmosphere\n",
    "    - accounts for successive photon interactions with the surface, the atmosphere, and the surface again\n",
    "* $\\rho_w$: water reflectance\n",
    "    - accounts for photons backscattered by the water body"
   ]
  },
  {
   "cell_type": "code",
   "execution_count": null,
   "metadata": {
    "collapsed": true
   },
   "outputs": [],
   "source": []
  }
 ],
 "metadata": {
  "kernelspec": {
   "display_name": "Python [default]",
   "language": "python",
   "name": "python3"
  },
  "language_info": {
   "codemirror_mode": {
    "name": "ipython",
    "version": 3
   },
   "file_extension": ".py",
   "mimetype": "text/x-python",
   "name": "python",
   "nbconvert_exporter": "python",
   "pygments_lexer": "ipython3",
   "version": "3.5.2"
  },
  "nikola": {
   "category": "",
   "date": "2017-02-20 10:40:26 UTC-05:00",
   "description": "",
   "link": "",
   "slug": "bayesian-atmospheric-correction-for-ocean-color",
   "tags": "draft",
   "title": "Bayesian Atmospheric Correction for Ocean Color",
   "type": "text"
  }
 },
 "nbformat": 4,
 "nbformat_minor": 2
}
