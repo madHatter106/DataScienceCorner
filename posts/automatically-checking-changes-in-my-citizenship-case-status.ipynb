{
 "cells": [
  {
   "cell_type": "markdown",
   "metadata": {},
   "source": [
    "I have currently applied for citizenship. It's a long process without a set schedule. So rather than waste time going to the website, enter my case number, navigate to the status page, and check if there is any change, I decided to automate the steps. So I wrote a cron job to check whether there was any changes to my status and if so to shoot me an e-mail.\n",
    "Here I leverage [SELENIUM](http://www.seleniumhq.org/projects/webdriver/), [BEAUTIFULSOUP](https://www.crummy.com/software/BeautifulSoup/), and [SMTPLIB](https://docs.python.org/3/library/smtplib.html) and [PYTHON-CRONTAB](https://pypi.python.org/pypi/python-crontab). \n",
    "\n",
    "Note that building my automaton requires scouting the pages it needs to navigate to identify the specific elements it needs to interact with; in this case only a handful.\n",
    "\n",
    "I use python 3.6.\n",
    "\n",
    "First the necessary imports..."
   ]
  },
  {
   "cell_type": "code",
   "execution_count": 1,
   "metadata": {
    "collapsed": true
   },
   "outputs": [],
   "source": [
    "from selenium import webdriver\n",
    "import pathlib\n",
    "import os\n",
    "from bs4 import BeautifulSoup as Soup\n",
    "from shutil import which"
   ]
  },
  {
   "cell_type": "markdown",
   "metadata": {},
   "source": [
    "The last step I went through in my process is an interview with a case officer. Thus the phrase that if altered on my status page should indicate a a change in my status is \"we scheduled an interview\". Let's first store that in a token..."
   ]
  },
  {
   "cell_type": "code",
   "execution_count": 2,
   "metadata": {
    "collapsed": true
   },
   "outputs": [],
   "source": [
    "token = 'we scheduled an interview'"
   ]
  },
  {
   "cell_type": "markdown",
   "metadata": {},
   "source": [
    "Here, I use [phantomjs](http://phantomjs.org/) to avoid the browser window. **phantompath** gives the location of phantomjs on my computer. If you prefer chromedriver [Miguel Grinberg (the Flask guy) has a recipe](https://blog.miguelgrinberg.com/post/using-headless-chrome-with-selenium) for the cost of a couple extra lines."
   ]
  },
  {
   "cell_type": "code",
   "execution_count": 3,
   "metadata": {},
   "outputs": [],
   "source": [
    "phantompath = which('phantomjs')\n",
    "browser = webdriver.PhantomJS(executable_path=phantompath)"
   ]
  },
  {
   "cell_type": "markdown",
   "metadata": {},
   "source": [
    "Navigate to the USCIS landing page..."
   ]
  },
  {
   "cell_type": "code",
   "execution_count": 4,
   "metadata": {
    "collapsed": true
   },
   "outputs": [],
   "source": [
    "browser.get('https://egov.uscis.gov/casestatus/landing.do')"
   ]
  },
  {
   "cell_type": "markdown",
   "metadata": {},
   "source": [
    "... find the input box to enter my case number, stored in the variable case_num..."
   ]
  },
  {
   "cell_type": "code",
   "execution_count": 5,
   "metadata": {},
   "outputs": [],
   "source": [
    "caseNo = browser.find_element_by_id('receipt_number')\n",
    "caseNo.send_keys(case_num)"
   ]
  },
  {
   "cell_type": "markdown",
   "metadata": {},
   "source": [
    "... find the button to initiate the lookup and click..."
   ]
  },
  {
   "cell_type": "code",
   "execution_count": 6,
   "metadata": {
    "collapsed": true
   },
   "outputs": [],
   "source": [
    "srchButtn = browser.find_element_by_name('initCaseSearch')\n",
    "srchButtn.click()"
   ]
  },
  {
   "cell_type": "markdown",
   "metadata": {},
   "source": [
    "... now we're on the status page, get the page source and parse it with BeautifulSoup"
   ]
  },
  {
   "cell_type": "code",
   "execution_count": 7,
   "metadata": {},
   "outputs": [],
   "source": [
    "pageSrc = browser.page_source\n",
    "pageSoup = Soup(pageSrc, 'lxml')"
   ]
  },
  {
   "cell_type": "markdown",
   "metadata": {},
   "source": [
    "... from inspecting the page source, I know that the text I'm looking for is under tag \"p\"..."
   ]
  },
  {
   "cell_type": "code",
   "execution_count": 8,
   "metadata": {},
   "outputs": [],
   "source": [
    "targetSection = pageSoup.find('p')"
   ]
  },
  {
   "cell_type": "markdown",
   "metadata": {},
   "source": [
    "... and is the first item yielded by the child of targetSection (a generator)..."
   ]
  },
  {
   "cell_type": "code",
   "execution_count": 9,
   "metadata": {},
   "outputs": [],
   "source": [
    "targeText = list(targetSection.children)[0]"
   ]
  },
  {
   "cell_type": "markdown",
   "metadata": {},
   "source": [
    "... sampling some of the text returns..."
   ]
  },
  {
   "cell_type": "code",
   "execution_count": 10,
   "metadata": {},
   "outputs": [
    {
     "data": {
      "text/plain": [
       "' we scheduled an interview for your Form N-400, Application for Naturalization ,'"
      ]
     },
     "execution_count": 10,
     "metadata": {},
     "output_type": "execute_result"
    }
   ],
   "source": [
    "targeText[20:100]"
   ]
  },
  {
   "cell_type": "markdown",
   "metadata": {},
   "source": [
    "... well, the status still reflects the interview, so nothing happens after this and the process goes back to sleep. However, the rest of the code shows the next steps in the case of change. Namely\n",
    "* craft message including the new status text\n",
    "* intantiate an SMTP object\n",
    "* call the SMTP object's sendmail method to send the email from/to the appropriate sender/receiver pair, in my case they are one and the same..."
   ]
  },
  {
   "cell_type": "code",
   "execution_count": 13,
   "metadata": {},
   "outputs": [],
   "source": [
    "if token not in targeText:\n",
    "    message = f'USCIS CASE UPDATE: \\n {targeText}'\n",
    "    try:\n",
    "        smtpObj = smtplib.SMTP('localhost')\n",
    "        smtpObj.sendmail(from_, to, message)\n",
    "    except SMTPException:\n",
    "        print(\"Problem sending email\")"
   ]
  },
  {
   "cell_type": "markdown",
   "metadata": {},
   "source": [
    "The full source code is available at the end of the page. I have saved in a file named **CheckCaseStatus.py**, which I will provide to my crontab as shown below. First import CronTab and instantiate a cron object."
   ]
  },
  {
   "cell_type": "code",
   "execution_count": 14,
   "metadata": {
    "collapsed": true
   },
   "outputs": [],
   "source": [
    "from crontab import CronTab\n",
    "\n",
    "myCron = CronTab(user=True)"
   ]
  },
  {
   "cell_type": "markdown",
   "metadata": {},
   "source": [
    "I'm the only user on my computer so it's easier to specify user=True, which then points to the current user. If needed, an actual username can be specified. Now add running the CheckCaseStatus.py as a new job to the cron instance..."
   ]
  },
  {
   "cell_type": "code",
   "execution_count": 15,
   "metadata": {
    "collapsed": true
   },
   "outputs": [],
   "source": [
    "runpath = os.path.join('~/DEV/MyCronJobs/CheckCaseStatus.py')"
   ]
  },
  {
   "cell_type": "code",
   "execution_count": 16,
   "metadata": {},
   "outputs": [],
   "source": [
    "job = myCron.new(command='python CheckCaseStatus.py')"
   ]
  },
  {
   "cell_type": "markdown",
   "metadata": {},
   "source": [
    "... set the running schedule - check for a change every 5 days - and save..."
   ]
  },
  {
   "cell_type": "code",
   "execution_count": 17,
   "metadata": {},
   "outputs": [],
   "source": [
    "job.day.every(5)\n",
    "myCron.write()"
   ]
  },
  {
   "cell_type": "code",
   "execution_count": null,
   "metadata": {},
   "outputs": [],
   "source": [
    "# CheckCaseStatus.py\n",
    "from selenium import webdriver\n",
    "import os\n",
    "from bs4 import BeautifulSoup as Soup\n",
    "import smtplib\n",
    "from shutil import which\n",
    "\n",
    "def check_uscis_page(caseNum, phantompath):\n",
    "    \"\"\"\n",
    "    opens uscis webpage in the background (phantomjs)\n",
    "    navigates to case status page (requires case number)\n",
    "    \"\"\"\n",
    "    browser = webdriver.PhantomJS(executable_path=phantompath)\n",
    "    browser.get('https://egov.uscis.gov/casestatus/landing.do')\n",
    "    caseNo = browser.find_element_by_id('receipt_number')\n",
    "    caseNo.send_keys(caseNum)\n",
    "    srchButtn = browser.find_element_by_name('initCaseSearch')\n",
    "    srchButtn.click()\n",
    "    pageSrc = browser.pageSource\n",
    "    pageSoup = Soup(pageSrc, 'lxml')\n",
    "    browser.close()\n",
    "    targetSection = pageSoup.find('p')\n",
    "    return list(targetSection.children)[0]\n",
    "\n",
    "def check_update(targeText, token):\n",
    "    if token in targeText:\n",
    "        return False\n",
    "    else:\n",
    "        return True\n",
    "\n",
    "def shoot_email(text, from_, to):\n",
    "    from_ = from_\n",
    "    to = [to]\n",
    "    message = f'USCIS CASE UPDATE: \\n {text}'\n",
    "    try:\n",
    "        smtpObj = smtplib.SMTP('localhost')\n",
    "        smtpObj.sendmail(from_, to, message)\n",
    "    except SMTPException:\n",
    "        print(\"Problem sending email\")\n",
    "\n",
    "if __name__ == '__main__':\n",
    "    myEmail = os.getenv('MYGMAIL')\n",
    "    case = os.getenv('USCIS_CASE_NO')\n",
    "    phantompath = which('phantomjs')   \n",
    "    retrievedText = check_uscis_page(case, phantompath)\n",
    "    if  check_update(retrievedText, 'we scheduled an interview'):\n",
    "        shoot_email(targeText, myEmail, myEmail) "
   ]
  },
  {
   "cell_type": "code",
   "execution_count": null,
   "metadata": {
    "collapsed": true
   },
   "outputs": [],
   "source": [
    "# CronScheduler.py\n",
    "from crontab import CronTab\n",
    "\n",
    "myCron = CronTab(user=True)\n",
    "job = myCron.new(command='python CheckCaseStatus.py')\n",
    "job.day.every(5)\n",
    "myCron.write()"
   ]
  },
  {
   "cell_type": "markdown",
   "metadata": {},
   "source": [
    "Done, and all that in 50 or so lines. The last thing left is to *python CronScheduler.py* to get the program going.  \n",
    "\n",
    "Happy hacking!"
   ]
  }
 ],
 "metadata": {
  "kernelspec": {
   "display_name": "Python 3",
   "language": "python",
   "name": "python3"
  },
  "language_info": {
   "codemirror_mode": {
    "name": "ipython",
    "version": 3
   },
   "file_extension": ".py",
   "mimetype": "text/x-python",
   "name": "python",
   "nbconvert_exporter": "python",
   "pygments_lexer": "ipython3",
   "version": "3.6.3"
  },
  "nikola": {
   "category": "",
   "date": "2017-12-13 15:40:58 UTC-05:00",
   "description": "",
   "link": "",
   "slug": "automatically-checking-changes-in-my-citizenship-case-status",
   "tags": "",
   "title": "Automatically Checking Changes in my Citizenship Case Status",
   "type": "text"
  }
 },
 "nbformat": 4,
 "nbformat_minor": 2
}
