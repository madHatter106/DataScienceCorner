{
 "cells": [
  {
   "cell_type": "markdown",
   "metadata": {},
   "source": [
    "Write your post here."
   ]
  },
  {
   "cell_type": "code",
   "execution_count": 1,
   "metadata": {
    "collapsed": true
   },
   "outputs": [],
   "source": [
    "from gplearn.genetic import SymbolicRegressor\n",
    "from sklearn.preprocessing import StandardScaler\n",
    "from sklearn.model_selection import train_test_split\n",
    "from sklearn.utils.random import check_random_state\n",
    "import numpy as np\n",
    "import pandas as pd\n",
    "import seaborn as sb\n",
    "from matplotlib import pyplot as pl\n",
    "from matplotlib import rcParams\n",
    "from IPython.display import Image\n",
    "from scipy.io import loadmat\n",
    "import pydotplus\n",
    "% matplotlib inline"
   ]
  },
  {
   "cell_type": "code",
   "execution_count": 2,
   "metadata": {
    "collapsed": true
   },
   "outputs": [],
   "source": [
    "rcParams['axes.formatter.limits'] = (-2, 3)\n",
    "rcParams['xtick.labelsize'] = 14\n",
    "rcParams['ytick.labelsize'] = 14\n",
    "rcParams['font.size'] = 16"
   ]
  },
  {
   "cell_type": "code",
   "execution_count": 3,
   "metadata": {
    "collapsed": true
   },
   "outputs": [],
   "source": [
    "fpath ='/accounts/ekarakoy/DATA/OWT/nomad_rrs4clustering.mat'"
   ]
  },
  {
   "cell_type": "code",
   "execution_count": 4,
   "metadata": {
    "collapsed": false
   },
   "outputs": [],
   "source": [
    "matlabData = loadmat(fpath)"
   ]
  },
  {
   "cell_type": "code",
   "execution_count": 5,
   "metadata": {
    "collapsed": false
   },
   "outputs": [],
   "source": [
    "wavelength = matlabData['wl'][0]\n",
    "rrsBelow = matlabData['rrs_below']\n",
    "chl = matlabData['chl_nomad'] # I might use this as an additional feature in clustering"
   ]
  },
  {
   "cell_type": "code",
   "execution_count": 6,
   "metadata": {
    "collapsed": false
   },
   "outputs": [],
   "source": [
    "labels = list(wavelength) + ['chl']\n",
    "df = pd.DataFrame(data=np.hstack((rrsBelow, chl)), columns=labels)"
   ]
  },
  {
   "cell_type": "code",
   "execution_count": 7,
   "metadata": {
    "collapsed": false
   },
   "outputs": [
    {
     "data": {
      "text/html": [
       "<div>\n",
       "<table border=\"1\" class=\"dataframe\">\n",
       "  <thead>\n",
       "    <tr style=\"text-align: right;\">\n",
       "      <th></th>\n",
       "      <th>411</th>\n",
       "      <th>443</th>\n",
       "      <th>469</th>\n",
       "      <th>489</th>\n",
       "      <th>510</th>\n",
       "      <th>520</th>\n",
       "      <th>547</th>\n",
       "      <th>550</th>\n",
       "      <th>555</th>\n",
       "      <th>560</th>\n",
       "      <th>565</th>\n",
       "      <th>670</th>\n",
       "      <th>chl</th>\n",
       "    </tr>\n",
       "  </thead>\n",
       "  <tbody>\n",
       "    <tr>\n",
       "      <th>0</th>\n",
       "      <td>0.002307</td>\n",
       "      <td>0.003225</td>\n",
       "      <td>0.004674</td>\n",
       "      <td>0.006265</td>\n",
       "      <td>0.007661</td>\n",
       "      <td>0.008944</td>\n",
       "      <td>0.012935</td>\n",
       "      <td>0.013410</td>\n",
       "      <td>0.014040</td>\n",
       "      <td>0.014715</td>\n",
       "      <td>0.015325</td>\n",
       "      <td>0.006588</td>\n",
       "      <td>38.19</td>\n",
       "    </tr>\n",
       "    <tr>\n",
       "      <th>1</th>\n",
       "      <td>0.002035</td>\n",
       "      <td>0.002650</td>\n",
       "      <td>0.003273</td>\n",
       "      <td>0.004149</td>\n",
       "      <td>0.004767</td>\n",
       "      <td>0.005416</td>\n",
       "      <td>0.007338</td>\n",
       "      <td>0.007570</td>\n",
       "      <td>0.007878</td>\n",
       "      <td>0.008208</td>\n",
       "      <td>0.008549</td>\n",
       "      <td>0.003241</td>\n",
       "      <td>35.01</td>\n",
       "    </tr>\n",
       "    <tr>\n",
       "      <th>2</th>\n",
       "      <td>0.001862</td>\n",
       "      <td>0.002271</td>\n",
       "      <td>0.002654</td>\n",
       "      <td>0.003523</td>\n",
       "      <td>0.004367</td>\n",
       "      <td>0.005147</td>\n",
       "      <td>0.007423</td>\n",
       "      <td>0.007691</td>\n",
       "      <td>0.008053</td>\n",
       "      <td>0.008434</td>\n",
       "      <td>0.008822</td>\n",
       "      <td>0.003084</td>\n",
       "      <td>26.91</td>\n",
       "    </tr>\n",
       "    <tr>\n",
       "      <th>3</th>\n",
       "      <td>0.002817</td>\n",
       "      <td>0.003330</td>\n",
       "      <td>0.004096</td>\n",
       "      <td>0.005482</td>\n",
       "      <td>0.006963</td>\n",
       "      <td>0.008243</td>\n",
       "      <td>0.012075</td>\n",
       "      <td>0.012525</td>\n",
       "      <td>0.013127</td>\n",
       "      <td>0.013770</td>\n",
       "      <td>0.014361</td>\n",
       "      <td>0.006154</td>\n",
       "      <td>47.96</td>\n",
       "    </tr>\n",
       "    <tr>\n",
       "      <th>4</th>\n",
       "      <td>0.001735</td>\n",
       "      <td>0.001959</td>\n",
       "      <td>0.002129</td>\n",
       "      <td>0.002882</td>\n",
       "      <td>0.003638</td>\n",
       "      <td>0.004115</td>\n",
       "      <td>0.005079</td>\n",
       "      <td>0.005191</td>\n",
       "      <td>0.005337</td>\n",
       "      <td>0.005507</td>\n",
       "      <td>0.005716</td>\n",
       "      <td>0.003423</td>\n",
       "      <td>23.55</td>\n",
       "    </tr>\n",
       "  </tbody>\n",
       "</table>\n",
       "</div>"
      ],
      "text/plain": [
       "        411       443       469       489       510       520       547  \\\n",
       "0  0.002307  0.003225  0.004674  0.006265  0.007661  0.008944  0.012935   \n",
       "1  0.002035  0.002650  0.003273  0.004149  0.004767  0.005416  0.007338   \n",
       "2  0.001862  0.002271  0.002654  0.003523  0.004367  0.005147  0.007423   \n",
       "3  0.002817  0.003330  0.004096  0.005482  0.006963  0.008243  0.012075   \n",
       "4  0.001735  0.001959  0.002129  0.002882  0.003638  0.004115  0.005079   \n",
       "\n",
       "        550       555       560       565       670    chl  \n",
       "0  0.013410  0.014040  0.014715  0.015325  0.006588  38.19  \n",
       "1  0.007570  0.007878  0.008208  0.008549  0.003241  35.01  \n",
       "2  0.007691  0.008053  0.008434  0.008822  0.003084  26.91  \n",
       "3  0.012525  0.013127  0.013770  0.014361  0.006154  47.96  \n",
       "4  0.005191  0.005337  0.005507  0.005716  0.003423  23.55  "
      ]
     },
     "execution_count": 7,
     "metadata": {},
     "output_type": "execute_result"
    }
   ],
   "source": [
    "df.head()"
   ]
  },
  {
   "cell_type": "markdown",
   "metadata": {},
   "source": [
    "Make a new dataframe with just SeaWiFS-wavelength Rrs and chl."
   ]
  },
  {
   "cell_type": "code",
   "execution_count": 8,
   "metadata": {
    "collapsed": true
   },
   "outputs": [],
   "source": [
    "swfWvl = [411, 443, 489, 510, 555, 670]"
   ]
  },
  {
   "cell_type": "code",
   "execution_count": 9,
   "metadata": {
    "collapsed": false
   },
   "outputs": [],
   "source": [
    "dfSwf = df.loc[:, swfWvl + ['chl']]"
   ]
  },
  {
   "cell_type": "code",
   "execution_count": 10,
   "metadata": {
    "collapsed": false
   },
   "outputs": [
    {
     "data": {
      "text/html": [
       "<div>\n",
       "<table border=\"1\" class=\"dataframe\">\n",
       "  <thead>\n",
       "    <tr style=\"text-align: right;\">\n",
       "      <th></th>\n",
       "      <th>411</th>\n",
       "      <th>443</th>\n",
       "      <th>489</th>\n",
       "      <th>510</th>\n",
       "      <th>555</th>\n",
       "      <th>670</th>\n",
       "      <th>chl</th>\n",
       "    </tr>\n",
       "  </thead>\n",
       "  <tbody>\n",
       "    <tr>\n",
       "      <th>0</th>\n",
       "      <td>0.002307</td>\n",
       "      <td>0.003225</td>\n",
       "      <td>0.006265</td>\n",
       "      <td>0.007661</td>\n",
       "      <td>0.014040</td>\n",
       "      <td>0.006588</td>\n",
       "      <td>38.19</td>\n",
       "    </tr>\n",
       "    <tr>\n",
       "      <th>1</th>\n",
       "      <td>0.002035</td>\n",
       "      <td>0.002650</td>\n",
       "      <td>0.004149</td>\n",
       "      <td>0.004767</td>\n",
       "      <td>0.007878</td>\n",
       "      <td>0.003241</td>\n",
       "      <td>35.01</td>\n",
       "    </tr>\n",
       "    <tr>\n",
       "      <th>2</th>\n",
       "      <td>0.001862</td>\n",
       "      <td>0.002271</td>\n",
       "      <td>0.003523</td>\n",
       "      <td>0.004367</td>\n",
       "      <td>0.008053</td>\n",
       "      <td>0.003084</td>\n",
       "      <td>26.91</td>\n",
       "    </tr>\n",
       "    <tr>\n",
       "      <th>3</th>\n",
       "      <td>0.002817</td>\n",
       "      <td>0.003330</td>\n",
       "      <td>0.005482</td>\n",
       "      <td>0.006963</td>\n",
       "      <td>0.013127</td>\n",
       "      <td>0.006154</td>\n",
       "      <td>47.96</td>\n",
       "    </tr>\n",
       "    <tr>\n",
       "      <th>4</th>\n",
       "      <td>0.001735</td>\n",
       "      <td>0.001959</td>\n",
       "      <td>0.002882</td>\n",
       "      <td>0.003638</td>\n",
       "      <td>0.005337</td>\n",
       "      <td>0.003423</td>\n",
       "      <td>23.55</td>\n",
       "    </tr>\n",
       "  </tbody>\n",
       "</table>\n",
       "</div>"
      ],
      "text/plain": [
       "        411       443       489       510       555       670    chl\n",
       "0  0.002307  0.003225  0.006265  0.007661  0.014040  0.006588  38.19\n",
       "1  0.002035  0.002650  0.004149  0.004767  0.007878  0.003241  35.01\n",
       "2  0.001862  0.002271  0.003523  0.004367  0.008053  0.003084  26.91\n",
       "3  0.002817  0.003330  0.005482  0.006963  0.013127  0.006154  47.96\n",
       "4  0.001735  0.001959  0.002882  0.003638  0.005337  0.003423  23.55"
      ]
     },
     "execution_count": 10,
     "metadata": {},
     "output_type": "execute_result"
    }
   ],
   "source": [
    "dfSwf.head()"
   ]
  },
  {
   "cell_type": "code",
   "execution_count": 11,
   "metadata": {
    "collapsed": false
   },
   "outputs": [
    {
     "data": {
      "text/html": [
       "<div>\n",
       "<table border=\"1\" class=\"dataframe\">\n",
       "  <thead>\n",
       "    <tr style=\"text-align: right;\">\n",
       "      <th></th>\n",
       "      <th>411</th>\n",
       "      <th>443</th>\n",
       "      <th>489</th>\n",
       "      <th>510</th>\n",
       "      <th>555</th>\n",
       "      <th>670</th>\n",
       "      <th>chl</th>\n",
       "    </tr>\n",
       "  </thead>\n",
       "  <tbody>\n",
       "    <tr>\n",
       "      <th>count</th>\n",
       "      <td>2404.000000</td>\n",
       "      <td>2404.000000</td>\n",
       "      <td>2404.000000</td>\n",
       "      <td>2404.000000</td>\n",
       "      <td>2404.000000</td>\n",
       "      <td>2404.000000</td>\n",
       "      <td>2404.000000</td>\n",
       "    </tr>\n",
       "    <tr>\n",
       "      <th>mean</th>\n",
       "      <td>0.009913</td>\n",
       "      <td>0.009351</td>\n",
       "      <td>0.009086</td>\n",
       "      <td>0.007638</td>\n",
       "      <td>0.006105</td>\n",
       "      <td>0.001289</td>\n",
       "      <td>1.544312</td>\n",
       "    </tr>\n",
       "    <tr>\n",
       "      <th>std</th>\n",
       "      <td>0.006548</td>\n",
       "      <td>0.005329</td>\n",
       "      <td>0.004598</td>\n",
       "      <td>0.004656</td>\n",
       "      <td>0.006091</td>\n",
       "      <td>0.002629</td>\n",
       "      <td>4.002408</td>\n",
       "    </tr>\n",
       "    <tr>\n",
       "      <th>min</th>\n",
       "      <td>0.000098</td>\n",
       "      <td>0.000365</td>\n",
       "      <td>0.000546</td>\n",
       "      <td>0.000502</td>\n",
       "      <td>0.000398</td>\n",
       "      <td>0.000023</td>\n",
       "      <td>0.000000</td>\n",
       "    </tr>\n",
       "    <tr>\n",
       "      <th>25%</th>\n",
       "      <td>0.005000</td>\n",
       "      <td>0.005335</td>\n",
       "      <td>0.006135</td>\n",
       "      <td>0.005511</td>\n",
       "      <td>0.003029</td>\n",
       "      <td>0.000196</td>\n",
       "      <td>0.054000</td>\n",
       "    </tr>\n",
       "    <tr>\n",
       "      <th>50%</th>\n",
       "      <td>0.007967</td>\n",
       "      <td>0.008120</td>\n",
       "      <td>0.008528</td>\n",
       "      <td>0.006562</td>\n",
       "      <td>0.003970</td>\n",
       "      <td>0.000385</td>\n",
       "      <td>0.301200</td>\n",
       "    </tr>\n",
       "    <tr>\n",
       "      <th>75%</th>\n",
       "      <td>0.013895</td>\n",
       "      <td>0.012699</td>\n",
       "      <td>0.011118</td>\n",
       "      <td>0.007965</td>\n",
       "      <td>0.006047</td>\n",
       "      <td>0.001101</td>\n",
       "      <td>1.218750</td>\n",
       "    </tr>\n",
       "    <tr>\n",
       "      <th>max</th>\n",
       "      <td>0.039485</td>\n",
       "      <td>0.031489</td>\n",
       "      <td>0.046573</td>\n",
       "      <td>0.050136</td>\n",
       "      <td>0.060087</td>\n",
       "      <td>0.031832</td>\n",
       "      <td>72.120000</td>\n",
       "    </tr>\n",
       "  </tbody>\n",
       "</table>\n",
       "</div>"
      ],
      "text/plain": [
       "               411          443          489          510          555  \\\n",
       "count  2404.000000  2404.000000  2404.000000  2404.000000  2404.000000   \n",
       "mean      0.009913     0.009351     0.009086     0.007638     0.006105   \n",
       "std       0.006548     0.005329     0.004598     0.004656     0.006091   \n",
       "min       0.000098     0.000365     0.000546     0.000502     0.000398   \n",
       "25%       0.005000     0.005335     0.006135     0.005511     0.003029   \n",
       "50%       0.007967     0.008120     0.008528     0.006562     0.003970   \n",
       "75%       0.013895     0.012699     0.011118     0.007965     0.006047   \n",
       "max       0.039485     0.031489     0.046573     0.050136     0.060087   \n",
       "\n",
       "               670          chl  \n",
       "count  2404.000000  2404.000000  \n",
       "mean      0.001289     1.544312  \n",
       "std       0.002629     4.002408  \n",
       "min       0.000023     0.000000  \n",
       "25%       0.000196     0.054000  \n",
       "50%       0.000385     0.301200  \n",
       "75%       0.001101     1.218750  \n",
       "max       0.031832    72.120000  "
      ]
     },
     "execution_count": 11,
     "metadata": {},
     "output_type": "execute_result"
    }
   ],
   "source": [
    "dfSwf.describe()"
   ]
  },
  {
   "cell_type": "code",
   "execution_count": 12,
   "metadata": {
    "collapsed": false
   },
   "outputs": [],
   "source": [
    "dfSwf['maxBlue'] = dfSwf.loc[:,[443, 490, 510]].max(axis=1)"
   ]
  },
  {
   "cell_type": "code",
   "execution_count": 13,
   "metadata": {
    "collapsed": false
   },
   "outputs": [
    {
     "data": {
      "text/html": [
       "<div>\n",
       "<table border=\"1\" class=\"dataframe\">\n",
       "  <thead>\n",
       "    <tr style=\"text-align: right;\">\n",
       "      <th></th>\n",
       "      <th>411</th>\n",
       "      <th>443</th>\n",
       "      <th>489</th>\n",
       "      <th>510</th>\n",
       "      <th>555</th>\n",
       "      <th>670</th>\n",
       "      <th>chl</th>\n",
       "      <th>maxBlue</th>\n",
       "    </tr>\n",
       "  </thead>\n",
       "  <tbody>\n",
       "    <tr>\n",
       "      <th>0</th>\n",
       "      <td>0.002307</td>\n",
       "      <td>0.003225</td>\n",
       "      <td>0.006265</td>\n",
       "      <td>0.007661</td>\n",
       "      <td>0.014040</td>\n",
       "      <td>0.006588</td>\n",
       "      <td>38.19</td>\n",
       "      <td>0.007661</td>\n",
       "    </tr>\n",
       "    <tr>\n",
       "      <th>1</th>\n",
       "      <td>0.002035</td>\n",
       "      <td>0.002650</td>\n",
       "      <td>0.004149</td>\n",
       "      <td>0.004767</td>\n",
       "      <td>0.007878</td>\n",
       "      <td>0.003241</td>\n",
       "      <td>35.01</td>\n",
       "      <td>0.004767</td>\n",
       "    </tr>\n",
       "    <tr>\n",
       "      <th>2</th>\n",
       "      <td>0.001862</td>\n",
       "      <td>0.002271</td>\n",
       "      <td>0.003523</td>\n",
       "      <td>0.004367</td>\n",
       "      <td>0.008053</td>\n",
       "      <td>0.003084</td>\n",
       "      <td>26.91</td>\n",
       "      <td>0.004367</td>\n",
       "    </tr>\n",
       "    <tr>\n",
       "      <th>3</th>\n",
       "      <td>0.002817</td>\n",
       "      <td>0.003330</td>\n",
       "      <td>0.005482</td>\n",
       "      <td>0.006963</td>\n",
       "      <td>0.013127</td>\n",
       "      <td>0.006154</td>\n",
       "      <td>47.96</td>\n",
       "      <td>0.006963</td>\n",
       "    </tr>\n",
       "    <tr>\n",
       "      <th>4</th>\n",
       "      <td>0.001735</td>\n",
       "      <td>0.001959</td>\n",
       "      <td>0.002882</td>\n",
       "      <td>0.003638</td>\n",
       "      <td>0.005337</td>\n",
       "      <td>0.003423</td>\n",
       "      <td>23.55</td>\n",
       "      <td>0.003638</td>\n",
       "    </tr>\n",
       "  </tbody>\n",
       "</table>\n",
       "</div>"
      ],
      "text/plain": [
       "        411       443       489       510       555       670    chl   maxBlue\n",
       "0  0.002307  0.003225  0.006265  0.007661  0.014040  0.006588  38.19  0.007661\n",
       "1  0.002035  0.002650  0.004149  0.004767  0.007878  0.003241  35.01  0.004767\n",
       "2  0.001862  0.002271  0.003523  0.004367  0.008053  0.003084  26.91  0.004367\n",
       "3  0.002817  0.003330  0.005482  0.006963  0.013127  0.006154  47.96  0.006963\n",
       "4  0.001735  0.001959  0.002882  0.003638  0.005337  0.003423  23.55  0.003638"
      ]
     },
     "execution_count": 13,
     "metadata": {},
     "output_type": "execute_result"
    }
   ],
   "source": [
    "dfSwf.head()"
   ]
  },
  {
   "cell_type": "code",
   "execution_count": 15,
   "metadata": {
    "collapsed": false
   },
   "outputs": [
    {
     "name": "stdout",
     "output_type": "stream",
     "text": [
      "<class 'pandas.core.frame.DataFrame'>\n",
      "RangeIndex: 2404 entries, 0 to 2403\n",
      "Data columns (total 8 columns):\n",
      "411        2404 non-null float64\n",
      "443        2404 non-null float64\n",
      "489        2404 non-null float64\n",
      "510        2404 non-null float64\n",
      "555        2404 non-null float64\n",
      "670        2404 non-null float64\n",
      "chl        2404 non-null float64\n",
      "maxBlue    2404 non-null float64\n",
      "dtypes: float64(8)\n",
      "memory usage: 150.3 KB\n"
     ]
    }
   ],
   "source": [
    "dfSwf.info()"
   ]
  },
  {
   "cell_type": "markdown",
   "metadata": {},
   "source": [
    "no cleanup seemingly necessary but standardization needed"
   ]
  },
  {
   "cell_type": "code",
   "execution_count": null,
   "metadata": {
    "collapsed": true
   },
   "outputs": [],
   "source": []
  },
  {
   "cell_type": "code",
   "execution_count": 16,
   "metadata": {
    "collapsed": true
   },
   "outputs": [],
   "source": [
    "X = dfSwf.loc[:,swfWvl + ['maxBlue']]\n",
    "y = dfSwf.loc[:,'chl']"
   ]
  },
  {
   "cell_type": "code",
   "execution_count": 17,
   "metadata": {
    "collapsed": true
   },
   "outputs": [],
   "source": [
    "X_train, X_test, y_train, y_test = train_test_split(X, y, test_size=0.33)"
   ]
  },
  {
   "cell_type": "code",
   "execution_count": 18,
   "metadata": {
    "collapsed": false
   },
   "outputs": [],
   "source": [
    "maxBlue_train = X_train.maxBlue\n",
    "maxBlue_test = X_test.maxBlue"
   ]
  },
  {
   "cell_type": "code",
   "execution_count": 19,
   "metadata": {
    "collapsed": false
   },
   "outputs": [
    {
     "name": "stderr",
     "output_type": "stream",
     "text": [
      "/accounts/ekarakoy/anaconda3/lib/python3.5/site-packages/ipykernel/__main__.py:1: SettingWithCopyWarning: \n",
      "A value is trying to be set on a copy of a slice from a DataFrame\n",
      "\n",
      "See the caveats in the documentation: http://pandas.pydata.org/pandas-docs/stable/indexing.html#indexing-view-versus-copy\n",
      "  if __name__ == '__main__':\n",
      "/accounts/ekarakoy/anaconda3/lib/python3.5/site-packages/ipykernel/__main__.py:2: SettingWithCopyWarning: \n",
      "A value is trying to be set on a copy of a slice from a DataFrame\n",
      "\n",
      "See the caveats in the documentation: http://pandas.pydata.org/pandas-docs/stable/indexing.html#indexing-view-versus-copy\n",
      "  from ipykernel import kernelapp as app\n"
     ]
    }
   ],
   "source": [
    "X_train.drop('maxBlue',axis=1, inplace=True)\n",
    "X_test.drop('maxBlue',axis=1, inplace=True)"
   ]
  },
  {
   "cell_type": "code",
   "execution_count": 20,
   "metadata": {
    "collapsed": false
   },
   "outputs": [
    {
     "data": {
      "text/html": [
       "<div>\n",
       "<table border=\"1\" class=\"dataframe\">\n",
       "  <thead>\n",
       "    <tr style=\"text-align: right;\">\n",
       "      <th></th>\n",
       "      <th>411</th>\n",
       "      <th>443</th>\n",
       "      <th>489</th>\n",
       "      <th>510</th>\n",
       "      <th>555</th>\n",
       "      <th>670</th>\n",
       "    </tr>\n",
       "  </thead>\n",
       "  <tbody>\n",
       "    <tr>\n",
       "      <th>602</th>\n",
       "      <td>0.005218</td>\n",
       "      <td>0.004991</td>\n",
       "      <td>0.005276</td>\n",
       "      <td>0.004597</td>\n",
       "      <td>0.003058</td>\n",
       "      <td>0.000298</td>\n",
       "    </tr>\n",
       "    <tr>\n",
       "      <th>1783</th>\n",
       "      <td>0.006745</td>\n",
       "      <td>0.007125</td>\n",
       "      <td>0.007620</td>\n",
       "      <td>0.007070</td>\n",
       "      <td>0.005649</td>\n",
       "      <td>0.000869</td>\n",
       "    </tr>\n",
       "    <tr>\n",
       "      <th>1350</th>\n",
       "      <td>0.030052</td>\n",
       "      <td>0.023754</td>\n",
       "      <td>0.016549</td>\n",
       "      <td>0.009957</td>\n",
       "      <td>0.003779</td>\n",
       "      <td>0.000131</td>\n",
       "    </tr>\n",
       "    <tr>\n",
       "      <th>320</th>\n",
       "      <td>0.033416</td>\n",
       "      <td>0.026903</td>\n",
       "      <td>0.015383</td>\n",
       "      <td>0.007713</td>\n",
       "      <td>0.003148</td>\n",
       "      <td>0.000319</td>\n",
       "    </tr>\n",
       "    <tr>\n",
       "      <th>108</th>\n",
       "      <td>0.007000</td>\n",
       "      <td>0.008407</td>\n",
       "      <td>0.008376</td>\n",
       "      <td>0.006932</td>\n",
       "      <td>0.004154</td>\n",
       "      <td>0.000510</td>\n",
       "    </tr>\n",
       "  </tbody>\n",
       "</table>\n",
       "</div>"
      ],
      "text/plain": [
       "           411       443       489       510       555       670\n",
       "602   0.005218  0.004991  0.005276  0.004597  0.003058  0.000298\n",
       "1783  0.006745  0.007125  0.007620  0.007070  0.005649  0.000869\n",
       "1350  0.030052  0.023754  0.016549  0.009957  0.003779  0.000131\n",
       "320   0.033416  0.026903  0.015383  0.007713  0.003148  0.000319\n",
       "108   0.007000  0.008407  0.008376  0.006932  0.004154  0.000510"
      ]
     },
     "execution_count": 20,
     "metadata": {},
     "output_type": "execute_result"
    }
   ],
   "source": [
    "X_train.head()"
   ]
  },
  {
   "cell_type": "code",
   "execution_count": 21,
   "metadata": {
    "collapsed": true
   },
   "outputs": [],
   "source": [
    "def CI(df):\n",
    "    # assumes df has rrs data at specific wavelengths\n",
    "    blue, green, red=443, 555, 670\n",
    "    ci = df[green] - (df[blue] + (green - blue) / (red - blue) * (df[red] - df[blue]))\n",
    "    return ci"
   ]
  },
  {
   "cell_type": "code",
   "execution_count": 22,
   "metadata": {
    "collapsed": true
   },
   "outputs": [],
   "source": [
    "def OC4(rrsMaxBlue, rrsGreen):\n",
    "    # maxblue is last column of rrsData\n",
    "    a=[0.3272, -2.9940, 2.7218, -1.2259, -0.5683]\n",
    "    poly = a[0] + np.sum([a[i]*np.power(np.log10(rrsMaxBlue/rrsGreen),i )\n",
    "                          for i in range(1,5) ], axis=0)\n",
    "    chl = np.power(10,poly)\n",
    "    return chl"
   ]
  },
  {
   "cell_type": "code",
   "execution_count": 23,
   "metadata": {
    "collapsed": false
   },
   "outputs": [],
   "source": [
    "green = 555\n",
    "chl_train = OC4(maxBlue_train.values, X_train[green].values)"
   ]
  },
  {
   "cell_type": "code",
   "execution_count": 24,
   "metadata": {
    "collapsed": false
   },
   "outputs": [
    {
     "data": {
      "image/png": "[encoded data removed]",
      "text/plain": [
       "<matplotlib.figure.Figure at 0x7fb98b2ba160>"
      ]
     },
     "metadata": {},
     "output_type": "display_data"
    }
   ],
   "source": [
    "pl.figure(figsize=(6,6))\n",
    "pl.plot(chl_train,y_train.values,'b.')\n",
    "pl.yscale('log')\n",
    "pl.ylim(1e-2,1e2)\n",
    "pl.xlim(1e-2,1e2)\n",
    "pl.xscale('log')\n",
    "pl.plot([1e-2,1e2],[1e-2,1e2],'k')\n",
    "pl.xlabel('locally estimated chl', fontsize=16)\n",
    "pl.ylabel('original chl', fontsize=16);"
   ]
  },
  {
   "cell_type": "code",
   "execution_count": 30,
   "metadata": {
    "collapsed": false,
    "scrolled": false
   },
   "outputs": [
    {
     "name": "stdout",
     "output_type": "stream",
     "text": [
      "    |    Population Average   |             Best Individual              |\n",
      "---- ------------------------- ------------------------------------------ ----------\n",
      " Gen   Length          Fitness   Length          Fitness      OOB Fitness  Time Left\n",
      "   0    13.36    135.213743688        7    3.56726582945    3.96122008129     42.08s\n",
      "   1     7.79    5.80759081951        7    3.54935895831    4.12238192154     39.97s\n",
      "   2     7.81    8.92589459205       21    3.50671031636    4.36071257448     37.48s\n",
      "   3     7.24    5.73058590888        8    3.43802437828    4.58798618128     34.80s\n",
      "   4      6.2    5.72066717311        8    3.38519618616    5.11536451827     33.09s\n",
      "   5     6.33     5.5205536159        9    3.41156771471    4.45717132729     30.52s\n",
      "   6     6.79     5.2092726692        8      3.355123313    4.96517094263     28.10s\n",
      "   7      7.5    5.29873168386        8    3.38405253642    4.70480793184     25.80s\n",
      "   8     7.78    5.32099420256        8    3.37423986782    4.79312194923     23.57s\n",
      "   9     7.79    5.51850252309        8    3.35544325627    4.96229145327     21.36s\n",
      "  10     7.95    5.85655589824        7    3.38013935255    4.71740104966     19.19s\n",
      "  11     7.97    5.52715131408        8    3.35189837722    4.99419536472     17.03s\n",
      "  12     7.78    5.66981757286        7    3.35069689501    4.98238316757     15.02s\n",
      "  13     7.75    5.39116109743        8    3.37695084805    4.76872312718     12.86s\n",
      "  14      7.7    5.43868890612        8    3.38866892354    4.66326044777     10.70s\n",
      "  15     7.56    5.27858796192        7    3.35074762021    4.98192664071      8.56s\n",
      "  16     7.56    5.74627729535        7    3.35188420945    4.97169733761      6.42s\n",
      "  17     7.49    5.27638826273        8    3.35473385079    4.96867610259      4.28s\n",
      "  18     7.36    5.47495188926        7     3.3679099468    4.83667937296      2.14s\n",
      "  19     7.42    5.38171145832        7    3.36719466942    4.76117836871      0.00s\n"
     ]
    },
    {
     "data": {
      "text/plain": [
       "SymbolicRegressor(comparison=True, const_range=(-1.0, 1.0), generations=20,\n",
       "         init_depth=(2, 6), init_method='half and half', max_samples=0.9,\n",
       "         metric='mean absolute error', n_jobs=1, p_crossover=0.6,\n",
       "         p_hoist_mutation=0.05, p_point_mutation=0.2, p_point_replace=0.05,\n",
       "         p_subtree_mutation=0.1, parsimony_coefficient=0.01,\n",
       "         population_size=5000, random_state=None, stopping_criteria=0.01,\n",
       "         tournament_size=20, transformer=True, trigonometric=False,\n",
       "         verbose=1)"
      ]
     },
     "execution_count": 30,
     "metadata": {},
     "output_type": "execute_result"
    }
   ],
   "source": [
    "est_gp = SymbolicRegressor(population_size=5000,\n",
    "                           generations=20, stopping_criteria=0.01,transformer=True,\n",
    "                           trigonometric=False,\n",
    "                           p_crossover=0.6, p_subtree_mutation=0.1,\n",
    "                           p_hoist_mutation=0.05, p_point_mutation=0.2,\n",
    "                           max_samples=0.9, verbose=1, comparison=True, \n",
    "                           parsimony_coefficient=0.01)\n",
    "est_gp.fit(np.log(X_train), np.log(y_train+1e-6))"
   ]
  },
  {
   "cell_type": "code",
   "execution_count": 31,
   "metadata": {
    "collapsed": false
   },
   "outputs": [
    {
     "name": "stdout",
     "output_type": "stream",
     "text": [
      "mul(sub(X1, X4), neg(inv(0.696)))\n"
     ]
    }
   ],
   "source": [
    "print(est_gp._program)"
   ]
  },
  {
   "cell_type": "code",
   "execution_count": null,
   "metadata": {
    "collapsed": true
   },
   "outputs": [],
   "source": [
    "y_from_train = est_gp.predict(np.log(X_train))"
   ]
  },
  {
   "cell_type": "code",
   "execution_count": null,
   "metadata": {
    "collapsed": false
   },
   "outputs": [],
   "source": [
    "f,axs = pl.subplots(ncols=2, figsize=(10,6))\n",
    "sb.regplot(np.log(y_from_train), np.log(y_train), ax=axs[0],)\n",
    "sb.regplot(np.log(chl_train), np.log(y_train), ax=axs[1])"
   ]
  },
  {
   "cell_type": "code",
   "execution_count": 32,
   "metadata": {
    "collapsed": false
   },
   "outputs": [
    {
     "data": {
      "text/plain": [
       "-0.18956266196600291"
      ]
     },
     "execution_count": 32,
     "metadata": {},
     "output_type": "execute_result"
    }
   ],
   "source": [
    "est_gp.score(X_test,y_test)"
   ]
  },
  {
   "cell_type": "code",
   "execution_count": 33,
   "metadata": {
    "collapsed": false
   },
   "outputs": [
    {
     "data": {
      "image/png": "[encoded data removed]",
      "text/plain": [
       "<IPython.core.display.Image object>"
      ]
     },
     "execution_count": 33,
     "metadata": {},
     "output_type": "execute_result"
    }
   ],
   "source": [
    "graph = pydotplus.graphviz.graph_from_dot_data(est_gp._program.export_graphviz())\n",
    "Image(graph.create_png())"
   ]
  },
  {
   "cell_type": "code",
   "execution_count": null,
   "metadata": {
    "collapsed": true
   },
   "outputs": [],
   "source": []
  }
 ],
 "metadata": {
  "kernelspec": {
   "display_name": "Python [conda root]",
   "language": "python",
   "name": "conda-root-py"
  },
  "language_info": {
   "codemirror_mode": {
    "name": "ipython",
    "version": 3
   },
   "file_extension": ".py",
   "mimetype": "text/x-python",
   "name": "python",
   "nbconvert_exporter": "python",
   "pygments_lexer": "ipython3",
   "version": "3.5.2"
  },
  "nikola": {
   "category": "",
   "date": "2017-03-03 15:49:06 UTC-05:00",
   "description": "",
   "link": "",
   "slug": "genetic-programming-estimation-of-marine-chlorophyll-from-ocean-color",
   "tags": "",
   "title": "Genetic Programming: Estimation of Marine Chlorophyll from Ocean Color",
   "type": "text"
  }
 },
 "nbformat": 4,
 "nbformat_minor": 2
}
