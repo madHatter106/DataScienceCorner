{
 "cells": [
  {
   "cell_type": "markdown",
   "metadata": {},
   "source": [
    "Write your post here."
   ]
  },
  {
   "cell_type": "code",
   "execution_count": 1,
   "metadata": {
    "collapsed": true
   },
   "outputs": [],
   "source": [
    "from gplearn.genetic import SymbolicRegressor\n",
    "from sklearn.preprocessing import StandardScaler\n",
    "from sklearn.model_selection import train_test_split\n",
    "from sklearn.utils.random import check_random_state\n",
    "import numpy as np\n",
    "import pandas as pd\n",
    "import seaborn as sb\n",
    "from matplotlib import pyplot as pl\n",
    "from matplotlib import rcParams\n",
    "from IPython.display import Image\n",
    "from scipy.io import loadmat\n",
    "import pydotplus\n",
    "% matplotlib inline"
   ]
  },
  {
   "cell_type": "code",
   "execution_count": 2,
   "metadata": {
    "collapsed": true
   },
   "outputs": [],
   "source": [
    "rcParams['axes.formatter.limits'] = (-2, 3)\n",
    "rcParams['xtick.labelsize'] = 14\n",
    "rcParams['ytick.labelsize'] = 14\n",
    "rcParams['font.size'] = 16"
   ]
  },
  {
   "cell_type": "code",
   "execution_count": 3,
   "metadata": {
    "collapsed": true
   },
   "outputs": [],
   "source": [
    "fpath ='/accounts/ekarakoy/DATA/OWT/nomad_rrs4clustering.mat'"
   ]
  },
  {
   "cell_type": "code",
   "execution_count": 4,
   "metadata": {
    "collapsed": false
   },
   "outputs": [],
   "source": [
    "matlabData = loadmat(fpath)"
   ]
  },
  {
   "cell_type": "code",
   "execution_count": 5,
   "metadata": {
    "collapsed": false
   },
   "outputs": [],
   "source": [
    "wavelength = matlabData['wl'][0]\n",
    "rrsBelow = matlabData['rrs_below']\n",
    "chl = matlabData['chl_nomad'] # I might use this as an additional feature in clustering"
   ]
  },
  {
   "cell_type": "code",
   "execution_count": 6,
   "metadata": {
    "collapsed": false
   },
   "outputs": [],
   "source": [
    "labels = list(wavelength) + ['chl']\n",
    "df = pd.DataFrame(data=np.hstack((rrsBelow, chl)), columns=labels)"
   ]
  },
  {
   "cell_type": "code",
   "execution_count": 7,
   "metadata": {
    "collapsed": false
   },
   "outputs": [
    {
     "data": {
      "text/html": [
       "<div>\n",
       "<table border=\"1\" class=\"dataframe\">\n",
       "  <thead>\n",
       "    <tr style=\"text-align: right;\">\n",
       "      <th></th>\n",
       "      <th>411</th>\n",
       "      <th>443</th>\n",
       "      <th>469</th>\n",
       "      <th>489</th>\n",
       "      <th>510</th>\n",
       "      <th>520</th>\n",
       "      <th>547</th>\n",
       "      <th>550</th>\n",
       "      <th>555</th>\n",
       "      <th>560</th>\n",
       "      <th>565</th>\n",
       "      <th>670</th>\n",
       "      <th>chl</th>\n",
       "    </tr>\n",
       "  </thead>\n",
       "  <tbody>\n",
       "    <tr>\n",
       "      <th>0</th>\n",
       "      <td>0.002307</td>\n",
       "      <td>0.003225</td>\n",
       "      <td>0.004674</td>\n",
       "      <td>0.006265</td>\n",
       "      <td>0.007661</td>\n",
       "      <td>0.008944</td>\n",
       "      <td>0.012935</td>\n",
       "      <td>0.013410</td>\n",
       "      <td>0.014040</td>\n",
       "      <td>0.014715</td>\n",
       "      <td>0.015325</td>\n",
       "      <td>0.006588</td>\n",
       "      <td>38.19</td>\n",
       "    </tr>\n",
       "    <tr>\n",
       "      <th>1</th>\n",
       "      <td>0.002035</td>\n",
       "      <td>0.002650</td>\n",
       "      <td>0.003273</td>\n",
       "      <td>0.004149</td>\n",
       "      <td>0.004767</td>\n",
       "      <td>0.005416</td>\n",
       "      <td>0.007338</td>\n",
       "      <td>0.007570</td>\n",
       "      <td>0.007878</td>\n",
       "      <td>0.008208</td>\n",
       "      <td>0.008549</td>\n",
       "      <td>0.003241</td>\n",
       "      <td>35.01</td>\n",
       "    </tr>\n",
       "    <tr>\n",
       "      <th>2</th>\n",
       "      <td>0.001862</td>\n",
       "      <td>0.002271</td>\n",
       "      <td>0.002654</td>\n",
       "      <td>0.003523</td>\n",
       "      <td>0.004367</td>\n",
       "      <td>0.005147</td>\n",
       "      <td>0.007423</td>\n",
       "      <td>0.007691</td>\n",
       "      <td>0.008053</td>\n",
       "      <td>0.008434</td>\n",
       "      <td>0.008822</td>\n",
       "      <td>0.003084</td>\n",
       "      <td>26.91</td>\n",
       "    </tr>\n",
       "    <tr>\n",
       "      <th>3</th>\n",
       "      <td>0.002817</td>\n",
       "      <td>0.003330</td>\n",
       "      <td>0.004096</td>\n",
       "      <td>0.005482</td>\n",
       "      <td>0.006963</td>\n",
       "      <td>0.008243</td>\n",
       "      <td>0.012075</td>\n",
       "      <td>0.012525</td>\n",
       "      <td>0.013127</td>\n",
       "      <td>0.013770</td>\n",
       "      <td>0.014361</td>\n",
       "      <td>0.006154</td>\n",
       "      <td>47.96</td>\n",
       "    </tr>\n",
       "    <tr>\n",
       "      <th>4</th>\n",
       "      <td>0.001735</td>\n",
       "      <td>0.001959</td>\n",
       "      <td>0.002129</td>\n",
       "      <td>0.002882</td>\n",
       "      <td>0.003638</td>\n",
       "      <td>0.004115</td>\n",
       "      <td>0.005079</td>\n",
       "      <td>0.005191</td>\n",
       "      <td>0.005337</td>\n",
       "      <td>0.005507</td>\n",
       "      <td>0.005716</td>\n",
       "      <td>0.003423</td>\n",
       "      <td>23.55</td>\n",
       "    </tr>\n",
       "  </tbody>\n",
       "</table>\n",
       "</div>"
      ],
      "text/plain": [
       "        411       443       469       489       510       520       547  \\\n",
       "0  0.002307  0.003225  0.004674  0.006265  0.007661  0.008944  0.012935   \n",
       "1  0.002035  0.002650  0.003273  0.004149  0.004767  0.005416  0.007338   \n",
       "2  0.001862  0.002271  0.002654  0.003523  0.004367  0.005147  0.007423   \n",
       "3  0.002817  0.003330  0.004096  0.005482  0.006963  0.008243  0.012075   \n",
       "4  0.001735  0.001959  0.002129  0.002882  0.003638  0.004115  0.005079   \n",
       "\n",
       "        550       555       560       565       670    chl  \n",
       "0  0.013410  0.014040  0.014715  0.015325  0.006588  38.19  \n",
       "1  0.007570  0.007878  0.008208  0.008549  0.003241  35.01  \n",
       "2  0.007691  0.008053  0.008434  0.008822  0.003084  26.91  \n",
       "3  0.012525  0.013127  0.013770  0.014361  0.006154  47.96  \n",
       "4  0.005191  0.005337  0.005507  0.005716  0.003423  23.55  "
      ]
     },
     "execution_count": 7,
     "metadata": {},
     "output_type": "execute_result"
    }
   ],
   "source": [
    "df.head()"
   ]
  },
  {
   "cell_type": "markdown",
   "metadata": {},
   "source": [
    "Make a new dataframe with just SeaWiFS-wavelength Rrs and chl."
   ]
  },
  {
   "cell_type": "code",
   "execution_count": 8,
   "metadata": {
    "collapsed": true
   },
   "outputs": [],
   "source": [
    "swfWvl = [411, 443, 489, 510, 555, 670]"
   ]
  },
  {
   "cell_type": "code",
   "execution_count": 9,
   "metadata": {
    "collapsed": false
   },
   "outputs": [],
   "source": [
    "dfSwf = df.loc[:, swfWvl + ['chl']]"
   ]
  },
  {
   "cell_type": "code",
   "execution_count": 10,
   "metadata": {
    "collapsed": false
   },
   "outputs": [
    {
     "data": {
      "text/html": [
       "<div>\n",
       "<table border=\"1\" class=\"dataframe\">\n",
       "  <thead>\n",
       "    <tr style=\"text-align: right;\">\n",
       "      <th></th>\n",
       "      <th>411</th>\n",
       "      <th>443</th>\n",
       "      <th>489</th>\n",
       "      <th>510</th>\n",
       "      <th>555</th>\n",
       "      <th>670</th>\n",
       "      <th>chl</th>\n",
       "    </tr>\n",
       "  </thead>\n",
       "  <tbody>\n",
       "    <tr>\n",
       "      <th>0</th>\n",
       "      <td>0.002307</td>\n",
       "      <td>0.003225</td>\n",
       "      <td>0.006265</td>\n",
       "      <td>0.007661</td>\n",
       "      <td>0.014040</td>\n",
       "      <td>0.006588</td>\n",
       "      <td>38.19</td>\n",
       "    </tr>\n",
       "    <tr>\n",
       "      <th>1</th>\n",
       "      <td>0.002035</td>\n",
       "      <td>0.002650</td>\n",
       "      <td>0.004149</td>\n",
       "      <td>0.004767</td>\n",
       "      <td>0.007878</td>\n",
       "      <td>0.003241</td>\n",
       "      <td>35.01</td>\n",
       "    </tr>\n",
       "    <tr>\n",
       "      <th>2</th>\n",
       "      <td>0.001862</td>\n",
       "      <td>0.002271</td>\n",
       "      <td>0.003523</td>\n",
       "      <td>0.004367</td>\n",
       "      <td>0.008053</td>\n",
       "      <td>0.003084</td>\n",
       "      <td>26.91</td>\n",
       "    </tr>\n",
       "    <tr>\n",
       "      <th>3</th>\n",
       "      <td>0.002817</td>\n",
       "      <td>0.003330</td>\n",
       "      <td>0.005482</td>\n",
       "      <td>0.006963</td>\n",
       "      <td>0.013127</td>\n",
       "      <td>0.006154</td>\n",
       "      <td>47.96</td>\n",
       "    </tr>\n",
       "    <tr>\n",
       "      <th>4</th>\n",
       "      <td>0.001735</td>\n",
       "      <td>0.001959</td>\n",
       "      <td>0.002882</td>\n",
       "      <td>0.003638</td>\n",
       "      <td>0.005337</td>\n",
       "      <td>0.003423</td>\n",
       "      <td>23.55</td>\n",
       "    </tr>\n",
       "  </tbody>\n",
       "</table>\n",
       "</div>"
      ],
      "text/plain": [
       "        411       443       489       510       555       670    chl\n",
       "0  0.002307  0.003225  0.006265  0.007661  0.014040  0.006588  38.19\n",
       "1  0.002035  0.002650  0.004149  0.004767  0.007878  0.003241  35.01\n",
       "2  0.001862  0.002271  0.003523  0.004367  0.008053  0.003084  26.91\n",
       "3  0.002817  0.003330  0.005482  0.006963  0.013127  0.006154  47.96\n",
       "4  0.001735  0.001959  0.002882  0.003638  0.005337  0.003423  23.55"
      ]
     },
     "execution_count": 10,
     "metadata": {},
     "output_type": "execute_result"
    }
   ],
   "source": [
    "dfSwf.head()"
   ]
  },
  {
   "cell_type": "code",
   "execution_count": 11,
   "metadata": {
    "collapsed": false
   },
   "outputs": [
    {
     "data": {
      "text/html": [
       "<div>\n",
       "<table border=\"1\" class=\"dataframe\">\n",
       "  <thead>\n",
       "    <tr style=\"text-align: right;\">\n",
       "      <th></th>\n",
       "      <th>411</th>\n",
       "      <th>443</th>\n",
       "      <th>489</th>\n",
       "      <th>510</th>\n",
       "      <th>555</th>\n",
       "      <th>670</th>\n",
       "      <th>chl</th>\n",
       "    </tr>\n",
       "  </thead>\n",
       "  <tbody>\n",
       "    <tr>\n",
       "      <th>count</th>\n",
       "      <td>2404.000000</td>\n",
       "      <td>2404.000000</td>\n",
       "      <td>2404.000000</td>\n",
       "      <td>2404.000000</td>\n",
       "      <td>2404.000000</td>\n",
       "      <td>2404.000000</td>\n",
       "      <td>2404.000000</td>\n",
       "    </tr>\n",
       "    <tr>\n",
       "      <th>mean</th>\n",
       "      <td>0.009913</td>\n",
       "      <td>0.009351</td>\n",
       "      <td>0.009086</td>\n",
       "      <td>0.007638</td>\n",
       "      <td>0.006105</td>\n",
       "      <td>0.001289</td>\n",
       "      <td>1.544312</td>\n",
       "    </tr>\n",
       "    <tr>\n",
       "      <th>std</th>\n",
       "      <td>0.006548</td>\n",
       "      <td>0.005329</td>\n",
       "      <td>0.004598</td>\n",
       "      <td>0.004656</td>\n",
       "      <td>0.006091</td>\n",
       "      <td>0.002629</td>\n",
       "      <td>4.002408</td>\n",
       "    </tr>\n",
       "    <tr>\n",
       "      <th>min</th>\n",
       "      <td>0.000098</td>\n",
       "      <td>0.000365</td>\n",
       "      <td>0.000546</td>\n",
       "      <td>0.000502</td>\n",
       "      <td>0.000398</td>\n",
       "      <td>0.000023</td>\n",
       "      <td>0.000000</td>\n",
       "    </tr>\n",
       "    <tr>\n",
       "      <th>25%</th>\n",
       "      <td>0.005000</td>\n",
       "      <td>0.005335</td>\n",
       "      <td>0.006135</td>\n",
       "      <td>0.005511</td>\n",
       "      <td>0.003029</td>\n",
       "      <td>0.000196</td>\n",
       "      <td>0.054000</td>\n",
       "    </tr>\n",
       "    <tr>\n",
       "      <th>50%</th>\n",
       "      <td>0.007967</td>\n",
       "      <td>0.008120</td>\n",
       "      <td>0.008528</td>\n",
       "      <td>0.006562</td>\n",
       "      <td>0.003970</td>\n",
       "      <td>0.000385</td>\n",
       "      <td>0.301200</td>\n",
       "    </tr>\n",
       "    <tr>\n",
       "      <th>75%</th>\n",
       "      <td>0.013895</td>\n",
       "      <td>0.012699</td>\n",
       "      <td>0.011118</td>\n",
       "      <td>0.007965</td>\n",
       "      <td>0.006047</td>\n",
       "      <td>0.001101</td>\n",
       "      <td>1.218750</td>\n",
       "    </tr>\n",
       "    <tr>\n",
       "      <th>max</th>\n",
       "      <td>0.039485</td>\n",
       "      <td>0.031489</td>\n",
       "      <td>0.046573</td>\n",
       "      <td>0.050136</td>\n",
       "      <td>0.060087</td>\n",
       "      <td>0.031832</td>\n",
       "      <td>72.120000</td>\n",
       "    </tr>\n",
       "  </tbody>\n",
       "</table>\n",
       "</div>"
      ],
      "text/plain": [
       "               411          443          489          510          555  \\\n",
       "count  2404.000000  2404.000000  2404.000000  2404.000000  2404.000000   \n",
       "mean      0.009913     0.009351     0.009086     0.007638     0.006105   \n",
       "std       0.006548     0.005329     0.004598     0.004656     0.006091   \n",
       "min       0.000098     0.000365     0.000546     0.000502     0.000398   \n",
       "25%       0.005000     0.005335     0.006135     0.005511     0.003029   \n",
       "50%       0.007967     0.008120     0.008528     0.006562     0.003970   \n",
       "75%       0.013895     0.012699     0.011118     0.007965     0.006047   \n",
       "max       0.039485     0.031489     0.046573     0.050136     0.060087   \n",
       "\n",
       "               670          chl  \n",
       "count  2404.000000  2404.000000  \n",
       "mean      0.001289     1.544312  \n",
       "std       0.002629     4.002408  \n",
       "min       0.000023     0.000000  \n",
       "25%       0.000196     0.054000  \n",
       "50%       0.000385     0.301200  \n",
       "75%       0.001101     1.218750  \n",
       "max       0.031832    72.120000  "
      ]
     },
     "execution_count": 11,
     "metadata": {},
     "output_type": "execute_result"
    }
   ],
   "source": [
    "dfSwf.describe()"
   ]
  },
  {
   "cell_type": "code",
   "execution_count": 12,
   "metadata": {
    "collapsed": false
   },
   "outputs": [],
   "source": [
    "dfSwf['maxBlue'] = dfSwf.loc[:,[443, 490, 510]].max(axis=1)"
   ]
  },
  {
   "cell_type": "code",
   "execution_count": 12,
   "metadata": {
    "collapsed": false
   },
   "outputs": [
    {
     "data": {
      "text/html": [
       "<div>\n",
       "<table border=\"1\" class=\"dataframe\">\n",
       "  <thead>\n",
       "    <tr style=\"text-align: right;\">\n",
       "      <th></th>\n",
       "      <th>411</th>\n",
       "      <th>443</th>\n",
       "      <th>489</th>\n",
       "      <th>510</th>\n",
       "      <th>555</th>\n",
       "      <th>670</th>\n",
       "      <th>chl</th>\n",
       "    </tr>\n",
       "  </thead>\n",
       "  <tbody>\n",
       "    <tr>\n",
       "      <th>0</th>\n",
       "      <td>0.002307</td>\n",
       "      <td>0.003225</td>\n",
       "      <td>0.006265</td>\n",
       "      <td>0.007661</td>\n",
       "      <td>0.014040</td>\n",
       "      <td>0.006588</td>\n",
       "      <td>38.19</td>\n",
       "    </tr>\n",
       "    <tr>\n",
       "      <th>1</th>\n",
       "      <td>0.002035</td>\n",
       "      <td>0.002650</td>\n",
       "      <td>0.004149</td>\n",
       "      <td>0.004767</td>\n",
       "      <td>0.007878</td>\n",
       "      <td>0.003241</td>\n",
       "      <td>35.01</td>\n",
       "    </tr>\n",
       "    <tr>\n",
       "      <th>2</th>\n",
       "      <td>0.001862</td>\n",
       "      <td>0.002271</td>\n",
       "      <td>0.003523</td>\n",
       "      <td>0.004367</td>\n",
       "      <td>0.008053</td>\n",
       "      <td>0.003084</td>\n",
       "      <td>26.91</td>\n",
       "    </tr>\n",
       "    <tr>\n",
       "      <th>3</th>\n",
       "      <td>0.002817</td>\n",
       "      <td>0.003330</td>\n",
       "      <td>0.005482</td>\n",
       "      <td>0.006963</td>\n",
       "      <td>0.013127</td>\n",
       "      <td>0.006154</td>\n",
       "      <td>47.96</td>\n",
       "    </tr>\n",
       "    <tr>\n",
       "      <th>4</th>\n",
       "      <td>0.001735</td>\n",
       "      <td>0.001959</td>\n",
       "      <td>0.002882</td>\n",
       "      <td>0.003638</td>\n",
       "      <td>0.005337</td>\n",
       "      <td>0.003423</td>\n",
       "      <td>23.55</td>\n",
       "    </tr>\n",
       "  </tbody>\n",
       "</table>\n",
       "</div>"
      ],
      "text/plain": [
       "        411       443       489       510       555       670    chl\n",
       "0  0.002307  0.003225  0.006265  0.007661  0.014040  0.006588  38.19\n",
       "1  0.002035  0.002650  0.004149  0.004767  0.007878  0.003241  35.01\n",
       "2  0.001862  0.002271  0.003523  0.004367  0.008053  0.003084  26.91\n",
       "3  0.002817  0.003330  0.005482  0.006963  0.013127  0.006154  47.96\n",
       "4  0.001735  0.001959  0.002882  0.003638  0.005337  0.003423  23.55"
      ]
     },
     "execution_count": 12,
     "metadata": {},
     "output_type": "execute_result"
    }
   ],
   "source": [
    "dfSwf.head()"
   ]
  },
  {
   "cell_type": "code",
   "execution_count": 13,
   "metadata": {
    "collapsed": false
   },
   "outputs": [
    {
     "name": "stdout",
     "output_type": "stream",
     "text": [
      "<class 'pandas.core.frame.DataFrame'>\n",
      "RangeIndex: 2404 entries, 0 to 2403\n",
      "Data columns (total 7 columns):\n",
      "411    2404 non-null float64\n",
      "443    2404 non-null float64\n",
      "489    2404 non-null float64\n",
      "510    2404 non-null float64\n",
      "555    2404 non-null float64\n",
      "670    2404 non-null float64\n",
      "chl    2404 non-null float64\n",
      "dtypes: float64(7)\n",
      "memory usage: 131.5 KB\n"
     ]
    }
   ],
   "source": [
    "dfSwf.info()"
   ]
  },
  {
   "cell_type": "markdown",
   "metadata": {},
   "source": [
    "no cleanup seemingly necessary but standardization needed"
   ]
  },
  {
   "cell_type": "code",
   "execution_count": null,
   "metadata": {
    "collapsed": true
   },
   "outputs": [],
   "source": []
  },
  {
   "cell_type": "code",
   "execution_count": 14,
   "metadata": {
    "collapsed": false
   },
   "outputs": [],
   "source": [
    "X = np.log10(dfSwf.loc[:,swfWvl ])\n",
    "y = np.log10(dfSwf.loc[:,'chl']+1e-7)"
   ]
  },
  {
   "cell_type": "code",
   "execution_count": 15,
   "metadata": {
    "collapsed": true
   },
   "outputs": [],
   "source": [
    "X_train, X_test, y_train, y_test = train_test_split(X, y, test_size=0.33)"
   ]
  },
  {
   "cell_type": "code",
   "execution_count": 16,
   "metadata": {
    "collapsed": false
   },
   "outputs": [
    {
     "data": {
      "text/html": [
       "<div>\n",
       "<table border=\"1\" class=\"dataframe\">\n",
       "  <thead>\n",
       "    <tr style=\"text-align: right;\">\n",
       "      <th></th>\n",
       "      <th>411</th>\n",
       "      <th>443</th>\n",
       "      <th>489</th>\n",
       "      <th>510</th>\n",
       "      <th>555</th>\n",
       "      <th>670</th>\n",
       "    </tr>\n",
       "  </thead>\n",
       "  <tbody>\n",
       "    <tr>\n",
       "      <th>1049</th>\n",
       "      <td>-1.880740</td>\n",
       "      <td>-1.960728</td>\n",
       "      <td>-2.024052</td>\n",
       "      <td>-2.215354</td>\n",
       "      <td>-2.542065</td>\n",
       "      <td>-3.716580</td>\n",
       "    </tr>\n",
       "    <tr>\n",
       "      <th>2329</th>\n",
       "      <td>-2.182330</td>\n",
       "      <td>-2.171378</td>\n",
       "      <td>-2.109713</td>\n",
       "      <td>-2.115410</td>\n",
       "      <td>-2.143926</td>\n",
       "      <td>-2.969521</td>\n",
       "    </tr>\n",
       "    <tr>\n",
       "      <th>828</th>\n",
       "      <td>-1.824443</td>\n",
       "      <td>-1.890843</td>\n",
       "      <td>-2.003843</td>\n",
       "      <td>-2.186378</td>\n",
       "      <td>-2.505928</td>\n",
       "      <td>-3.482677</td>\n",
       "    </tr>\n",
       "    <tr>\n",
       "      <th>1118</th>\n",
       "      <td>-2.164747</td>\n",
       "      <td>-2.007362</td>\n",
       "      <td>-1.751541</td>\n",
       "      <td>-1.686165</td>\n",
       "      <td>-1.557953</td>\n",
       "      <td>-2.050500</td>\n",
       "    </tr>\n",
       "    <tr>\n",
       "      <th>2358</th>\n",
       "      <td>-1.803496</td>\n",
       "      <td>-1.650073</td>\n",
       "      <td>-1.454912</td>\n",
       "      <td>-1.420693</td>\n",
       "      <td>-1.347400</td>\n",
       "      <td>-1.925490</td>\n",
       "    </tr>\n",
       "  </tbody>\n",
       "</table>\n",
       "</div>"
      ],
      "text/plain": [
       "           411       443       489       510       555       670\n",
       "1049 -1.880740 -1.960728 -2.024052 -2.215354 -2.542065 -3.716580\n",
       "2329 -2.182330 -2.171378 -2.109713 -2.115410 -2.143926 -2.969521\n",
       "828  -1.824443 -1.890843 -2.003843 -2.186378 -2.505928 -3.482677\n",
       "1118 -2.164747 -2.007362 -1.751541 -1.686165 -1.557953 -2.050500\n",
       "2358 -1.803496 -1.650073 -1.454912 -1.420693 -1.347400 -1.925490"
      ]
     },
     "execution_count": 16,
     "metadata": {},
     "output_type": "execute_result"
    }
   ],
   "source": [
    "X_train.head()"
   ]
  },
  {
   "cell_type": "code",
   "execution_count": 23,
   "metadata": {
    "collapsed": false
   },
   "outputs": [
    {
     "data": {
      "text/plain": [
       "1.8580557186525475"
      ]
     },
     "execution_count": 23,
     "metadata": {},
     "output_type": "execute_result"
    }
   ],
   "source": [
    "y_train"
   ]
  },
  {
   "cell_type": "code",
   "execution_count": 21,
   "metadata": {
    "collapsed": true
   },
   "outputs": [],
   "source": [
    "def CI(df):\n",
    "    # assumes df has rrs data at specific wavelengths\n",
    "    blue, green, red=443, 555, 670\n",
    "    ci = df[green] - (df[blue] + (green - blue) / (red - blue) * (df[red] - df[blue]))\n",
    "    return ci"
   ]
  },
  {
   "cell_type": "code",
   "execution_count": 56,
   "metadata": {
    "collapsed": false
   },
   "outputs": [],
   "source": [
    "def OC4(rrsMaxBlue, rrsGreen, log=True):\n",
    "    # maxblue is last column of rrsData\n",
    "    a=[0.3272, -2.9940, 2.7218, -1.2259, -0.5683]\n",
    "    if log:\n",
    "        poly = np.sum([a[i]*np.power((rrsMaxBlue - rrsGreen),i)\n",
    "                       for i in range(1,5) ], axis=0)\n",
    "    else:\n",
    "        poly = np.sum([a[i]*np.power(np.log10(rrsMaxBlue/rrsGreen),i )\n",
    "                       for i in range(1,5) ], axis=0)\n",
    "    poly+=a[0]\n",
    "    chl = np.power(10,poly)\n",
    "    return chl"
   ]
  },
  {
   "cell_type": "code",
   "execution_count": 39,
   "metadata": {
    "collapsed": false
   },
   "outputs": [
    {
     "data": {
      "text/html": [
       "<div>\n",
       "<table border=\"1\" class=\"dataframe\">\n",
       "  <thead>\n",
       "    <tr style=\"text-align: right;\">\n",
       "      <th></th>\n",
       "      <th>411</th>\n",
       "      <th>443</th>\n",
       "      <th>489</th>\n",
       "      <th>510</th>\n",
       "      <th>555</th>\n",
       "      <th>670</th>\n",
       "      <th>chl</th>\n",
       "      <th>maxBlue</th>\n",
       "    </tr>\n",
       "  </thead>\n",
       "  <tbody>\n",
       "    <tr>\n",
       "      <th>0</th>\n",
       "      <td>0.002307</td>\n",
       "      <td>0.003225</td>\n",
       "      <td>0.006265</td>\n",
       "      <td>0.007661</td>\n",
       "      <td>0.014040</td>\n",
       "      <td>0.006588</td>\n",
       "      <td>38.19</td>\n",
       "      <td>0.007661</td>\n",
       "    </tr>\n",
       "    <tr>\n",
       "      <th>1</th>\n",
       "      <td>0.002035</td>\n",
       "      <td>0.002650</td>\n",
       "      <td>0.004149</td>\n",
       "      <td>0.004767</td>\n",
       "      <td>0.007878</td>\n",
       "      <td>0.003241</td>\n",
       "      <td>35.01</td>\n",
       "      <td>0.004767</td>\n",
       "    </tr>\n",
       "    <tr>\n",
       "      <th>2</th>\n",
       "      <td>0.001862</td>\n",
       "      <td>0.002271</td>\n",
       "      <td>0.003523</td>\n",
       "      <td>0.004367</td>\n",
       "      <td>0.008053</td>\n",
       "      <td>0.003084</td>\n",
       "      <td>26.91</td>\n",
       "      <td>0.004367</td>\n",
       "    </tr>\n",
       "    <tr>\n",
       "      <th>3</th>\n",
       "      <td>0.002817</td>\n",
       "      <td>0.003330</td>\n",
       "      <td>0.005482</td>\n",
       "      <td>0.006963</td>\n",
       "      <td>0.013127</td>\n",
       "      <td>0.006154</td>\n",
       "      <td>47.96</td>\n",
       "      <td>0.006963</td>\n",
       "    </tr>\n",
       "    <tr>\n",
       "      <th>4</th>\n",
       "      <td>0.001735</td>\n",
       "      <td>0.001959</td>\n",
       "      <td>0.002882</td>\n",
       "      <td>0.003638</td>\n",
       "      <td>0.005337</td>\n",
       "      <td>0.003423</td>\n",
       "      <td>23.55</td>\n",
       "      <td>0.003638</td>\n",
       "    </tr>\n",
       "  </tbody>\n",
       "</table>\n",
       "</div>"
      ],
      "text/plain": [
       "        411       443       489       510       555       670    chl   maxBlue\n",
       "0  0.002307  0.003225  0.006265  0.007661  0.014040  0.006588  38.19  0.007661\n",
       "1  0.002035  0.002650  0.004149  0.004767  0.007878  0.003241  35.01  0.004767\n",
       "2  0.001862  0.002271  0.003523  0.004367  0.008053  0.003084  26.91  0.004367\n",
       "3  0.002817  0.003330  0.005482  0.006963  0.013127  0.006154  47.96  0.006963\n",
       "4  0.001735  0.001959  0.002882  0.003638  0.005337  0.003423  23.55  0.003638"
      ]
     },
     "execution_count": 39,
     "metadata": {},
     "output_type": "execute_result"
    }
   ],
   "source": [
    "dfSwf.head()"
   ]
  },
  {
   "cell_type": "code",
   "execution_count": 66,
   "metadata": {
    "collapsed": false
   },
   "outputs": [],
   "source": [
    "#X_train comes from X, which was log transformed, so...\n",
    "green = 555\n",
    "maxBlueTrain = X_train[[443, 489, 510]].max(axis=1)\n",
    "chl_train = OC4(maxBlueTrain.values, X_train[green].values, log=True)"
   ]
  },
  {
   "cell_type": "code",
   "execution_count": 67,
   "metadata": {
    "collapsed": false
   },
   "outputs": [
    {
     "data": {
      "image/png": "[encoded data removed]",
      "text/plain": [
       "<matplotlib.figure.Figure at 0x7f8bdd9e1f60>"
      ]
     },
     "metadata": {},
     "output_type": "display_data"
    }
   ],
   "source": [
    "# making sure the log option in oc4 works\n",
    "logchlMdl = OC4(np.log10(dfSwf.maxBlue.values), np.log10(dfSwf[green].values),\n",
    "                  log=True)\n",
    "chlMdl = OC4(dfSwf.maxBlue.values, dfSwf[green].values,log=False)\n",
    "pl.plot(logchlMdl, chlMdl);"
   ]
  },
  {
   "cell_type": "code",
   "execution_count": 43,
   "metadata": {
    "collapsed": false
   },
   "outputs": [
    {
     "data": {
      "image/png": "[encoded data removed]",
      "text/plain": [
       "<matplotlib.figure.Figure at 0x7f8bd919a048>"
      ]
     },
     "metadata": {},
     "output_type": "display_data"
    }
   ],
   "source": [
    "pl.figure(figsize=(6,6))\n",
    "pl.plot(chl_train,dfSwf.chl.values,'ko',alpha=0.5)\n",
    "pl.yscale('log')\n",
    "pl.ylim(1e-2,1e2)\n",
    "pl.xlim(1e-2,1e2)\n",
    "pl.xscale('log')\n",
    "pl.plot([1e-2,1e2],[1e-2,1e2],'k')\n",
    "pl.xlabel('locally estimated chl', fontsize=16)\n",
    "pl.ylabel('original chl', fontsize=16);"
   ]
  },
  {
   "cell_type": "code",
   "execution_count": 24,
   "metadata": {
    "collapsed": false,
    "scrolled": false
   },
   "outputs": [
    {
     "name": "stdout",
     "output_type": "stream",
     "text": [
      "    |    Population Average   |             Best Individual              |\n",
      "---- ------------------------- ------------------------------------------ ----------\n",
      " Gen   Length          Fitness   Length          Fitness      OOB Fitness  Time Left\n",
      "   0    12.98    5.37421008801       10    1.60141143101    2.15308168814     42.41s\n",
      "   1     6.27      2.547998628       11    1.58730009636    2.28008369995     42.10s\n",
      "   2     5.25    2.46617351102        9     1.5959552238    1.92033447122     38.70s\n",
      "   3      5.6    2.42668226587        6    1.57374741264    2.00280432029     35.66s\n",
      "   4     3.57    2.17127505227        6    1.57225105753    2.00635764976     32.58s\n",
      "   5     3.41    2.14353300735        5    1.55440309604    2.03866115076     30.00s\n",
      "   6     3.71    2.14399146919        5    1.51902502782    2.30364477349     27.54s\n",
      "   7     4.53    2.21288848599        5    1.53285135961    2.23262677854     25.31s\n",
      "   8     5.04    2.29974285014        5    1.52598205356    2.24103154184     23.14s\n",
      "   9     5.04    2.32610125395        5    1.53262374175    2.18125634809     21.08s\n",
      "  10     5.04    2.22004330116        5    1.51962355067    2.29825806787     18.98s\n",
      "  11     5.07    2.18051630988        5    1.50863268649    2.45059483666     16.87s\n",
      "  12     5.04    2.21753210963        5    1.50637843926      2.272085604     14.82s\n",
      "  13     5.02     2.3067251994        5    1.51637154069    2.18214769116     12.68s\n",
      "  14     5.04    2.13176786563        5    1.50693846411    2.26704538036     10.56s\n",
      "  15     5.13    2.15355387662        5    1.50554920088    2.27954874938      8.44s\n",
      "  16     5.08    2.14873544088        5    1.49724560042    2.35428115353      6.35s\n",
      "  17     5.13    2.15305280872        5    1.50504977946    2.28404354216      4.23s\n",
      "  18     5.07    2.19158995591        5    1.48949223904    2.42406140599      2.11s\n",
      "  19      5.1     2.1490933035        5       1.51398379    2.20363744737      0.00s\n"
     ]
    },
    {
     "data": {
      "text/plain": [
       "SymbolicRegressor(comparison=True, const_range=(-1.0, 1.0), generations=20,\n",
       "         init_depth=(2, 6), init_method='half and half', max_samples=0.9,\n",
       "         metric='mean absolute error', n_jobs=1, p_crossover=0.6,\n",
       "         p_hoist_mutation=0.05, p_point_mutation=0.2, p_point_replace=0.05,\n",
       "         p_subtree_mutation=0.1, parsimony_coefficient=0.01,\n",
       "         population_size=5000, random_state=None, stopping_criteria=0.0,\n",
       "         tournament_size=20, transformer=True, trigonometric=False,\n",
       "         verbose=1)"
      ]
     },
     "execution_count": 24,
     "metadata": {},
     "output_type": "execute_result"
    }
   ],
   "source": [
    "est_gp = SymbolicRegressor(population_size=5000,\n",
    "                           generations=20,transformer=True,\n",
    "                           trigonometric=False,\n",
    "                           p_crossover=0.6, p_subtree_mutation=0.1,\n",
    "                           p_hoist_mutation=0.05, p_point_mutation=0.2,\n",
    "                           max_samples=0.9, verbose=1, comparison=True, \n",
    "                           parsimony_coefficient=0.01)\n",
    "est_gp.fit(X_train, y_train)"
   ]
  },
  {
   "cell_type": "code",
   "execution_count": 25,
   "metadata": {
    "collapsed": false
   },
   "outputs": [
    {
     "name": "stdout",
     "output_type": "stream",
     "text": [
      "div(sub(X4, X1), 0.679)\n"
     ]
    }
   ],
   "source": [
    "print(est_gp._program)"
   ]
  },
  {
   "cell_type": "code",
   "execution_count": 44,
   "metadata": {
    "collapsed": false
   },
   "outputs": [],
   "source": [
    "y_from_train = est_gp.predict(X_train)"
   ]
  },
  {
   "cell_type": "markdown",
   "metadata": {},
   "source": [
    "### I SHOULD DROP THE ZEROS THEY'RE FUNKY & I BET THEY THROW THE GEN PROG. OFF!"
   ]
  },
  {
   "cell_type": "code",
   "execution_count": 69,
   "metadata": {
    "collapsed": false
   },
   "outputs": [
    {
     "data": {
      "text/plain": [
       "<matplotlib.axes._subplots.AxesSubplot at 0x7f8bdd7eee10>"
      ]
     },
     "execution_count": 69,
     "metadata": {},
     "output_type": "execute_result"
    },
    {
     "data": {
      "image/png": "[encoded data removed]",
      "text/plain": [
       "<matplotlib.figure.Figure at 0x7f8bdd81e390>"
      ]
     },
     "metadata": {},
     "output_type": "display_data"
    }
   ],
   "source": [
    "f,axs = pl.subplots(ncols=2, figsize=(10,6))\n",
    "sb.regplot(y_from_train, y_train, ax=axs[0],)\n",
    "sb.regplot(np.log10(chl_train), y_train, ax=axs[1])"
   ]
  },
  {
   "cell_type": "code",
   "execution_count": 47,
   "metadata": {
    "collapsed": false
   },
   "outputs": [
    {
     "data": {
      "text/plain": [
       "(1610,)"
      ]
     },
     "execution_count": 47,
     "metadata": {},
     "output_type": "execute_result"
    }
   ],
   "source": [
    "y_from_train.shape"
   ]
  },
  {
   "cell_type": "code",
   "execution_count": 48,
   "metadata": {
    "collapsed": false
   },
   "outputs": [
    {
     "data": {
      "text/plain": [
       "(1610,)"
      ]
     },
     "execution_count": 48,
     "metadata": {},
     "output_type": "execute_result"
    }
   ],
   "source": [
    "y_train.shape"
   ]
  },
  {
   "cell_type": "code",
   "execution_count": 49,
   "metadata": {
    "collapsed": false
   },
   "outputs": [
    {
     "data": {
      "text/plain": [
       "(2404,)"
      ]
     },
     "execution_count": 49,
     "metadata": {},
     "output_type": "execute_result"
    }
   ],
   "source": [
    "chl_train.shape"
   ]
  },
  {
   "cell_type": "code",
   "execution_count": 32,
   "metadata": {
    "collapsed": false
   },
   "outputs": [
    {
     "data": {
      "text/plain": [
       "-0.18956266196600291"
      ]
     },
     "execution_count": 32,
     "metadata": {},
     "output_type": "execute_result"
    }
   ],
   "source": [
    "est_gp.score(X_test,y_test)"
   ]
  },
  {
   "cell_type": "code",
   "execution_count": 46,
   "metadata": {
    "collapsed": false
   },
   "outputs": [
    {
     "data": {
      "image/png": "[encoded data removed]",
      "text/plain": [
       "<IPython.core.display.Image object>"
      ]
     },
     "execution_count": 46,
     "metadata": {},
     "output_type": "execute_result"
    }
   ],
   "source": [
    "graph = pydotplus.graphviz.graph_from_dot_data(est_gp._program.export_graphviz())\n",
    "Image(graph.create_png())"
   ]
  },
  {
   "cell_type": "code",
   "execution_count": null,
   "metadata": {
    "collapsed": true
   },
   "outputs": [],
   "source": []
  }
 ],
 "metadata": {
  "kernelspec": {
   "display_name": "Python [conda root]",
   "language": "python",
   "name": "conda-root-py"
  },
  "language_info": {
   "codemirror_mode": {
    "name": "ipython",
    "version": 3
   },
   "file_extension": ".py",
   "mimetype": "text/x-python",
   "name": "python",
   "nbconvert_exporter": "python",
   "pygments_lexer": "ipython3",
   "version": "3.5.2"
  },
  "nikola": {
   "category": "",
   "date": "2017-03-03 15:49:06 UTC-05:00",
   "description": "",
   "link": "",
   "slug": "genetic-programming-estimation-of-marine-chlorophyll-from-ocean-color",
   "tags": "",
   "title": "Genetic Programming: Estimation of Marine Chlorophyll from Ocean Color",
   "type": "text"
  }
 },
 "nbformat": 4,
 "nbformat_minor": 2
}
