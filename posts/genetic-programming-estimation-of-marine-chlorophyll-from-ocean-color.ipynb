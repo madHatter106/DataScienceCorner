{
 "cells": [
  {
   "cell_type": "markdown",
   "metadata": {},
   "source": [
    "Write your post here."
   ]
  },
  {
   "cell_type": "code",
   "execution_count": 5,
   "metadata": {
    "collapsed": true
   },
   "outputs": [],
   "source": [
    "from gplearn.genetic import SymbolicRegressor\n",
    "from sklearn.preprocessing import StandardScaler\n",
    "from sklearn.model_selection import train_test_split\n",
    "from sklearn.utils.random import check_random_state\n",
    "import numpy as np\n",
    "import pandas as pd\n",
    "from matplotlib import pyplot as pl\n",
    "from matplotlib import rcParams\n",
    "from IPython.display import Image\n",
    "from scipy.io import loadmat\n",
    "import pydotplus\n",
    "% matplotlib inline"
   ]
  },
  {
   "cell_type": "code",
   "execution_count": 4,
   "metadata": {
    "collapsed": true
   },
   "outputs": [],
   "source": [
    "rcParams['axes.formatter.limits'] = (-2, 3)\n",
    "rcParams['xtick.labelsize'] = 14\n",
    "rcParams['ytick.labelsize'] = 14\n",
    "rcParams['font.size'] = 16"
   ]
  },
  {
   "cell_type": "code",
   "execution_count": 6,
   "metadata": {
    "collapsed": true
   },
   "outputs": [],
   "source": [
    "fpath ='/accounts/ekarakoy/DATA/OWT/nomad_rrs4clustering.mat'"
   ]
  },
  {
   "cell_type": "code",
   "execution_count": 10,
   "metadata": {
    "collapsed": false
   },
   "outputs": [
    {
     "data": {
      "text/plain": [
       "dict_keys(['lon_nomad', '__header__', 'wl', 'rrs_below', '__globals__', '__version__', 'lat_nomad', 'chl_nomad'])"
      ]
     },
     "execution_count": 10,
     "metadata": {},
     "output_type": "execute_result"
    }
   ],
   "source": [
    "matlabData = loadmat(fpath)\n",
    "matlabData.keys()"
   ]
  },
  {
   "cell_type": "code",
   "execution_count": 13,
   "metadata": {
    "collapsed": false
   },
   "outputs": [],
   "source": [
    "wavelength = matlabData['wl'][0]\n",
    "rrsBelow = matlabData['rrs_below']\n",
    "chl = matlabData['chl_nomad'] # I might use this as an additional feature in clustering"
   ]
  },
  {
   "cell_type": "code",
   "execution_count": 20,
   "metadata": {
    "collapsed": false
   },
   "outputs": [],
   "source": [
    "labels = list(wavelength) + ['chl']\n",
    "df = pd.DataFrame(data=np.hstack((rrsBelow, chl)), columns=labels)"
   ]
  },
  {
   "cell_type": "code",
   "execution_count": 21,
   "metadata": {
    "collapsed": false
   },
   "outputs": [
    {
     "data": {
      "text/html": [
       "<div>\n",
       "<table border=\"1\" class=\"dataframe\">\n",
       "  <thead>\n",
       "    <tr style=\"text-align: right;\">\n",
       "      <th></th>\n",
       "      <th>411</th>\n",
       "      <th>443</th>\n",
       "      <th>469</th>\n",
       "      <th>489</th>\n",
       "      <th>510</th>\n",
       "      <th>520</th>\n",
       "      <th>547</th>\n",
       "      <th>550</th>\n",
       "      <th>555</th>\n",
       "      <th>560</th>\n",
       "      <th>565</th>\n",
       "      <th>670</th>\n",
       "      <th>chl</th>\n",
       "    </tr>\n",
       "  </thead>\n",
       "  <tbody>\n",
       "    <tr>\n",
       "      <th>0</th>\n",
       "      <td>0.002307</td>\n",
       "      <td>0.003225</td>\n",
       "      <td>0.004674</td>\n",
       "      <td>0.006265</td>\n",
       "      <td>0.007661</td>\n",
       "      <td>0.008944</td>\n",
       "      <td>0.012935</td>\n",
       "      <td>0.013410</td>\n",
       "      <td>0.014040</td>\n",
       "      <td>0.014715</td>\n",
       "      <td>0.015325</td>\n",
       "      <td>0.006588</td>\n",
       "      <td>38.19</td>\n",
       "    </tr>\n",
       "    <tr>\n",
       "      <th>1</th>\n",
       "      <td>0.002035</td>\n",
       "      <td>0.002650</td>\n",
       "      <td>0.003273</td>\n",
       "      <td>0.004149</td>\n",
       "      <td>0.004767</td>\n",
       "      <td>0.005416</td>\n",
       "      <td>0.007338</td>\n",
       "      <td>0.007570</td>\n",
       "      <td>0.007878</td>\n",
       "      <td>0.008208</td>\n",
       "      <td>0.008549</td>\n",
       "      <td>0.003241</td>\n",
       "      <td>35.01</td>\n",
       "    </tr>\n",
       "    <tr>\n",
       "      <th>2</th>\n",
       "      <td>0.001862</td>\n",
       "      <td>0.002271</td>\n",
       "      <td>0.002654</td>\n",
       "      <td>0.003523</td>\n",
       "      <td>0.004367</td>\n",
       "      <td>0.005147</td>\n",
       "      <td>0.007423</td>\n",
       "      <td>0.007691</td>\n",
       "      <td>0.008053</td>\n",
       "      <td>0.008434</td>\n",
       "      <td>0.008822</td>\n",
       "      <td>0.003084</td>\n",
       "      <td>26.91</td>\n",
       "    </tr>\n",
       "    <tr>\n",
       "      <th>3</th>\n",
       "      <td>0.002817</td>\n",
       "      <td>0.003330</td>\n",
       "      <td>0.004096</td>\n",
       "      <td>0.005482</td>\n",
       "      <td>0.006963</td>\n",
       "      <td>0.008243</td>\n",
       "      <td>0.012075</td>\n",
       "      <td>0.012525</td>\n",
       "      <td>0.013127</td>\n",
       "      <td>0.013770</td>\n",
       "      <td>0.014361</td>\n",
       "      <td>0.006154</td>\n",
       "      <td>47.96</td>\n",
       "    </tr>\n",
       "    <tr>\n",
       "      <th>4</th>\n",
       "      <td>0.001735</td>\n",
       "      <td>0.001959</td>\n",
       "      <td>0.002129</td>\n",
       "      <td>0.002882</td>\n",
       "      <td>0.003638</td>\n",
       "      <td>0.004115</td>\n",
       "      <td>0.005079</td>\n",
       "      <td>0.005191</td>\n",
       "      <td>0.005337</td>\n",
       "      <td>0.005507</td>\n",
       "      <td>0.005716</td>\n",
       "      <td>0.003423</td>\n",
       "      <td>23.55</td>\n",
       "    </tr>\n",
       "  </tbody>\n",
       "</table>\n",
       "</div>"
      ],
      "text/plain": [
       "        411       443       469       489       510       520       547  \\\n",
       "0  0.002307  0.003225  0.004674  0.006265  0.007661  0.008944  0.012935   \n",
       "1  0.002035  0.002650  0.003273  0.004149  0.004767  0.005416  0.007338   \n",
       "2  0.001862  0.002271  0.002654  0.003523  0.004367  0.005147  0.007423   \n",
       "3  0.002817  0.003330  0.004096  0.005482  0.006963  0.008243  0.012075   \n",
       "4  0.001735  0.001959  0.002129  0.002882  0.003638  0.004115  0.005079   \n",
       "\n",
       "        550       555       560       565       670    chl  \n",
       "0  0.013410  0.014040  0.014715  0.015325  0.006588  38.19  \n",
       "1  0.007570  0.007878  0.008208  0.008549  0.003241  35.01  \n",
       "2  0.007691  0.008053  0.008434  0.008822  0.003084  26.91  \n",
       "3  0.012525  0.013127  0.013770  0.014361  0.006154  47.96  \n",
       "4  0.005191  0.005337  0.005507  0.005716  0.003423  23.55  "
      ]
     },
     "execution_count": 21,
     "metadata": {},
     "output_type": "execute_result"
    }
   ],
   "source": [
    "df.head()"
   ]
  },
  {
   "cell_type": "markdown",
   "metadata": {},
   "source": [
    "Make a new dataframe with just SeaWiFS-wavelength Rrs and chl."
   ]
  },
  {
   "cell_type": "code",
   "execution_count": 37,
   "metadata": {
    "collapsed": true
   },
   "outputs": [],
   "source": [
    "swfWvl = [411, 443, 489, 510, 555, 670]"
   ]
  },
  {
   "cell_type": "code",
   "execution_count": 40,
   "metadata": {
    "collapsed": false
   },
   "outputs": [],
   "source": [
    "dfSwf = df.loc[:, swfWvl + ['chl']]"
   ]
  },
  {
   "cell_type": "code",
   "execution_count": 41,
   "metadata": {
    "collapsed": false
   },
   "outputs": [
    {
     "data": {
      "text/html": [
       "<div>\n",
       "<table border=\"1\" class=\"dataframe\">\n",
       "  <thead>\n",
       "    <tr style=\"text-align: right;\">\n",
       "      <th></th>\n",
       "      <th>411</th>\n",
       "      <th>443</th>\n",
       "      <th>489</th>\n",
       "      <th>510</th>\n",
       "      <th>555</th>\n",
       "      <th>670</th>\n",
       "      <th>chl</th>\n",
       "    </tr>\n",
       "  </thead>\n",
       "  <tbody>\n",
       "    <tr>\n",
       "      <th>0</th>\n",
       "      <td>0.002307</td>\n",
       "      <td>0.003225</td>\n",
       "      <td>0.006265</td>\n",
       "      <td>0.007661</td>\n",
       "      <td>0.014040</td>\n",
       "      <td>0.006588</td>\n",
       "      <td>38.19</td>\n",
       "    </tr>\n",
       "    <tr>\n",
       "      <th>1</th>\n",
       "      <td>0.002035</td>\n",
       "      <td>0.002650</td>\n",
       "      <td>0.004149</td>\n",
       "      <td>0.004767</td>\n",
       "      <td>0.007878</td>\n",
       "      <td>0.003241</td>\n",
       "      <td>35.01</td>\n",
       "    </tr>\n",
       "    <tr>\n",
       "      <th>2</th>\n",
       "      <td>0.001862</td>\n",
       "      <td>0.002271</td>\n",
       "      <td>0.003523</td>\n",
       "      <td>0.004367</td>\n",
       "      <td>0.008053</td>\n",
       "      <td>0.003084</td>\n",
       "      <td>26.91</td>\n",
       "    </tr>\n",
       "    <tr>\n",
       "      <th>3</th>\n",
       "      <td>0.002817</td>\n",
       "      <td>0.003330</td>\n",
       "      <td>0.005482</td>\n",
       "      <td>0.006963</td>\n",
       "      <td>0.013127</td>\n",
       "      <td>0.006154</td>\n",
       "      <td>47.96</td>\n",
       "    </tr>\n",
       "    <tr>\n",
       "      <th>4</th>\n",
       "      <td>0.001735</td>\n",
       "      <td>0.001959</td>\n",
       "      <td>0.002882</td>\n",
       "      <td>0.003638</td>\n",
       "      <td>0.005337</td>\n",
       "      <td>0.003423</td>\n",
       "      <td>23.55</td>\n",
       "    </tr>\n",
       "  </tbody>\n",
       "</table>\n",
       "</div>"
      ],
      "text/plain": [
       "        411       443       489       510       555       670    chl\n",
       "0  0.002307  0.003225  0.006265  0.007661  0.014040  0.006588  38.19\n",
       "1  0.002035  0.002650  0.004149  0.004767  0.007878  0.003241  35.01\n",
       "2  0.001862  0.002271  0.003523  0.004367  0.008053  0.003084  26.91\n",
       "3  0.002817  0.003330  0.005482  0.006963  0.013127  0.006154  47.96\n",
       "4  0.001735  0.001959  0.002882  0.003638  0.005337  0.003423  23.55"
      ]
     },
     "execution_count": 41,
     "metadata": {},
     "output_type": "execute_result"
    }
   ],
   "source": [
    "dfSwf.head()"
   ]
  },
  {
   "cell_type": "code",
   "execution_count": 29,
   "metadata": {
    "collapsed": false
   },
   "outputs": [
    {
     "data": {
      "text/html": [
       "<div>\n",
       "<table border=\"1\" class=\"dataframe\">\n",
       "  <thead>\n",
       "    <tr style=\"text-align: right;\">\n",
       "      <th></th>\n",
       "      <th>411</th>\n",
       "      <th>443</th>\n",
       "      <th>489</th>\n",
       "      <th>510</th>\n",
       "      <th>555</th>\n",
       "      <th>670</th>\n",
       "      <th>chl</th>\n",
       "    </tr>\n",
       "  </thead>\n",
       "  <tbody>\n",
       "    <tr>\n",
       "      <th>count</th>\n",
       "      <td>2404.000000</td>\n",
       "      <td>2404.000000</td>\n",
       "      <td>2404.000000</td>\n",
       "      <td>2404.000000</td>\n",
       "      <td>2404.000000</td>\n",
       "      <td>2404.000000</td>\n",
       "      <td>2404.000000</td>\n",
       "    </tr>\n",
       "    <tr>\n",
       "      <th>mean</th>\n",
       "      <td>0.009913</td>\n",
       "      <td>0.009351</td>\n",
       "      <td>0.009086</td>\n",
       "      <td>0.007638</td>\n",
       "      <td>0.006105</td>\n",
       "      <td>0.001289</td>\n",
       "      <td>1.544312</td>\n",
       "    </tr>\n",
       "    <tr>\n",
       "      <th>std</th>\n",
       "      <td>0.006548</td>\n",
       "      <td>0.005329</td>\n",
       "      <td>0.004598</td>\n",
       "      <td>0.004656</td>\n",
       "      <td>0.006091</td>\n",
       "      <td>0.002629</td>\n",
       "      <td>4.002408</td>\n",
       "    </tr>\n",
       "    <tr>\n",
       "      <th>min</th>\n",
       "      <td>0.000098</td>\n",
       "      <td>0.000365</td>\n",
       "      <td>0.000546</td>\n",
       "      <td>0.000502</td>\n",
       "      <td>0.000398</td>\n",
       "      <td>0.000023</td>\n",
       "      <td>0.000000</td>\n",
       "    </tr>\n",
       "    <tr>\n",
       "      <th>25%</th>\n",
       "      <td>0.005000</td>\n",
       "      <td>0.005335</td>\n",
       "      <td>0.006135</td>\n",
       "      <td>0.005511</td>\n",
       "      <td>0.003029</td>\n",
       "      <td>0.000196</td>\n",
       "      <td>0.054000</td>\n",
       "    </tr>\n",
       "    <tr>\n",
       "      <th>50%</th>\n",
       "      <td>0.007967</td>\n",
       "      <td>0.008120</td>\n",
       "      <td>0.008528</td>\n",
       "      <td>0.006562</td>\n",
       "      <td>0.003970</td>\n",
       "      <td>0.000385</td>\n",
       "      <td>0.301200</td>\n",
       "    </tr>\n",
       "    <tr>\n",
       "      <th>75%</th>\n",
       "      <td>0.013895</td>\n",
       "      <td>0.012699</td>\n",
       "      <td>0.011118</td>\n",
       "      <td>0.007965</td>\n",
       "      <td>0.006047</td>\n",
       "      <td>0.001101</td>\n",
       "      <td>1.218750</td>\n",
       "    </tr>\n",
       "    <tr>\n",
       "      <th>max</th>\n",
       "      <td>0.039485</td>\n",
       "      <td>0.031489</td>\n",
       "      <td>0.046573</td>\n",
       "      <td>0.050136</td>\n",
       "      <td>0.060087</td>\n",
       "      <td>0.031832</td>\n",
       "      <td>72.120000</td>\n",
       "    </tr>\n",
       "  </tbody>\n",
       "</table>\n",
       "</div>"
      ],
      "text/plain": [
       "               411          443          489          510          555  \\\n",
       "count  2404.000000  2404.000000  2404.000000  2404.000000  2404.000000   \n",
       "mean      0.009913     0.009351     0.009086     0.007638     0.006105   \n",
       "std       0.006548     0.005329     0.004598     0.004656     0.006091   \n",
       "min       0.000098     0.000365     0.000546     0.000502     0.000398   \n",
       "25%       0.005000     0.005335     0.006135     0.005511     0.003029   \n",
       "50%       0.007967     0.008120     0.008528     0.006562     0.003970   \n",
       "75%       0.013895     0.012699     0.011118     0.007965     0.006047   \n",
       "max       0.039485     0.031489     0.046573     0.050136     0.060087   \n",
       "\n",
       "               670          chl  \n",
       "count  2404.000000  2404.000000  \n",
       "mean      0.001289     1.544312  \n",
       "std       0.002629     4.002408  \n",
       "min       0.000023     0.000000  \n",
       "25%       0.000196     0.054000  \n",
       "50%       0.000385     0.301200  \n",
       "75%       0.001101     1.218750  \n",
       "max       0.031832    72.120000  "
      ]
     },
     "execution_count": 29,
     "metadata": {},
     "output_type": "execute_result"
    }
   ],
   "source": [
    "dfSwf.describe()"
   ]
  },
  {
   "cell_type": "code",
   "execution_count": 50,
   "metadata": {
    "collapsed": false
   },
   "outputs": [],
   "source": [
    "dfSwf['maxBlue'] = dfSwf.loc[:,[443, 490, 510]].max(axis=1)"
   ]
  },
  {
   "cell_type": "code",
   "execution_count": 51,
   "metadata": {
    "collapsed": false
   },
   "outputs": [
    {
     "data": {
      "text/html": [
       "<div>\n",
       "<table border=\"1\" class=\"dataframe\">\n",
       "  <thead>\n",
       "    <tr style=\"text-align: right;\">\n",
       "      <th></th>\n",
       "      <th>411</th>\n",
       "      <th>443</th>\n",
       "      <th>489</th>\n",
       "      <th>510</th>\n",
       "      <th>555</th>\n",
       "      <th>670</th>\n",
       "      <th>chl</th>\n",
       "      <th>maxBlue</th>\n",
       "    </tr>\n",
       "  </thead>\n",
       "  <tbody>\n",
       "    <tr>\n",
       "      <th>0</th>\n",
       "      <td>0.002307</td>\n",
       "      <td>0.003225</td>\n",
       "      <td>0.006265</td>\n",
       "      <td>0.007661</td>\n",
       "      <td>0.014040</td>\n",
       "      <td>0.006588</td>\n",
       "      <td>38.19</td>\n",
       "      <td>0.007661</td>\n",
       "    </tr>\n",
       "    <tr>\n",
       "      <th>1</th>\n",
       "      <td>0.002035</td>\n",
       "      <td>0.002650</td>\n",
       "      <td>0.004149</td>\n",
       "      <td>0.004767</td>\n",
       "      <td>0.007878</td>\n",
       "      <td>0.003241</td>\n",
       "      <td>35.01</td>\n",
       "      <td>0.004767</td>\n",
       "    </tr>\n",
       "    <tr>\n",
       "      <th>2</th>\n",
       "      <td>0.001862</td>\n",
       "      <td>0.002271</td>\n",
       "      <td>0.003523</td>\n",
       "      <td>0.004367</td>\n",
       "      <td>0.008053</td>\n",
       "      <td>0.003084</td>\n",
       "      <td>26.91</td>\n",
       "      <td>0.004367</td>\n",
       "    </tr>\n",
       "    <tr>\n",
       "      <th>3</th>\n",
       "      <td>0.002817</td>\n",
       "      <td>0.003330</td>\n",
       "      <td>0.005482</td>\n",
       "      <td>0.006963</td>\n",
       "      <td>0.013127</td>\n",
       "      <td>0.006154</td>\n",
       "      <td>47.96</td>\n",
       "      <td>0.006963</td>\n",
       "    </tr>\n",
       "    <tr>\n",
       "      <th>4</th>\n",
       "      <td>0.001735</td>\n",
       "      <td>0.001959</td>\n",
       "      <td>0.002882</td>\n",
       "      <td>0.003638</td>\n",
       "      <td>0.005337</td>\n",
       "      <td>0.003423</td>\n",
       "      <td>23.55</td>\n",
       "      <td>0.003638</td>\n",
       "    </tr>\n",
       "  </tbody>\n",
       "</table>\n",
       "</div>"
      ],
      "text/plain": [
       "        411       443       489       510       555       670    chl   maxBlue\n",
       "0  0.002307  0.003225  0.006265  0.007661  0.014040  0.006588  38.19  0.007661\n",
       "1  0.002035  0.002650  0.004149  0.004767  0.007878  0.003241  35.01  0.004767\n",
       "2  0.001862  0.002271  0.003523  0.004367  0.008053  0.003084  26.91  0.004367\n",
       "3  0.002817  0.003330  0.005482  0.006963  0.013127  0.006154  47.96  0.006963\n",
       "4  0.001735  0.001959  0.002882  0.003638  0.005337  0.003423  23.55  0.003638"
      ]
     },
     "execution_count": 51,
     "metadata": {},
     "output_type": "execute_result"
    }
   ],
   "source": [
    "dfSwf.head()"
   ]
  },
  {
   "cell_type": "code",
   "execution_count": 30,
   "metadata": {
    "collapsed": false
   },
   "outputs": [
    {
     "name": "stdout",
     "output_type": "stream",
     "text": [
      "<class 'pandas.core.frame.DataFrame'>\n",
      "RangeIndex: 2404 entries, 0 to 2403\n",
      "Data columns (total 7 columns):\n",
      "411    2404 non-null float64\n",
      "443    2404 non-null float64\n",
      "489    2404 non-null float64\n",
      "510    2404 non-null float64\n",
      "555    2404 non-null float64\n",
      "670    2404 non-null float64\n",
      "chl    2404 non-null float64\n",
      "dtypes: float64(7)\n",
      "memory usage: 131.5 KB\n"
     ]
    }
   ],
   "source": [
    "dfSwf.info()"
   ]
  },
  {
   "cell_type": "markdown",
   "metadata": {},
   "source": [
    "no cleanup seemingly necessary but standardization needed"
   ]
  },
  {
   "cell_type": "code",
   "execution_count": 76,
   "metadata": {
    "collapsed": true
   },
   "outputs": [],
   "source": [
    "X = dfSwf.loc[:,swfWvl + ['maxBlue']]\n",
    "y = dfSwf.loc[:,'chl']"
   ]
  },
  {
   "cell_type": "code",
   "execution_count": 55,
   "metadata": {
    "collapsed": false
   },
   "outputs": [
    {
     "data": {
      "text/plain": [
       "((2404, 7), (2404,))"
      ]
     },
     "execution_count": 55,
     "metadata": {},
     "output_type": "execute_result"
    }
   ],
   "source": [
    "X.shape, y.shape"
   ]
  },
  {
   "cell_type": "code",
   "execution_count": 61,
   "metadata": {
    "collapsed": false
   },
   "outputs": [
    {
     "data": {
      "text/html": [
       "<div>\n",
       "<table border=\"1\" class=\"dataframe\">\n",
       "  <thead>\n",
       "    <tr style=\"text-align: right;\">\n",
       "      <th></th>\n",
       "      <th>411</th>\n",
       "      <th>443</th>\n",
       "      <th>489</th>\n",
       "      <th>510</th>\n",
       "      <th>555</th>\n",
       "      <th>670</th>\n",
       "      <th>maxBlue</th>\n",
       "    </tr>\n",
       "  </thead>\n",
       "  <tbody>\n",
       "    <tr>\n",
       "      <th>1310</th>\n",
       "      <td>0.007818</td>\n",
       "      <td>0.007931</td>\n",
       "      <td>0.008358</td>\n",
       "      <td>0.007578</td>\n",
       "      <td>0.005549</td>\n",
       "      <td>0.000556</td>\n",
       "      <td>0.007931</td>\n",
       "    </tr>\n",
       "    <tr>\n",
       "      <th>1814</th>\n",
       "      <td>0.004469</td>\n",
       "      <td>0.004518</td>\n",
       "      <td>0.004765</td>\n",
       "      <td>0.004566</td>\n",
       "      <td>0.003793</td>\n",
       "      <td>0.000753</td>\n",
       "      <td>0.004566</td>\n",
       "    </tr>\n",
       "    <tr>\n",
       "      <th>928</th>\n",
       "      <td>0.007968</td>\n",
       "      <td>0.010205</td>\n",
       "      <td>0.014261</td>\n",
       "      <td>0.016086</td>\n",
       "      <td>0.019881</td>\n",
       "      <td>0.007593</td>\n",
       "      <td>0.016086</td>\n",
       "    </tr>\n",
       "    <tr>\n",
       "      <th>1608</th>\n",
       "      <td>0.005798</td>\n",
       "      <td>0.005981</td>\n",
       "      <td>0.008126</td>\n",
       "      <td>0.008665</td>\n",
       "      <td>0.008786</td>\n",
       "      <td>0.001569</td>\n",
       "      <td>0.008665</td>\n",
       "    </tr>\n",
       "    <tr>\n",
       "      <th>1497</th>\n",
       "      <td>0.004918</td>\n",
       "      <td>0.004571</td>\n",
       "      <td>0.004863</td>\n",
       "      <td>0.005005</td>\n",
       "      <td>0.006060</td>\n",
       "      <td>0.001156</td>\n",
       "      <td>0.005005</td>\n",
       "    </tr>\n",
       "  </tbody>\n",
       "</table>\n",
       "</div>"
      ],
      "text/plain": [
       "           411       443       489       510       555       670   maxBlue\n",
       "1310  0.007818  0.007931  0.008358  0.007578  0.005549  0.000556  0.007931\n",
       "1814  0.004469  0.004518  0.004765  0.004566  0.003793  0.000753  0.004566\n",
       "928   0.007968  0.010205  0.014261  0.016086  0.019881  0.007593  0.016086\n",
       "1608  0.005798  0.005981  0.008126  0.008665  0.008786  0.001569  0.008665\n",
       "1497  0.004918  0.004571  0.004863  0.005005  0.006060  0.001156  0.005005"
      ]
     },
     "execution_count": 61,
     "metadata": {},
     "output_type": "execute_result"
    }
   ],
   "source": [
    "X_train.head()"
   ]
  },
  {
   "cell_type": "code",
   "execution_count": 56,
   "metadata": {
    "collapsed": true
   },
   "outputs": [],
   "source": [
    "X_train, X_test, y_train, y_test = train_test_split(X, y, test_size=0.33)"
   ]
  },
  {
   "cell_type": "code",
   "execution_count": 79,
   "metadata": {
    "collapsed": false
   },
   "outputs": [],
   "source": [
    "maxBlue_train = X_train.maxBlue\n",
    "maxBlue_test = X_test.maxBlue\n",
    "X_train.drop('maxBlue',axis=1, inplace=True)\n",
    "X_test.drop('maxBlue',axis=1, inplace=True)"
   ]
  },
  {
   "cell_type": "code",
   "execution_count": 88,
   "metadata": {
    "collapsed": true
   },
   "outputs": [],
   "source": [
    "def CI(df):\n",
    "    # assumes df has rrs data at specific wavelengths\n",
    "    blue, green, red=443, 555, 670\n",
    "    ci = df[green] - (df[blue] + (green - blue) / (red - blue) * (df[red] - df[blue]))\n",
    "    return ci"
   ]
  },
  {
   "cell_type": "code",
   "execution_count": 91,
   "metadata": {
    "collapsed": true
   },
   "outputs": [],
   "source": [
    "def OC4(rrsMaxBlue, rrsGreen):\n",
    "    # maxblue is last column of rrsData\n",
    "    a=[0.3272, -2.9940, 2.7218, -1.2259, -0.5683]\n",
    "    poly = a[0] + np.sum([a[i]*np.power(np.log10(rrsMaxBlue/rrsGreen),i )\n",
    "                          for i in range(1,5) ], axis=0)\n",
    "    chl = np.power(10,poly)\n",
    "    return chl"
   ]
  },
  {
   "cell_type": "code",
   "execution_count": 92,
   "metadata": {
    "collapsed": false
   },
   "outputs": [],
   "source": [
    "green = 555\n",
    "chl_train = OC4(maxBlue_train.values, X_train[green].values)"
   ]
  },
  {
   "cell_type": "code",
   "execution_count": 98,
   "metadata": {
    "collapsed": false
   },
   "outputs": [
    {
     "data": {
      "text/plain": [
       "<matplotlib.text.Text at 0x7f54361dad30>"
      ]
     },
     "execution_count": 98,
     "metadata": {},
     "output_type": "execute_result"
    },
    {
     "data": {
      "image/png": "[encoded data removed]",
      "text/plain": [
       "<matplotlib.figure.Figure at 0x7f5435f07b70>"
      ]
     },
     "metadata": {},
     "output_type": "display_data"
    }
   ],
   "source": [
    "pl.figure(figsize=(6,6))\n",
    "pl.plot(chl_train,y_train.values,'b.')\n",
    "pl.yscale('log')\n",
    "pl.ylim(1e-2,1e2)\n",
    "pl.xlim(1e-2,1e2)\n",
    "pl.xscale('log')\n",
    "pl.plot([1e-2,1e2],[1e-2,1e2],'k')\n",
    "pl.xlabel('locally estimated chl', fontsize=16)\n",
    "pl.ylabel('original chl', fontsize=16)"
   ]
  },
  {
   "cell_type": "code",
   "execution_count": 86,
   "metadata": {
    "collapsed": false
   },
   "outputs": [
    {
     "data": {
      "text/plain": [
       "(1610,)"
      ]
     },
     "execution_count": 86,
     "metadata": {},
     "output_type": "execute_result"
    }
   ],
   "source": [
    "y_train.shape"
   ]
  },
  {
   "cell_type": "code",
   "execution_count": 73,
   "metadata": {
    "collapsed": true
   },
   "outputs": [],
   "source": [
    "a = X_train['maxBlue'].values / X_train[green].values"
   ]
  },
  {
   "cell_type": "code",
   "execution_count": null,
   "metadata": {
    "collapsed": true
   },
   "outputs": [],
   "source": []
  }
 ],
 "metadata": {
  "kernelspec": {
   "display_name": "Python [conda root]",
   "language": "python",
   "name": "conda-root-py"
  },
  "language_info": {
   "codemirror_mode": {
    "name": "ipython",
    "version": 3
   },
   "file_extension": ".py",
   "mimetype": "text/x-python",
   "name": "python",
   "nbconvert_exporter": "python",
   "pygments_lexer": "ipython3",
   "version": "3.5.2"
  },
  "nikola": {
   "category": "",
   "date": "2017-03-03 15:49:06 UTC-05:00",
   "description": "",
   "link": "",
   "slug": "genetic-programming-estimation-of-marine-chlorophyll-from-ocean-color",
   "tags": "",
   "title": "Genetic Programming: Estimation of Marine Chlorophyll from Ocean Color",
   "type": "text"
  }
 },
 "nbformat": 4,
 "nbformat_minor": 2
}
