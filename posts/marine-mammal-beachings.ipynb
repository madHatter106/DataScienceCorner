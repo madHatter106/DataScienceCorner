{
 "cells": [
  {
   "cell_type": "markdown",
   "metadata": {},
   "source": [
    "This post is part of a series documenting my (meager) contributions to an [investigative effort](https://www.nasa.gov/feature/goddard/2017/nasa-scientist-studies-whether-solar-storms-cause-animal-beachings) to uncover relations, if any, between space weather marine mammal beaching. This first installment, is a warm-up where I explore a small part of marine mammal beaching time series recorded in the vicinity of Cape Cod, Massachusetts (USA)."
   ]
  },
  {
   "cell_type": "code",
   "execution_count": 23,
   "metadata": {
    "collapsed": true
   },
   "outputs": [],
   "source": [
    "import pandas as pd\n",
    "import os\n",
    "import glob\n",
    "import matplotlib.pyplot as pl\n",
    "import seaborn as sb\n",
    "import matplotlib.colors as mcolors\n",
    "import numpy as np\n",
    "%matplotlib inline"
   ]
  },
  {
   "cell_type": "code",
   "execution_count": 2,
   "metadata": {
    "collapsed": true
   },
   "outputs": [],
   "source": [
    "fp = '/home/madhatter106/DATA/Beaching_Project/IFAW Mass Stranding Data 1999-2014.xlsx'\n",
    "try:\n",
    "    df = pd.read_excel(fp)\n",
    "except FileNotFoundError as e:\n",
    "    print(e)"
   ]
  },
  {
   "cell_type": "code",
   "execution_count": 3,
   "metadata": {
    "collapsed": false
   },
   "outputs": [
    {
     "data": {
      "text/plain": [
       "Index(['MASS_STRAND_NUM', 'SERIES_NUM', 'Event Start Date',\n",
       "       'Event End date (if applicable)', 'COMMENTS',\n",
       "       'Number of Animals Stranded', 'Number of Additional Animals Herded',\n",
       "       'LATITUDE_DEGREE', 'LONGITUDE_DEGREE', 'Addn. LATITUDE_DEGREE ',\n",
       "       'Addm. LONGITUDE_DEGREE', 'SPECIES'],\n",
       "      dtype='object')"
      ]
     },
     "execution_count": 3,
     "metadata": {},
     "output_type": "execute_result"
    }
   ],
   "source": [
    "df.columns"
   ]
  },
  {
   "cell_type": "code",
   "execution_count": 4,
   "metadata": {
    "collapsed": false
   },
   "outputs": [
    {
     "data": {
      "text/html": [
       "<div>\n",
       "<table border=\"1\" class=\"dataframe\">\n",
       "  <thead>\n",
       "    <tr style=\"text-align: right;\">\n",
       "      <th></th>\n",
       "      <th>MASS_STRAND_NUM</th>\n",
       "      <th>SERIES_NUM</th>\n",
       "      <th>Event Start Date</th>\n",
       "      <th>Event End date (if applicable)</th>\n",
       "      <th>COMMENTS</th>\n",
       "      <th>Number of Animals Stranded</th>\n",
       "      <th>Number of Additional Animals Herded</th>\n",
       "      <th>LATITUDE_DEGREE</th>\n",
       "      <th>LONGITUDE_DEGREE</th>\n",
       "      <th>Addn. LATITUDE_DEGREE</th>\n",
       "      <th>Addm. LONGITUDE_DEGREE</th>\n",
       "      <th>SPECIES</th>\n",
       "    </tr>\n",
       "  </thead>\n",
       "  <tbody>\n",
       "    <tr>\n",
       "      <th>0</th>\n",
       "      <td>MS00-01</td>\n",
       "      <td>Series0003</td>\n",
       "      <td>2000-04-09</td>\n",
       "      <td>NaN</td>\n",
       "      <td>Collected level A data\\n\\nCattle ear tag white...</td>\n",
       "      <td>2.0</td>\n",
       "      <td>0.0</td>\n",
       "      <td>41.930667</td>\n",
       "      <td>70.069667</td>\n",
       "      <td>NaN</td>\n",
       "      <td>NaN</td>\n",
       "      <td>Lagenorhynchus acutus</td>\n",
       "    </tr>\n",
       "    <tr>\n",
       "      <th>1</th>\n",
       "      <td>MS00-02</td>\n",
       "      <td>Series0003</td>\n",
       "      <td>2000-04-11</td>\n",
       "      <td>NaN</td>\n",
       "      <td>Skin- Kim Amaral,  Dorsal fin to G. Early\\n\\nS...</td>\n",
       "      <td>2.0</td>\n",
       "      <td>0.0</td>\n",
       "      <td>41.933333</td>\n",
       "      <td>70.024167</td>\n",
       "      <td>NaN</td>\n",
       "      <td>NaN</td>\n",
       "      <td>Lagenorhynchus acutus</td>\n",
       "    </tr>\n",
       "  </tbody>\n",
       "</table>\n",
       "</div>"
      ],
      "text/plain": [
       "  MASS_STRAND_NUM  SERIES_NUM Event Start Date  \\\n",
       "0         MS00-01  Series0003       2000-04-09   \n",
       "1         MS00-02  Series0003       2000-04-11   \n",
       "\n",
       "   Event End date (if applicable)  \\\n",
       "0                             NaN   \n",
       "1                             NaN   \n",
       "\n",
       "                                            COMMENTS  \\\n",
       "0  Collected level A data\\n\\nCattle ear tag white...   \n",
       "1  Skin- Kim Amaral,  Dorsal fin to G. Early\\n\\nS...   \n",
       "\n",
       "   Number of Animals Stranded  Number of Additional Animals Herded  \\\n",
       "0                         2.0                                  0.0   \n",
       "1                         2.0                                  0.0   \n",
       "\n",
       "   LATITUDE_DEGREE  LONGITUDE_DEGREE  Addn. LATITUDE_DEGREE   \\\n",
       "0        41.930667         70.069667                     NaN   \n",
       "1        41.933333         70.024167                     NaN   \n",
       "\n",
       "   Addm. LONGITUDE_DEGREE                SPECIES  \n",
       "0                     NaN  Lagenorhynchus acutus  \n",
       "1                     NaN  Lagenorhynchus acutus  "
      ]
     },
     "execution_count": 4,
     "metadata": {},
     "output_type": "execute_result"
    }
   ],
   "source": [
    "df.head(2)"
   ]
  },
  {
   "cell_type": "markdown",
   "metadata": {},
   "source": [
    "Cleanup: too many non-features (useless columns), I'll start by dropping those. There are several lines for a given event, and at this point I want to use only the line that has the numbers stranding and herded numbers. I also care about numbers of stranded/herded animals, location, date, species. But before, let's get some stats on the whole set..."
   ]
  },
  {
   "cell_type": "code",
   "execution_count": 5,
   "metadata": {
    "collapsed": false
   },
   "outputs": [
    {
     "data": {
      "text/html": [
       "<div>\n",
       "<table border=\"1\" class=\"dataframe\">\n",
       "  <thead>\n",
       "    <tr style=\"text-align: right;\">\n",
       "      <th></th>\n",
       "      <th>Event End date (if applicable)</th>\n",
       "      <th>Number of Animals Stranded</th>\n",
       "      <th>Number of Additional Animals Herded</th>\n",
       "      <th>LATITUDE_DEGREE</th>\n",
       "      <th>LONGITUDE_DEGREE</th>\n",
       "      <th>Addn. LATITUDE_DEGREE</th>\n",
       "      <th>Addm. LONGITUDE_DEGREE</th>\n",
       "    </tr>\n",
       "  </thead>\n",
       "  <tbody>\n",
       "    <tr>\n",
       "      <th>count</th>\n",
       "      <td>0.0</td>\n",
       "      <td>160.00000</td>\n",
       "      <td>157.000000</td>\n",
       "      <td>2.310000e+02</td>\n",
       "      <td>2.310000e+02</td>\n",
       "      <td>2.040000e+02</td>\n",
       "      <td>2.040000e+02</td>\n",
       "    </tr>\n",
       "    <tr>\n",
       "      <th>mean</th>\n",
       "      <td>NaN</td>\n",
       "      <td>5.70625</td>\n",
       "      <td>0.242038</td>\n",
       "      <td>1.812812e+04</td>\n",
       "      <td>3.034970e+04</td>\n",
       "      <td>2.052188e+04</td>\n",
       "      <td>3.435730e+04</td>\n",
       "    </tr>\n",
       "    <tr>\n",
       "      <th>std</th>\n",
       "      <td>NaN</td>\n",
       "      <td>6.34203</td>\n",
       "      <td>1.885849</td>\n",
       "      <td>2.748874e+05</td>\n",
       "      <td>4.608534e+05</td>\n",
       "      <td>2.925134e+05</td>\n",
       "      <td>4.904041e+05</td>\n",
       "    </tr>\n",
       "    <tr>\n",
       "      <th>min</th>\n",
       "      <td>NaN</td>\n",
       "      <td>1.00000</td>\n",
       "      <td>0.000000</td>\n",
       "      <td>4.142633e+01</td>\n",
       "      <td>-7.047960e+01</td>\n",
       "      <td>4.142633e+01</td>\n",
       "      <td>-7.047960e+01</td>\n",
       "    </tr>\n",
       "    <tr>\n",
       "      <th>25%</th>\n",
       "      <td>NaN</td>\n",
       "      <td>2.00000</td>\n",
       "      <td>0.000000</td>\n",
       "      <td>4.177622e+01</td>\n",
       "      <td>-7.000550e+01</td>\n",
       "      <td>4.177515e+01</td>\n",
       "      <td>-7.001266e+01</td>\n",
       "    </tr>\n",
       "    <tr>\n",
       "      <th>50%</th>\n",
       "      <td>NaN</td>\n",
       "      <td>4.00000</td>\n",
       "      <td>0.000000</td>\n",
       "      <td>4.189230e+01</td>\n",
       "      <td>7.002337e+01</td>\n",
       "      <td>4.187768e+01</td>\n",
       "      <td>7.001643e+01</td>\n",
       "    </tr>\n",
       "    <tr>\n",
       "      <th>75%</th>\n",
       "      <td>NaN</td>\n",
       "      <td>6.00000</td>\n",
       "      <td>0.000000</td>\n",
       "      <td>4.192809e+01</td>\n",
       "      <td>7.006647e+01</td>\n",
       "      <td>4.192696e+01</td>\n",
       "      <td>7.006717e+01</td>\n",
       "    </tr>\n",
       "    <tr>\n",
       "      <th>max</th>\n",
       "      <td>NaN</td>\n",
       "      <td>56.00000</td>\n",
       "      <td>20.000000</td>\n",
       "      <td>4.177969e+06</td>\n",
       "      <td>7.004393e+06</td>\n",
       "      <td>4.177969e+06</td>\n",
       "      <td>7.004393e+06</td>\n",
       "    </tr>\n",
       "  </tbody>\n",
       "</table>\n",
       "</div>"
      ],
      "text/plain": [
       "       Event End date (if applicable)  Number of Animals Stranded  \\\n",
       "count                             0.0                   160.00000   \n",
       "mean                              NaN                     5.70625   \n",
       "std                               NaN                     6.34203   \n",
       "min                               NaN                     1.00000   \n",
       "25%                               NaN                     2.00000   \n",
       "50%                               NaN                     4.00000   \n",
       "75%                               NaN                     6.00000   \n",
       "max                               NaN                    56.00000   \n",
       "\n",
       "       Number of Additional Animals Herded  LATITUDE_DEGREE  LONGITUDE_DEGREE  \\\n",
       "count                           157.000000     2.310000e+02      2.310000e+02   \n",
       "mean                              0.242038     1.812812e+04      3.034970e+04   \n",
       "std                               1.885849     2.748874e+05      4.608534e+05   \n",
       "min                               0.000000     4.142633e+01     -7.047960e+01   \n",
       "25%                               0.000000     4.177622e+01     -7.000550e+01   \n",
       "50%                               0.000000     4.189230e+01      7.002337e+01   \n",
       "75%                               0.000000     4.192809e+01      7.006647e+01   \n",
       "max                              20.000000     4.177969e+06      7.004393e+06   \n",
       "\n",
       "       Addn. LATITUDE_DEGREE   Addm. LONGITUDE_DEGREE  \n",
       "count            2.040000e+02            2.040000e+02  \n",
       "mean             2.052188e+04            3.435730e+04  \n",
       "std              2.925134e+05            4.904041e+05  \n",
       "min              4.142633e+01           -7.047960e+01  \n",
       "25%              4.177515e+01           -7.001266e+01  \n",
       "50%              4.187768e+01            7.001643e+01  \n",
       "75%              4.192696e+01            7.006717e+01  \n",
       "max              4.177969e+06            7.004393e+06  "
      ]
     },
     "execution_count": 5,
     "metadata": {},
     "output_type": "execute_result"
    }
   ],
   "source": [
    "df.describe()"
   ]
  },
  {
   "cell_type": "markdown",
   "metadata": {},
   "source": [
    "160 data for stranded. and 157 data for herded. For now I'll also ditch Addn. Lat/Lon. This is not final however, and I might still reincorporate that data once again, if I feel the need."
   ]
  },
  {
   "cell_type": "code",
   "execution_count": 6,
   "metadata": {
    "collapsed": false
   },
   "outputs": [],
   "source": [
    "df.drop(['MASS_STRAND_NUM','SERIES_NUM','Event End date (if applicable)','COMMENTS','Addn. LATITUDE_DEGREE ',\n",
    "         'Addm. LONGITUDE_DEGREE'],axis=1, inplace=True)"
   ]
  },
  {
   "cell_type": "markdown",
   "metadata": {},
   "source": [
    "Next is to replace column names with something more practical:"
   ]
  },
  {
   "cell_type": "code",
   "execution_count": 7,
   "metadata": {
    "collapsed": false
   },
   "outputs": [
    {
     "data": {
      "text/html": [
       "<div>\n",
       "<table border=\"1\" class=\"dataframe\">\n",
       "  <thead>\n",
       "    <tr style=\"text-align: right;\">\n",
       "      <th></th>\n",
       "      <th>date</th>\n",
       "      <th>stranded</th>\n",
       "      <th>herded</th>\n",
       "      <th>latitude</th>\n",
       "      <th>longitude</th>\n",
       "      <th>species</th>\n",
       "    </tr>\n",
       "  </thead>\n",
       "  <tbody>\n",
       "    <tr>\n",
       "      <th>0</th>\n",
       "      <td>2000-04-09</td>\n",
       "      <td>2.0</td>\n",
       "      <td>0.0</td>\n",
       "      <td>41.930667</td>\n",
       "      <td>70.069667</td>\n",
       "      <td>Lagenorhynchus acutus</td>\n",
       "    </tr>\n",
       "    <tr>\n",
       "      <th>1</th>\n",
       "      <td>2000-04-11</td>\n",
       "      <td>2.0</td>\n",
       "      <td>0.0</td>\n",
       "      <td>41.933333</td>\n",
       "      <td>70.024167</td>\n",
       "      <td>Lagenorhynchus acutus</td>\n",
       "    </tr>\n",
       "    <tr>\n",
       "      <th>2</th>\n",
       "      <td>2000-04-11</td>\n",
       "      <td>2.0</td>\n",
       "      <td>0.0</td>\n",
       "      <td>41.933333</td>\n",
       "      <td>70.024167</td>\n",
       "      <td>Lagenorhynchus acutus</td>\n",
       "    </tr>\n",
       "    <tr>\n",
       "      <th>3</th>\n",
       "      <td>2000-08-14</td>\n",
       "      <td>NaN</td>\n",
       "      <td>NaN</td>\n",
       "      <td>41.806833</td>\n",
       "      <td>70.002667</td>\n",
       "      <td>Lagenorhynchus acutus</td>\n",
       "    </tr>\n",
       "    <tr>\n",
       "      <th>4</th>\n",
       "      <td>2000-08-26</td>\n",
       "      <td>6.0</td>\n",
       "      <td>20.0</td>\n",
       "      <td>41.928167</td>\n",
       "      <td>70.066833</td>\n",
       "      <td>Lagenorhynchus acutus</td>\n",
       "    </tr>\n",
       "  </tbody>\n",
       "</table>\n",
       "</div>"
      ],
      "text/plain": [
       "        date  stranded  herded   latitude  longitude                species\n",
       "0 2000-04-09       2.0     0.0  41.930667  70.069667  Lagenorhynchus acutus\n",
       "1 2000-04-11       2.0     0.0  41.933333  70.024167  Lagenorhynchus acutus\n",
       "2 2000-04-11       2.0     0.0  41.933333  70.024167  Lagenorhynchus acutus\n",
       "3 2000-08-14       NaN     NaN  41.806833  70.002667  Lagenorhynchus acutus\n",
       "4 2000-08-26       6.0    20.0  41.928167  70.066833  Lagenorhynchus acutus"
      ]
     },
     "execution_count": 7,
     "metadata": {},
     "output_type": "execute_result"
    }
   ],
   "source": [
    "replNames = {key: repl for key,repl in zip(df.columns[:3],['date','stranded', 'herded'])}\n",
    "replNames.update({key:key.lower().split('_')[0] for key in df.columns[3:]})\n",
    "df.rename(columns=replNames,inplace=True)\n",
    "df.head(5)"
   ]
  },
  {
   "cell_type": "markdown",
   "metadata": {},
   "source": [
    "Let's take a look at what's left in the table"
   ]
  },
  {
   "cell_type": "code",
   "execution_count": 10,
   "metadata": {
    "collapsed": false
   },
   "outputs": [
    {
     "name": "stdout",
     "output_type": "stream",
     "text": [
      "<class 'pandas.core.frame.DataFrame'>\n",
      "RangeIndex: 231 entries, 0 to 230\n",
      "Data columns (total 6 columns):\n",
      "date         231 non-null datetime64[ns]\n",
      "stranded     160 non-null float64\n",
      "herded       157 non-null float64\n",
      "latitude     231 non-null float64\n",
      "longitude    231 non-null float64\n",
      "species      231 non-null object\n",
      "dtypes: datetime64[ns](1), float64(4), object(1)\n",
      "memory usage: 10.9+ KB\n"
     ]
    }
   ],
   "source": [
    "df.info()"
   ]
  },
  {
   "cell_type": "markdown",
   "metadata": {},
   "source": [
    "***Cleaning NaNs***"
   ]
  },
  {
   "cell_type": "code",
   "execution_count": 18,
   "metadata": {
    "collapsed": false
   },
   "outputs": [
    {
     "data": {
      "text/html": [
       "<div>\n",
       "<table border=\"1\" class=\"dataframe\">\n",
       "  <thead>\n",
       "    <tr style=\"text-align: right;\">\n",
       "      <th></th>\n",
       "      <th>date</th>\n",
       "      <th>stranded</th>\n",
       "      <th>herded</th>\n",
       "      <th>latitude</th>\n",
       "      <th>longitude</th>\n",
       "      <th>species</th>\n",
       "    </tr>\n",
       "  </thead>\n",
       "  <tbody>\n",
       "    <tr>\n",
       "      <th>3</th>\n",
       "      <td>2000-08-14</td>\n",
       "      <td>NaN</td>\n",
       "      <td>NaN</td>\n",
       "      <td>4.180683e+01</td>\n",
       "      <td>7.000267e+01</td>\n",
       "      <td>Lagenorhynchus acutus</td>\n",
       "    </tr>\n",
       "    <tr>\n",
       "      <th>11</th>\n",
       "      <td>2002-03-24</td>\n",
       "      <td>NaN</td>\n",
       "      <td>NaN</td>\n",
       "      <td>4.192347e+01</td>\n",
       "      <td>7.003273e+01</td>\n",
       "      <td>Lagenorhynchus acutus</td>\n",
       "    </tr>\n",
       "    <tr>\n",
       "      <th>25</th>\n",
       "      <td>2004-12-30</td>\n",
       "      <td>NaN</td>\n",
       "      <td>NaN</td>\n",
       "      <td>4.182300e+01</td>\n",
       "      <td>7.000443e+01</td>\n",
       "      <td>Lagenorhynchus acutus</td>\n",
       "    </tr>\n",
       "    <tr>\n",
       "      <th>34</th>\n",
       "      <td>2005-12-10</td>\n",
       "      <td>NaN</td>\n",
       "      <td>NaN</td>\n",
       "      <td>4.142633e+01</td>\n",
       "      <td>7.028300e+01</td>\n",
       "      <td>Delphinus delphis</td>\n",
       "    </tr>\n",
       "    <tr>\n",
       "      <th>35</th>\n",
       "      <td>2005-12-10</td>\n",
       "      <td>NaN</td>\n",
       "      <td>NaN</td>\n",
       "      <td>4.171000e+01</td>\n",
       "      <td>7.032317e+01</td>\n",
       "      <td>Delphinus delphis</td>\n",
       "    </tr>\n",
       "    <tr>\n",
       "      <th>36</th>\n",
       "      <td>2005-12-10</td>\n",
       "      <td>NaN</td>\n",
       "      <td>NaN</td>\n",
       "      <td>4.171133e+01</td>\n",
       "      <td>7.027467e+01</td>\n",
       "      <td>Delphinus delphis</td>\n",
       "    </tr>\n",
       "    <tr>\n",
       "      <th>37</th>\n",
       "      <td>2005-12-10</td>\n",
       "      <td>NaN</td>\n",
       "      <td>NaN</td>\n",
       "      <td>4.178635e+01</td>\n",
       "      <td>7.002950e+01</td>\n",
       "      <td>Globicephala melas</td>\n",
       "    </tr>\n",
       "    <tr>\n",
       "      <th>38</th>\n",
       "      <td>2005-12-10</td>\n",
       "      <td>NaN</td>\n",
       "      <td>NaN</td>\n",
       "      <td>4.176835e+01</td>\n",
       "      <td>7.009107e+01</td>\n",
       "      <td>Globicephala melas</td>\n",
       "    </tr>\n",
       "    <tr>\n",
       "      <th>39</th>\n",
       "      <td>2005-12-10</td>\n",
       "      <td>NaN</td>\n",
       "      <td>NaN</td>\n",
       "      <td>4.171017e+01</td>\n",
       "      <td>7.028802e+01</td>\n",
       "      <td>Delphinus delphis</td>\n",
       "    </tr>\n",
       "    <tr>\n",
       "      <th>40</th>\n",
       "      <td>2005-12-10</td>\n",
       "      <td>NaN</td>\n",
       "      <td>NaN</td>\n",
       "      <td>4.174863e+01</td>\n",
       "      <td>7.019983e+01</td>\n",
       "      <td>Globicephala melas</td>\n",
       "    </tr>\n",
       "    <tr>\n",
       "      <th>41</th>\n",
       "      <td>2005-12-10</td>\n",
       "      <td>NaN</td>\n",
       "      <td>NaN</td>\n",
       "      <td>4.175643e+01</td>\n",
       "      <td>7.015298e+01</td>\n",
       "      <td>Delphinus delphis</td>\n",
       "    </tr>\n",
       "    <tr>\n",
       "      <th>42</th>\n",
       "      <td>2005-12-10</td>\n",
       "      <td>NaN</td>\n",
       "      <td>NaN</td>\n",
       "      <td>4.176033e+01</td>\n",
       "      <td>7.013417e+01</td>\n",
       "      <td>Globicephala melas</td>\n",
       "    </tr>\n",
       "    <tr>\n",
       "      <th>43</th>\n",
       "      <td>2005-12-10</td>\n",
       "      <td>NaN</td>\n",
       "      <td>NaN</td>\n",
       "      <td>4.193033e+01</td>\n",
       "      <td>7.006867e+01</td>\n",
       "      <td>Delphinus delphis</td>\n",
       "    </tr>\n",
       "    <tr>\n",
       "      <th>44</th>\n",
       "      <td>2005-12-10</td>\n",
       "      <td>NaN</td>\n",
       "      <td>NaN</td>\n",
       "      <td>4.177583e+01</td>\n",
       "      <td>7.005190e+01</td>\n",
       "      <td>Globicephala melas</td>\n",
       "    </tr>\n",
       "    <tr>\n",
       "      <th>45</th>\n",
       "      <td>2005-12-10</td>\n",
       "      <td>NaN</td>\n",
       "      <td>NaN</td>\n",
       "      <td>4.205648e+01</td>\n",
       "      <td>7.013608e+01</td>\n",
       "      <td>Lagenorhynchus acutus</td>\n",
       "    </tr>\n",
       "    <tr>\n",
       "      <th>46</th>\n",
       "      <td>2005-12-10</td>\n",
       "      <td>NaN</td>\n",
       "      <td>NaN</td>\n",
       "      <td>4.182638e+01</td>\n",
       "      <td>7.000372e+01</td>\n",
       "      <td>Globicephala melas</td>\n",
       "    </tr>\n",
       "    <tr>\n",
       "      <th>47</th>\n",
       "      <td>2005-12-10</td>\n",
       "      <td>NaN</td>\n",
       "      <td>NaN</td>\n",
       "      <td>4.173417e+01</td>\n",
       "      <td>7.023450e+01</td>\n",
       "      <td>Delphinus delphis</td>\n",
       "    </tr>\n",
       "    <tr>\n",
       "      <th>48</th>\n",
       "      <td>2005-12-10</td>\n",
       "      <td>NaN</td>\n",
       "      <td>NaN</td>\n",
       "      <td>4.176850e+01</td>\n",
       "      <td>7.008500e+01</td>\n",
       "      <td>Globicephala melas</td>\n",
       "    </tr>\n",
       "    <tr>\n",
       "      <th>49</th>\n",
       "      <td>2005-12-10</td>\n",
       "      <td>NaN</td>\n",
       "      <td>NaN</td>\n",
       "      <td>4.173735e+01</td>\n",
       "      <td>7.226767e+00</td>\n",
       "      <td>Delphinus delphis</td>\n",
       "    </tr>\n",
       "    <tr>\n",
       "      <th>51</th>\n",
       "      <td>2005-12-11</td>\n",
       "      <td>NaN</td>\n",
       "      <td>NaN</td>\n",
       "      <td>4.176267e+01</td>\n",
       "      <td>7.010983e+01</td>\n",
       "      <td>Globicephala melas</td>\n",
       "    </tr>\n",
       "    <tr>\n",
       "      <th>52</th>\n",
       "      <td>2005-12-11</td>\n",
       "      <td>NaN</td>\n",
       "      <td>NaN</td>\n",
       "      <td>4.174242e+01</td>\n",
       "      <td>7.021768e+01</td>\n",
       "      <td>Delphinus delphis</td>\n",
       "    </tr>\n",
       "    <tr>\n",
       "      <th>54</th>\n",
       "      <td>2005-12-14</td>\n",
       "      <td>NaN</td>\n",
       "      <td>NaN</td>\n",
       "      <td>4.176033e+01</td>\n",
       "      <td>7.013417e+01</td>\n",
       "      <td>Globicephala melas</td>\n",
       "    </tr>\n",
       "    <tr>\n",
       "      <th>55</th>\n",
       "      <td>2005-12-14</td>\n",
       "      <td>NaN</td>\n",
       "      <td>NaN</td>\n",
       "      <td>4.177233e+01</td>\n",
       "      <td>7.007000e+01</td>\n",
       "      <td>Globicephala melas</td>\n",
       "    </tr>\n",
       "    <tr>\n",
       "      <th>59</th>\n",
       "      <td>2006-01-17</td>\n",
       "      <td>NaN</td>\n",
       "      <td>NaN</td>\n",
       "      <td>4.191900e+01</td>\n",
       "      <td>7.002817e+01</td>\n",
       "      <td>Lagenorhynchus acutus</td>\n",
       "    </tr>\n",
       "    <tr>\n",
       "      <th>61</th>\n",
       "      <td>2006-01-19</td>\n",
       "      <td>NaN</td>\n",
       "      <td>NaN</td>\n",
       "      <td>4.187383e+01</td>\n",
       "      <td>7.000917e+01</td>\n",
       "      <td>Delphinus delphis</td>\n",
       "    </tr>\n",
       "    <tr>\n",
       "      <th>62</th>\n",
       "      <td>2006-01-19</td>\n",
       "      <td>NaN</td>\n",
       "      <td>NaN</td>\n",
       "      <td>4.191283e+01</td>\n",
       "      <td>6.999100e+01</td>\n",
       "      <td>Lagenorhynchus acutus</td>\n",
       "    </tr>\n",
       "    <tr>\n",
       "      <th>63</th>\n",
       "      <td>2006-01-19</td>\n",
       "      <td>NaN</td>\n",
       "      <td>NaN</td>\n",
       "      <td>4.191900e+01</td>\n",
       "      <td>7.002817e+01</td>\n",
       "      <td>Delphinus delphis</td>\n",
       "    </tr>\n",
       "    <tr>\n",
       "      <th>64</th>\n",
       "      <td>2006-01-19</td>\n",
       "      <td>NaN</td>\n",
       "      <td>NaN</td>\n",
       "      <td>4.180933e+01</td>\n",
       "      <td>7.000483e+01</td>\n",
       "      <td>Lagenorhynchus acutus</td>\n",
       "    </tr>\n",
       "    <tr>\n",
       "      <th>65</th>\n",
       "      <td>2006-01-19</td>\n",
       "      <td>NaN</td>\n",
       "      <td>NaN</td>\n",
       "      <td>4.173417e+01</td>\n",
       "      <td>7.023350e+01</td>\n",
       "      <td>Lagenorhynchus acutus</td>\n",
       "    </tr>\n",
       "    <tr>\n",
       "      <th>66</th>\n",
       "      <td>2006-01-19</td>\n",
       "      <td>NaN</td>\n",
       "      <td>NaN</td>\n",
       "      <td>4.179900e+01</td>\n",
       "      <td>7.001200e+01</td>\n",
       "      <td>Delphinus delphis</td>\n",
       "    </tr>\n",
       "    <tr>\n",
       "      <th>...</th>\n",
       "      <td>...</td>\n",
       "      <td>...</td>\n",
       "      <td>...</td>\n",
       "      <td>...</td>\n",
       "      <td>...</td>\n",
       "      <td>...</td>\n",
       "    </tr>\n",
       "    <tr>\n",
       "      <th>125</th>\n",
       "      <td>2010-02-26</td>\n",
       "      <td>NaN</td>\n",
       "      <td>NaN</td>\n",
       "      <td>4.199570e+01</td>\n",
       "      <td>7.006230e+01</td>\n",
       "      <td>Delphinus delphis</td>\n",
       "    </tr>\n",
       "    <tr>\n",
       "      <th>134</th>\n",
       "      <td>2010-04-10</td>\n",
       "      <td>NaN</td>\n",
       "      <td>NaN</td>\n",
       "      <td>4.177613e+01</td>\n",
       "      <td>7.007222e+01</td>\n",
       "      <td>Lagenorhynchus acutus</td>\n",
       "    </tr>\n",
       "    <tr>\n",
       "      <th>137</th>\n",
       "      <td>2010-10-02</td>\n",
       "      <td>NaN</td>\n",
       "      <td>NaN</td>\n",
       "      <td>4.177780e+01</td>\n",
       "      <td>7.004892e+01</td>\n",
       "      <td>Lagenorhynchus acutus</td>\n",
       "    </tr>\n",
       "    <tr>\n",
       "      <th>139</th>\n",
       "      <td>2010-11-12</td>\n",
       "      <td>NaN</td>\n",
       "      <td>NaN</td>\n",
       "      <td>4.188945e+01</td>\n",
       "      <td>7.000003e+01</td>\n",
       "      <td>Delphinus delphis</td>\n",
       "    </tr>\n",
       "    <tr>\n",
       "      <th>141</th>\n",
       "      <td>2010-11-29</td>\n",
       "      <td>NaN</td>\n",
       "      <td>NaN</td>\n",
       "      <td>4.189708e+01</td>\n",
       "      <td>7.002412e+01</td>\n",
       "      <td>Delphinus delphis</td>\n",
       "    </tr>\n",
       "    <tr>\n",
       "      <th>142</th>\n",
       "      <td>2011-02-02</td>\n",
       "      <td>NaN</td>\n",
       "      <td>NaN</td>\n",
       "      <td>4.173530e+01</td>\n",
       "      <td>7.031120e+01</td>\n",
       "      <td>Delphinus delphis</td>\n",
       "    </tr>\n",
       "    <tr>\n",
       "      <th>143</th>\n",
       "      <td>2011-02-02</td>\n",
       "      <td>NaN</td>\n",
       "      <td>NaN</td>\n",
       "      <td>4.177950e+01</td>\n",
       "      <td>6.993500e+01</td>\n",
       "      <td>Delphinus delphis</td>\n",
       "    </tr>\n",
       "    <tr>\n",
       "      <th>145</th>\n",
       "      <td>2011-02-14</td>\n",
       "      <td>NaN</td>\n",
       "      <td>NaN</td>\n",
       "      <td>4.193120e+01</td>\n",
       "      <td>7.006610e+01</td>\n",
       "      <td>Delphinus delphis</td>\n",
       "    </tr>\n",
       "    <tr>\n",
       "      <th>148</th>\n",
       "      <td>2011-02-26</td>\n",
       "      <td>NaN</td>\n",
       "      <td>NaN</td>\n",
       "      <td>4.193221e+01</td>\n",
       "      <td>-7.002414e+01</td>\n",
       "      <td>Lagenorhynchus acutus</td>\n",
       "    </tr>\n",
       "    <tr>\n",
       "      <th>154</th>\n",
       "      <td>2011-04-05</td>\n",
       "      <td>NaN</td>\n",
       "      <td>NaN</td>\n",
       "      <td>4.203265e+01</td>\n",
       "      <td>-7.009570e+01</td>\n",
       "      <td>Lagenorhynchus acutus</td>\n",
       "    </tr>\n",
       "    <tr>\n",
       "      <th>157</th>\n",
       "      <td>2011-08-31</td>\n",
       "      <td>NaN</td>\n",
       "      <td>NaN</td>\n",
       "      <td>4.182050e+01</td>\n",
       "      <td>-7.000550e+01</td>\n",
       "      <td>Delphinus delphis</td>\n",
       "    </tr>\n",
       "    <tr>\n",
       "      <th>160</th>\n",
       "      <td>2011-12-29</td>\n",
       "      <td>NaN</td>\n",
       "      <td>NaN</td>\n",
       "      <td>4.192300e+01</td>\n",
       "      <td>-7.005440e+01</td>\n",
       "      <td>Delphinus delphis</td>\n",
       "    </tr>\n",
       "    <tr>\n",
       "      <th>163</th>\n",
       "      <td>2012-01-14</td>\n",
       "      <td>NaN</td>\n",
       "      <td>NaN</td>\n",
       "      <td>4.192980e+01</td>\n",
       "      <td>-7.004800e+01</td>\n",
       "      <td>Delphinus delphis</td>\n",
       "    </tr>\n",
       "    <tr>\n",
       "      <th>164</th>\n",
       "      <td>2012-01-14</td>\n",
       "      <td>NaN</td>\n",
       "      <td>NaN</td>\n",
       "      <td>4.177969e+06</td>\n",
       "      <td>7.004393e+06</td>\n",
       "      <td>Delphinus delphis</td>\n",
       "    </tr>\n",
       "    <tr>\n",
       "      <th>165</th>\n",
       "      <td>2012-01-14</td>\n",
       "      <td>NaN</td>\n",
       "      <td>NaN</td>\n",
       "      <td>4.175050e+01</td>\n",
       "      <td>7.018640e+01</td>\n",
       "      <td>Delphinus delphis</td>\n",
       "    </tr>\n",
       "    <tr>\n",
       "      <th>166</th>\n",
       "      <td>2012-01-14</td>\n",
       "      <td>NaN</td>\n",
       "      <td>NaN</td>\n",
       "      <td>4.179240e+01</td>\n",
       "      <td>-7.002030e+01</td>\n",
       "      <td>Delphinus delphis</td>\n",
       "    </tr>\n",
       "    <tr>\n",
       "      <th>168</th>\n",
       "      <td>2012-01-15</td>\n",
       "      <td>NaN</td>\n",
       "      <td>NaN</td>\n",
       "      <td>4.189260e+01</td>\n",
       "      <td>-7.000280e+01</td>\n",
       "      <td>Delphinus delphis</td>\n",
       "    </tr>\n",
       "    <tr>\n",
       "      <th>169</th>\n",
       "      <td>2012-01-15</td>\n",
       "      <td>NaN</td>\n",
       "      <td>NaN</td>\n",
       "      <td>4.177600e+01</td>\n",
       "      <td>-7.005470e+01</td>\n",
       "      <td>Delphinus delphis</td>\n",
       "    </tr>\n",
       "    <tr>\n",
       "      <th>171</th>\n",
       "      <td>2012-01-16</td>\n",
       "      <td>NaN</td>\n",
       "      <td>NaN</td>\n",
       "      <td>4.185917e+01</td>\n",
       "      <td>-7.000728e+01</td>\n",
       "      <td>Delphinus delphis</td>\n",
       "    </tr>\n",
       "    <tr>\n",
       "      <th>179</th>\n",
       "      <td>2012-02-03</td>\n",
       "      <td>NaN</td>\n",
       "      <td>NaN</td>\n",
       "      <td>4.193380e+01</td>\n",
       "      <td>-7.002690e+01</td>\n",
       "      <td>Delphinus delphis</td>\n",
       "    </tr>\n",
       "    <tr>\n",
       "      <th>181</th>\n",
       "      <td>2012-02-04</td>\n",
       "      <td>NaN</td>\n",
       "      <td>NaN</td>\n",
       "      <td>4.192540e+01</td>\n",
       "      <td>-7.002610e+01</td>\n",
       "      <td>Delphinus delphis</td>\n",
       "    </tr>\n",
       "    <tr>\n",
       "      <th>185</th>\n",
       "      <td>2012-02-07</td>\n",
       "      <td>NaN</td>\n",
       "      <td>NaN</td>\n",
       "      <td>4.193090e+01</td>\n",
       "      <td>-7.006350e+01</td>\n",
       "      <td>Delphinus delphis</td>\n",
       "    </tr>\n",
       "    <tr>\n",
       "      <th>196</th>\n",
       "      <td>2012-03-26</td>\n",
       "      <td>NaN</td>\n",
       "      <td>NaN</td>\n",
       "      <td>4.176320e+01</td>\n",
       "      <td>-7.010690e+01</td>\n",
       "      <td>Delphinus delphis</td>\n",
       "    </tr>\n",
       "    <tr>\n",
       "      <th>198</th>\n",
       "      <td>2012-03-27</td>\n",
       "      <td>NaN</td>\n",
       "      <td>NaN</td>\n",
       "      <td>4.179180e+01</td>\n",
       "      <td>-7.002000e+01</td>\n",
       "      <td>Delphinus delphis</td>\n",
       "    </tr>\n",
       "    <tr>\n",
       "      <th>199</th>\n",
       "      <td>2012-03-27</td>\n",
       "      <td>NaN</td>\n",
       "      <td>NaN</td>\n",
       "      <td>4.191400e+01</td>\n",
       "      <td>-6.998810e+01</td>\n",
       "      <td>Delphinus delphis</td>\n",
       "    </tr>\n",
       "    <tr>\n",
       "      <th>205</th>\n",
       "      <td>2012-11-09</td>\n",
       "      <td>NaN</td>\n",
       "      <td>NaN</td>\n",
       "      <td>4.207850e+01</td>\n",
       "      <td>-7.022830e+01</td>\n",
       "      <td>Delphinus delphis</td>\n",
       "    </tr>\n",
       "    <tr>\n",
       "      <th>219</th>\n",
       "      <td>2014-12-04</td>\n",
       "      <td>NaN</td>\n",
       "      <td>NaN</td>\n",
       "      <td>4.189440e+01</td>\n",
       "      <td>-7.007110e+01</td>\n",
       "      <td>Delphinus delphis</td>\n",
       "    </tr>\n",
       "    <tr>\n",
       "      <th>223</th>\n",
       "      <td>1999-03-19</td>\n",
       "      <td>NaN</td>\n",
       "      <td>NaN</td>\n",
       "      <td>4.182273e+01</td>\n",
       "      <td>7.000413e+01</td>\n",
       "      <td>Lagenorhynchus acutus</td>\n",
       "    </tr>\n",
       "    <tr>\n",
       "      <th>224</th>\n",
       "      <td>1999-03-19</td>\n",
       "      <td>NaN</td>\n",
       "      <td>NaN</td>\n",
       "      <td>4.173633e+01</td>\n",
       "      <td>7.033267e+01</td>\n",
       "      <td>Lagenorhynchus acutus</td>\n",
       "    </tr>\n",
       "    <tr>\n",
       "      <th>226</th>\n",
       "      <td>1999-03-20</td>\n",
       "      <td>NaN</td>\n",
       "      <td>NaN</td>\n",
       "      <td>4.176160e+01</td>\n",
       "      <td>7.011407e+01</td>\n",
       "      <td>Lagenorhynchus acutus</td>\n",
       "    </tr>\n",
       "  </tbody>\n",
       "</table>\n",
       "<p>70 rows × 6 columns</p>\n",
       "</div>"
      ],
      "text/plain": [
       "          date  stranded  herded      latitude     longitude  \\\n",
       "3   2000-08-14       NaN     NaN  4.180683e+01  7.000267e+01   \n",
       "11  2002-03-24       NaN     NaN  4.192347e+01  7.003273e+01   \n",
       "25  2004-12-30       NaN     NaN  4.182300e+01  7.000443e+01   \n",
       "34  2005-12-10       NaN     NaN  4.142633e+01  7.028300e+01   \n",
       "35  2005-12-10       NaN     NaN  4.171000e+01  7.032317e+01   \n",
       "36  2005-12-10       NaN     NaN  4.171133e+01  7.027467e+01   \n",
       "37  2005-12-10       NaN     NaN  4.178635e+01  7.002950e+01   \n",
       "38  2005-12-10       NaN     NaN  4.176835e+01  7.009107e+01   \n",
       "39  2005-12-10       NaN     NaN  4.171017e+01  7.028802e+01   \n",
       "40  2005-12-10       NaN     NaN  4.174863e+01  7.019983e+01   \n",
       "41  2005-12-10       NaN     NaN  4.175643e+01  7.015298e+01   \n",
       "42  2005-12-10       NaN     NaN  4.176033e+01  7.013417e+01   \n",
       "43  2005-12-10       NaN     NaN  4.193033e+01  7.006867e+01   \n",
       "44  2005-12-10       NaN     NaN  4.177583e+01  7.005190e+01   \n",
       "45  2005-12-10       NaN     NaN  4.205648e+01  7.013608e+01   \n",
       "46  2005-12-10       NaN     NaN  4.182638e+01  7.000372e+01   \n",
       "47  2005-12-10       NaN     NaN  4.173417e+01  7.023450e+01   \n",
       "48  2005-12-10       NaN     NaN  4.176850e+01  7.008500e+01   \n",
       "49  2005-12-10       NaN     NaN  4.173735e+01  7.226767e+00   \n",
       "51  2005-12-11       NaN     NaN  4.176267e+01  7.010983e+01   \n",
       "52  2005-12-11       NaN     NaN  4.174242e+01  7.021768e+01   \n",
       "54  2005-12-14       NaN     NaN  4.176033e+01  7.013417e+01   \n",
       "55  2005-12-14       NaN     NaN  4.177233e+01  7.007000e+01   \n",
       "59  2006-01-17       NaN     NaN  4.191900e+01  7.002817e+01   \n",
       "61  2006-01-19       NaN     NaN  4.187383e+01  7.000917e+01   \n",
       "62  2006-01-19       NaN     NaN  4.191283e+01  6.999100e+01   \n",
       "63  2006-01-19       NaN     NaN  4.191900e+01  7.002817e+01   \n",
       "64  2006-01-19       NaN     NaN  4.180933e+01  7.000483e+01   \n",
       "65  2006-01-19       NaN     NaN  4.173417e+01  7.023350e+01   \n",
       "66  2006-01-19       NaN     NaN  4.179900e+01  7.001200e+01   \n",
       "..         ...       ...     ...           ...           ...   \n",
       "125 2010-02-26       NaN     NaN  4.199570e+01  7.006230e+01   \n",
       "134 2010-04-10       NaN     NaN  4.177613e+01  7.007222e+01   \n",
       "137 2010-10-02       NaN     NaN  4.177780e+01  7.004892e+01   \n",
       "139 2010-11-12       NaN     NaN  4.188945e+01  7.000003e+01   \n",
       "141 2010-11-29       NaN     NaN  4.189708e+01  7.002412e+01   \n",
       "142 2011-02-02       NaN     NaN  4.173530e+01  7.031120e+01   \n",
       "143 2011-02-02       NaN     NaN  4.177950e+01  6.993500e+01   \n",
       "145 2011-02-14       NaN     NaN  4.193120e+01  7.006610e+01   \n",
       "148 2011-02-26       NaN     NaN  4.193221e+01 -7.002414e+01   \n",
       "154 2011-04-05       NaN     NaN  4.203265e+01 -7.009570e+01   \n",
       "157 2011-08-31       NaN     NaN  4.182050e+01 -7.000550e+01   \n",
       "160 2011-12-29       NaN     NaN  4.192300e+01 -7.005440e+01   \n",
       "163 2012-01-14       NaN     NaN  4.192980e+01 -7.004800e+01   \n",
       "164 2012-01-14       NaN     NaN  4.177969e+06  7.004393e+06   \n",
       "165 2012-01-14       NaN     NaN  4.175050e+01  7.018640e+01   \n",
       "166 2012-01-14       NaN     NaN  4.179240e+01 -7.002030e+01   \n",
       "168 2012-01-15       NaN     NaN  4.189260e+01 -7.000280e+01   \n",
       "169 2012-01-15       NaN     NaN  4.177600e+01 -7.005470e+01   \n",
       "171 2012-01-16       NaN     NaN  4.185917e+01 -7.000728e+01   \n",
       "179 2012-02-03       NaN     NaN  4.193380e+01 -7.002690e+01   \n",
       "181 2012-02-04       NaN     NaN  4.192540e+01 -7.002610e+01   \n",
       "185 2012-02-07       NaN     NaN  4.193090e+01 -7.006350e+01   \n",
       "196 2012-03-26       NaN     NaN  4.176320e+01 -7.010690e+01   \n",
       "198 2012-03-27       NaN     NaN  4.179180e+01 -7.002000e+01   \n",
       "199 2012-03-27       NaN     NaN  4.191400e+01 -6.998810e+01   \n",
       "205 2012-11-09       NaN     NaN  4.207850e+01 -7.022830e+01   \n",
       "219 2014-12-04       NaN     NaN  4.189440e+01 -7.007110e+01   \n",
       "223 1999-03-19       NaN     NaN  4.182273e+01  7.000413e+01   \n",
       "224 1999-03-19       NaN     NaN  4.173633e+01  7.033267e+01   \n",
       "226 1999-03-20       NaN     NaN  4.176160e+01  7.011407e+01   \n",
       "\n",
       "                   species  \n",
       "3    Lagenorhynchus acutus  \n",
       "11   Lagenorhynchus acutus  \n",
       "25   Lagenorhynchus acutus  \n",
       "34       Delphinus delphis  \n",
       "35       Delphinus delphis  \n",
       "36       Delphinus delphis  \n",
       "37      Globicephala melas  \n",
       "38      Globicephala melas  \n",
       "39       Delphinus delphis  \n",
       "40      Globicephala melas  \n",
       "41       Delphinus delphis  \n",
       "42      Globicephala melas  \n",
       "43       Delphinus delphis  \n",
       "44      Globicephala melas  \n",
       "45   Lagenorhynchus acutus  \n",
       "46      Globicephala melas  \n",
       "47       Delphinus delphis  \n",
       "48      Globicephala melas  \n",
       "49       Delphinus delphis  \n",
       "51      Globicephala melas  \n",
       "52       Delphinus delphis  \n",
       "54      Globicephala melas  \n",
       "55      Globicephala melas  \n",
       "59   Lagenorhynchus acutus  \n",
       "61       Delphinus delphis  \n",
       "62   Lagenorhynchus acutus  \n",
       "63       Delphinus delphis  \n",
       "64   Lagenorhynchus acutus  \n",
       "65   Lagenorhynchus acutus  \n",
       "66       Delphinus delphis  \n",
       "..                     ...  \n",
       "125      Delphinus delphis  \n",
       "134  Lagenorhynchus acutus  \n",
       "137  Lagenorhynchus acutus  \n",
       "139      Delphinus delphis  \n",
       "141      Delphinus delphis  \n",
       "142      Delphinus delphis  \n",
       "143      Delphinus delphis  \n",
       "145      Delphinus delphis  \n",
       "148  Lagenorhynchus acutus  \n",
       "154  Lagenorhynchus acutus  \n",
       "157      Delphinus delphis  \n",
       "160      Delphinus delphis  \n",
       "163      Delphinus delphis  \n",
       "164      Delphinus delphis  \n",
       "165      Delphinus delphis  \n",
       "166      Delphinus delphis  \n",
       "168      Delphinus delphis  \n",
       "169      Delphinus delphis  \n",
       "171      Delphinus delphis  \n",
       "179      Delphinus delphis  \n",
       "181      Delphinus delphis  \n",
       "185      Delphinus delphis  \n",
       "196      Delphinus delphis  \n",
       "198      Delphinus delphis  \n",
       "199      Delphinus delphis  \n",
       "205      Delphinus delphis  \n",
       "219      Delphinus delphis  \n",
       "223  Lagenorhynchus acutus  \n",
       "224  Lagenorhynchus acutus  \n",
       "226  Lagenorhynchus acutus  \n",
       "\n",
       "[70 rows x 6 columns]"
      ]
     },
     "execution_count": 18,
     "metadata": {},
     "output_type": "execute_result"
    }
   ],
   "source": [
    "df.loc[(df.stranded.isnull()) & (df.herded.isnull())]"
   ]
  },
  {
   "cell_type": "code",
   "execution_count": 24,
   "metadata": {
    "collapsed": false
   },
   "outputs": [
    {
     "data": {
      "text/html": [
       "<div>\n",
       "<table border=\"1\" class=\"dataframe\">\n",
       "  <thead>\n",
       "    <tr style=\"text-align: right;\">\n",
       "      <th></th>\n",
       "      <th>date</th>\n",
       "      <th>stranded</th>\n",
       "      <th>herded</th>\n",
       "      <th>latitude</th>\n",
       "      <th>longitude</th>\n",
       "      <th>species</th>\n",
       "    </tr>\n",
       "  </thead>\n",
       "  <tbody>\n",
       "    <tr>\n",
       "      <th>113</th>\n",
       "      <td>2009-12-07</td>\n",
       "      <td>NaN</td>\n",
       "      <td>0.0</td>\n",
       "      <td>41.792267</td>\n",
       "      <td>70.0197</td>\n",
       "      <td>Delphinus delphis</td>\n",
       "    </tr>\n",
       "  </tbody>\n",
       "</table>\n",
       "</div>"
      ],
      "text/plain": [
       "          date  stranded  herded   latitude  longitude            species\n",
       "113 2009-12-07       NaN     0.0  41.792267    70.0197  Delphinus delphis"
      ]
     },
     "execution_count": 24,
     "metadata": {},
     "output_type": "execute_result"
    }
   ],
   "source": [
    "df.loc[(df.stranded.isnull()) & (np.isfinite(df.herded))]"
   ]
  },
  {
   "cell_type": "code",
   "execution_count": 25,
   "metadata": {
    "collapsed": false
   },
   "outputs": [
    {
     "data": {
      "text/html": [
       "<div>\n",
       "<table border=\"1\" class=\"dataframe\">\n",
       "  <thead>\n",
       "    <tr style=\"text-align: right;\">\n",
       "      <th></th>\n",
       "      <th>date</th>\n",
       "      <th>stranded</th>\n",
       "      <th>herded</th>\n",
       "      <th>latitude</th>\n",
       "      <th>longitude</th>\n",
       "      <th>species</th>\n",
       "    </tr>\n",
       "  </thead>\n",
       "  <tbody>\n",
       "    <tr>\n",
       "      <th>98</th>\n",
       "      <td>2007-08-23</td>\n",
       "      <td>2.0</td>\n",
       "      <td>NaN</td>\n",
       "      <td>41.595333</td>\n",
       "      <td>70.847333</td>\n",
       "      <td>Stenella coeruleoalba</td>\n",
       "    </tr>\n",
       "    <tr>\n",
       "      <th>112</th>\n",
       "      <td>2009-12-07</td>\n",
       "      <td>3.0</td>\n",
       "      <td>NaN</td>\n",
       "      <td>41.775783</td>\n",
       "      <td>70.055300</td>\n",
       "      <td>Delphinus delphis</td>\n",
       "    </tr>\n",
       "    <tr>\n",
       "      <th>174</th>\n",
       "      <td>2012-01-19</td>\n",
       "      <td>6.0</td>\n",
       "      <td>NaN</td>\n",
       "      <td>41.928016</td>\n",
       "      <td>70.069959</td>\n",
       "      <td>Delphinus delphis</td>\n",
       "    </tr>\n",
       "    <tr>\n",
       "      <th>225</th>\n",
       "      <td>1999-03-20</td>\n",
       "      <td>12.0</td>\n",
       "      <td>NaN</td>\n",
       "      <td>41.916167</td>\n",
       "      <td>70.062333</td>\n",
       "      <td>Lagenorhynchus acutus</td>\n",
       "    </tr>\n",
       "  </tbody>\n",
       "</table>\n",
       "</div>"
      ],
      "text/plain": [
       "          date  stranded  herded   latitude  longitude                species\n",
       "98  2007-08-23       2.0     NaN  41.595333  70.847333  Stenella coeruleoalba\n",
       "112 2009-12-07       3.0     NaN  41.775783  70.055300      Delphinus delphis\n",
       "174 2012-01-19       6.0     NaN  41.928016  70.069959      Delphinus delphis\n",
       "225 1999-03-20      12.0     NaN  41.916167  70.062333  Lagenorhynchus acutus"
      ]
     },
     "execution_count": 25,
     "metadata": {},
     "output_type": "execute_result"
    }
   ],
   "source": [
    "df.loc[(np.isfinite(df.stranded)) &(df.herded.isnull())]"
   ]
  },
  {
   "cell_type": "markdown",
   "metadata": {},
   "source": [
    "So looks like we're fine if we dropped rows where the column \"stranded\" is NaN. and replace the remaining herded Nans with '0'"
   ]
  },
  {
   "cell_type": "code",
   "execution_count": 26,
   "metadata": {
    "collapsed": true
   },
   "outputs": [],
   "source": [
    "df.dropna(subset=['stranded'], inplace=True)"
   ]
  },
  {
   "cell_type": "code",
   "execution_count": 28,
   "metadata": {
    "collapsed": true
   },
   "outputs": [],
   "source": [
    "df.loc[df.herded.isnull(),'herded'] = 0"
   ]
  },
  {
   "cell_type": "code",
   "execution_count": 29,
   "metadata": {
    "collapsed": false
   },
   "outputs": [
    {
     "name": "stdout",
     "output_type": "stream",
     "text": [
      "<class 'pandas.core.frame.DataFrame'>\n",
      "Int64Index: 160 entries, 0 to 230\n",
      "Data columns (total 6 columns):\n",
      "date         160 non-null datetime64[ns]\n",
      "stranded     160 non-null float64\n",
      "herded       160 non-null float64\n",
      "latitude     160 non-null float64\n",
      "longitude    160 non-null float64\n",
      "species      160 non-null object\n",
      "dtypes: datetime64[ns](1), float64(4), object(1)\n",
      "memory usage: 8.8+ KB\n"
     ]
    }
   ],
   "source": [
    "df.info()"
   ]
  },
  {
   "cell_type": "markdown",
   "metadata": {},
   "source": [
    "*** More cleaning: Duplicates***\n",
    "\n",
    "Duplicate values might either indicate a problem in data organization, or an actual case of multiple entries of the same data. They could also have a nefarious effect on subsequent analyses. So I'll next look for those."
   ]
  },
  {
   "cell_type": "code",
   "execution_count": 32,
   "metadata": {
    "collapsed": false
   },
   "outputs": [
    {
     "data": {
      "text/html": [
       "<div>\n",
       "<table border=\"1\" class=\"dataframe\">\n",
       "  <thead>\n",
       "    <tr style=\"text-align: right;\">\n",
       "      <th></th>\n",
       "      <th>date</th>\n",
       "      <th>stranded</th>\n",
       "      <th>herded</th>\n",
       "      <th>latitude</th>\n",
       "      <th>longitude</th>\n",
       "      <th>species</th>\n",
       "    </tr>\n",
       "  </thead>\n",
       "  <tbody>\n",
       "    <tr>\n",
       "      <th>2</th>\n",
       "      <td>2000-04-11</td>\n",
       "      <td>2.0</td>\n",
       "      <td>0.0</td>\n",
       "      <td>41.933333</td>\n",
       "      <td>70.024167</td>\n",
       "      <td>Lagenorhynchus acutus</td>\n",
       "    </tr>\n",
       "  </tbody>\n",
       "</table>\n",
       "</div>"
      ],
      "text/plain": [
       "        date  stranded  herded   latitude  longitude                species\n",
       "2 2000-04-11       2.0     0.0  41.933333  70.024167  Lagenorhynchus acutus"
      ]
     },
     "execution_count": 32,
     "metadata": {},
     "output_type": "execute_result"
    }
   ],
   "source": [
    "df.loc[df.duplicated(),:]"
   ]
  },
  {
   "cell_type": "markdown",
   "metadata": {},
   "source": [
    "There appear to be a duplicate entry of the above, and there's a decision needs to be made here. Was the twin entry a legitimate or an error? Examining the original excel file, it looks to me like a redundant entry. I will drop one"
   ]
  },
  {
   "cell_type": "code",
   "execution_count": 33,
   "metadata": {
    "collapsed": true
   },
   "outputs": [],
   "source": [
    "df.drop_duplicates(inplace=True)"
   ]
  },
  {
   "cell_type": "markdown",
   "metadata": {},
   "source": [
    "Now, there might still be some date duplicates, because of multiple events ocurring on the same day. Let's look at that: Date-wise duplicates"
   ]
  },
  {
   "cell_type": "code",
   "execution_count": 34,
   "metadata": {
    "collapsed": false
   },
   "outputs": [
    {
     "data": {
      "text/html": [
       "<div>\n",
       "<table border=\"1\" class=\"dataframe\">\n",
       "  <thead>\n",
       "    <tr style=\"text-align: right;\">\n",
       "      <th></th>\n",
       "      <th>date</th>\n",
       "      <th>stranded</th>\n",
       "      <th>herded</th>\n",
       "      <th>latitude</th>\n",
       "      <th>longitude</th>\n",
       "      <th>species</th>\n",
       "    </tr>\n",
       "  </thead>\n",
       "  <tbody>\n",
       "    <tr>\n",
       "      <th>103</th>\n",
       "      <td>2008-12-25</td>\n",
       "      <td>3.0</td>\n",
       "      <td>0.0</td>\n",
       "      <td>41.9205</td>\n",
       "      <td>70.032167</td>\n",
       "      <td>Grampus griseus</td>\n",
       "    </tr>\n",
       "    <tr>\n",
       "      <th>187</th>\n",
       "      <td>2012-02-09</td>\n",
       "      <td>3.0</td>\n",
       "      <td>0.0</td>\n",
       "      <td>41.8923</td>\n",
       "      <td>-70.008500</td>\n",
       "      <td>Delphinus delphis</td>\n",
       "    </tr>\n",
       "  </tbody>\n",
       "</table>\n",
       "</div>"
      ],
      "text/plain": [
       "          date  stranded  herded  latitude  longitude            species\n",
       "103 2008-12-25       3.0     0.0   41.9205  70.032167    Grampus griseus\n",
       "187 2012-02-09       3.0     0.0   41.8923 -70.008500  Delphinus delphis"
      ]
     },
     "execution_count": 34,
     "metadata": {},
     "output_type": "execute_result"
    }
   ],
   "source": [
    "df.loc[df.duplicated(subset='date')]"
   ]
  },
  {
   "cell_type": "markdown",
   "metadata": {},
   "source": [
    "Two cases. Let's see what happens on those dates:"
   ]
  },
  {
   "cell_type": "code",
   "execution_count": 35,
   "metadata": {
    "collapsed": false
   },
   "outputs": [
    {
     "name": "stdout",
     "output_type": "stream",
     "text": [
      "          date  stranded  herded  latitude  longitude            species\n",
      "102 2008-12-25       5.0     0.0   41.7840 -70.033100  Delphinus delphis\n",
      "103 2008-12-25       3.0     0.0   41.9205  70.032167    Grampus griseus\n",
      "          date  stranded  herded  latitude  longitude            species\n",
      "186 2012-02-09       5.0     0.0   41.7272   -70.3031  Delphinus delphis\n",
      "187 2012-02-09       3.0     0.0   41.8923   -70.0085  Delphinus delphis\n"
     ]
    }
   ],
   "source": [
    "dupDates = df.loc[df.duplicated(subset='date'),'date'].values\n",
    "for dd in dupDates:\n",
    "    print(df[df['date'] == dd])"
   ]
  },
  {
   "cell_type": "markdown",
   "metadata": {},
   "source": [
    "So in the first case two different species stranded at different locations. In the second case, the same species stranded at different locations. This might warrant \"melting\" the data frame (see further below).\n",
    "That's all the cleaning for now.\n",
    "Next, I'm going to add a couple of columns. One, day of week, is to help remove observer bias. The second, month of year, is to help reduce noise and bin data toward seasonality. "
   ]
  },
  {
   "cell_type": "code",
   "execution_count": 36,
   "metadata": {
    "collapsed": true
   },
   "outputs": [],
   "source": [
    "df['weekday'] = df.date.dt.weekday_name"
   ]
  },
  {
   "cell_type": "code",
   "execution_count": 38,
   "metadata": {
    "collapsed": false
   },
   "outputs": [],
   "source": [
    "df['month'] = df.date.dt.month"
   ]
  },
  {
   "cell_type": "markdown",
   "metadata": {},
   "source": [
    "Let's see what that did"
   ]
  },
  {
   "cell_type": "code",
   "execution_count": 39,
   "metadata": {
    "collapsed": false
   },
   "outputs": [
    {
     "data": {
      "text/html": [
       "<div>\n",
       "<table border=\"1\" class=\"dataframe\">\n",
       "  <thead>\n",
       "    <tr style=\"text-align: right;\">\n",
       "      <th></th>\n",
       "      <th>date</th>\n",
       "      <th>stranded</th>\n",
       "      <th>herded</th>\n",
       "      <th>latitude</th>\n",
       "      <th>longitude</th>\n",
       "      <th>species</th>\n",
       "      <th>weekday</th>\n",
       "      <th>month</th>\n",
       "    </tr>\n",
       "  </thead>\n",
       "  <tbody>\n",
       "    <tr>\n",
       "      <th>0</th>\n",
       "      <td>2000-04-09</td>\n",
       "      <td>2.0</td>\n",
       "      <td>0.0</td>\n",
       "      <td>41.930667</td>\n",
       "      <td>70.069667</td>\n",
       "      <td>Lagenorhynchus acutus</td>\n",
       "      <td>Sunday</td>\n",
       "      <td>4</td>\n",
       "    </tr>\n",
       "    <tr>\n",
       "      <th>1</th>\n",
       "      <td>2000-04-11</td>\n",
       "      <td>2.0</td>\n",
       "      <td>0.0</td>\n",
       "      <td>41.933333</td>\n",
       "      <td>70.024167</td>\n",
       "      <td>Lagenorhynchus acutus</td>\n",
       "      <td>Tuesday</td>\n",
       "      <td>4</td>\n",
       "    </tr>\n",
       "    <tr>\n",
       "      <th>4</th>\n",
       "      <td>2000-08-26</td>\n",
       "      <td>6.0</td>\n",
       "      <td>20.0</td>\n",
       "      <td>41.928167</td>\n",
       "      <td>70.066833</td>\n",
       "      <td>Lagenorhynchus acutus</td>\n",
       "      <td>Saturday</td>\n",
       "      <td>8</td>\n",
       "    </tr>\n",
       "    <tr>\n",
       "      <th>5</th>\n",
       "      <td>2000-08-27</td>\n",
       "      <td>5.0</td>\n",
       "      <td>0.0</td>\n",
       "      <td>41.928967</td>\n",
       "      <td>70.052300</td>\n",
       "      <td>Lagenorhynchus acutus</td>\n",
       "      <td>Sunday</td>\n",
       "      <td>8</td>\n",
       "    </tr>\n",
       "    <tr>\n",
       "      <th>6</th>\n",
       "      <td>2001-03-07</td>\n",
       "      <td>2.0</td>\n",
       "      <td>0.0</td>\n",
       "      <td>41.906433</td>\n",
       "      <td>70.001117</td>\n",
       "      <td>Lagenorhynchus acutus</td>\n",
       "      <td>Wednesday</td>\n",
       "      <td>3</td>\n",
       "    </tr>\n",
       "  </tbody>\n",
       "</table>\n",
       "</div>"
      ],
      "text/plain": [
       "        date  stranded  herded   latitude  longitude                species  \\\n",
       "0 2000-04-09       2.0     0.0  41.930667  70.069667  Lagenorhynchus acutus   \n",
       "1 2000-04-11       2.0     0.0  41.933333  70.024167  Lagenorhynchus acutus   \n",
       "4 2000-08-26       6.0    20.0  41.928167  70.066833  Lagenorhynchus acutus   \n",
       "5 2000-08-27       5.0     0.0  41.928967  70.052300  Lagenorhynchus acutus   \n",
       "6 2001-03-07       2.0     0.0  41.906433  70.001117  Lagenorhynchus acutus   \n",
       "\n",
       "     weekday  month  \n",
       "0     Sunday      4  \n",
       "1    Tuesday      4  \n",
       "4   Saturday      8  \n",
       "5     Sunday      8  \n",
       "6  Wednesday      3  "
      ]
     },
     "execution_count": 39,
     "metadata": {},
     "output_type": "execute_result"
    }
   ],
   "source": [
    "df.head()"
   ]
  },
  {
   "cell_type": "markdown",
   "metadata": {},
   "source": [
    "Now, to take advantage of Pandas time series functionality, I'm going to assign 'date' as index. Doesn't look like multiple entries on the same date will be a problem."
   ]
  },
  {
   "cell_type": "code",
   "execution_count": 50,
   "metadata": {
    "collapsed": true
   },
   "outputs": [],
   "source": [
    "df.index = df.date\n",
    "df.drop('date', axis=1, inplace=True)"
   ]
  },
  {
   "cell_type": "code",
   "execution_count": 52,
   "metadata": {
    "collapsed": true
   },
   "outputs": [],
   "source": [
    "df.sort_index(inplace=True)"
   ]
  },
  {
   "cell_type": "code",
   "execution_count": 53,
   "metadata": {
    "collapsed": false
   },
   "outputs": [
    {
     "data": {
      "text/html": [
       "<div>\n",
       "<table border=\"1\" class=\"dataframe\">\n",
       "  <thead>\n",
       "    <tr style=\"text-align: right;\">\n",
       "      <th></th>\n",
       "      <th>stranded</th>\n",
       "      <th>herded</th>\n",
       "      <th>latitude</th>\n",
       "      <th>longitude</th>\n",
       "      <th>species</th>\n",
       "      <th>weekday</th>\n",
       "      <th>month</th>\n",
       "    </tr>\n",
       "    <tr>\n",
       "      <th>date</th>\n",
       "      <th></th>\n",
       "      <th></th>\n",
       "      <th></th>\n",
       "      <th></th>\n",
       "      <th></th>\n",
       "      <th></th>\n",
       "      <th></th>\n",
       "    </tr>\n",
       "  </thead>\n",
       "  <tbody>\n",
       "    <tr>\n",
       "      <th>1999-03-07</th>\n",
       "      <td>6.0</td>\n",
       "      <td>0.0</td>\n",
       "      <td>41.916667</td>\n",
       "      <td>70.033333</td>\n",
       "      <td>Lagenorhynchus acutus</td>\n",
       "      <td>Sunday</td>\n",
       "      <td>3</td>\n",
       "    </tr>\n",
       "    <tr>\n",
       "      <th>1999-03-18</th>\n",
       "      <td>5.0</td>\n",
       "      <td>0.0</td>\n",
       "      <td>41.718017</td>\n",
       "      <td>70.368650</td>\n",
       "      <td>Lagenorhynchus acutus</td>\n",
       "      <td>Thursday</td>\n",
       "      <td>3</td>\n",
       "    </tr>\n",
       "  </tbody>\n",
       "</table>\n",
       "</div>"
      ],
      "text/plain": [
       "            stranded  herded   latitude  longitude                species  \\\n",
       "date                                                                        \n",
       "1999-03-07       6.0     0.0  41.916667  70.033333  Lagenorhynchus acutus   \n",
       "1999-03-18       5.0     0.0  41.718017  70.368650  Lagenorhynchus acutus   \n",
       "\n",
       "             weekday  month  \n",
       "date                         \n",
       "1999-03-07    Sunday      3  \n",
       "1999-03-18  Thursday      3  "
      ]
     },
     "execution_count": 53,
     "metadata": {},
     "output_type": "execute_result"
    }
   ],
   "source": [
    "df.head(2)"
   ]
  },
  {
   "cell_type": "markdown",
   "metadata": {},
   "source": [
    "Now we can do some preliminary analysis. In particular we can look at observer bias and seasonal bias. "
   ]
  },
  {
   "cell_type": "markdown",
   "metadata": {},
   "source": [
    "*** Observer Bias ***"
   ]
  },
  {
   "cell_type": "markdown",
   "metadata": {},
   "source": [
    "If I end up modeling the time series, I'll have to come back and zero-pad the data. For now I need to reshape the data some to ease plotting and further exploration. For that, I'll create a new dataframe with the following operations:\n",
    "1. use one-hot encoding to create count columns for each species.\n",
    "2. sum *stranded* and *herded* into a new *total* columns\n",
    "3. multiply the total count across species count columns\n",
    "4. rename species columns to a more practical set of names."
   ]
  },
  {
   "cell_type": "code",
   "execution_count": 40,
   "metadata": {
    "collapsed": true
   },
   "outputs": [],
   "source": [
    "dfc = df.copy()"
   ]
  },
  {
   "cell_type": "code",
   "execution_count": 41,
   "metadata": {
    "collapsed": true
   },
   "outputs": [],
   "source": [
    "dfc.index=dfc.date"
   ]
  },
  {
   "cell_type": "code",
   "execution_count": 44,
   "metadata": {
    "collapsed": false
   },
   "outputs": [],
   "source": [
    "dfc.drop('date',axis=1,inplace=True)"
   ]
  },
  {
   "cell_type": "code",
   "execution_count": 47,
   "metadata": {
    "collapsed": false
   },
   "outputs": [],
   "source": [
    "dfc.sort_index(inplace=True)"
   ]
  },
  {
   "cell_type": "code",
   "execution_count": 49,
   "metadata": {
    "collapsed": false
   },
   "outputs": [
    {
     "name": "stdout",
     "output_type": "stream",
     "text": [
      "<class 'pandas.core.frame.DataFrame'>\n",
      "DatetimeIndex: 159 entries, 1999-03-07 to 2014-12-04\n",
      "Data columns (total 7 columns):\n",
      "stranded     159 non-null float64\n",
      "herded       159 non-null float64\n",
      "latitude     159 non-null float64\n",
      "longitude    159 non-null float64\n",
      "species      159 non-null object\n",
      "weekday      159 non-null object\n",
      "month        159 non-null int64\n",
      "dtypes: float64(4), int64(1), object(2)\n",
      "memory usage: 9.9+ KB\n"
     ]
    }
   ],
   "source": [
    "dfc.info()"
   ]
  },
  {
   "cell_type": "code",
   "execution_count": 48,
   "metadata": {
    "collapsed": false
   },
   "outputs": [
    {
     "data": {
      "text/html": [
       "<div>\n",
       "<table border=\"1\" class=\"dataframe\">\n",
       "  <thead>\n",
       "    <tr style=\"text-align: right;\">\n",
       "      <th></th>\n",
       "      <th>stranded</th>\n",
       "      <th>herded</th>\n",
       "      <th>latitude</th>\n",
       "      <th>longitude</th>\n",
       "      <th>species</th>\n",
       "      <th>weekday</th>\n",
       "      <th>month</th>\n",
       "    </tr>\n",
       "    <tr>\n",
       "      <th>date</th>\n",
       "      <th></th>\n",
       "      <th></th>\n",
       "      <th></th>\n",
       "      <th></th>\n",
       "      <th></th>\n",
       "      <th></th>\n",
       "      <th></th>\n",
       "    </tr>\n",
       "  </thead>\n",
       "  <tbody>\n",
       "    <tr>\n",
       "      <th>1999-03-07</th>\n",
       "      <td>6.0</td>\n",
       "      <td>0.0</td>\n",
       "      <td>41.916667</td>\n",
       "      <td>70.033333</td>\n",
       "      <td>Lagenorhynchus acutus</td>\n",
       "      <td>Sunday</td>\n",
       "      <td>3</td>\n",
       "    </tr>\n",
       "    <tr>\n",
       "      <th>1999-03-18</th>\n",
       "      <td>5.0</td>\n",
       "      <td>0.0</td>\n",
       "      <td>41.718017</td>\n",
       "      <td>70.368650</td>\n",
       "      <td>Lagenorhynchus acutus</td>\n",
       "      <td>Thursday</td>\n",
       "      <td>3</td>\n",
       "    </tr>\n",
       "    <tr>\n",
       "      <th>1999-03-19</th>\n",
       "      <td>29.0</td>\n",
       "      <td>0.0</td>\n",
       "      <td>41.933900</td>\n",
       "      <td>70.016200</td>\n",
       "      <td>Lagenorhynchus acutus</td>\n",
       "      <td>Friday</td>\n",
       "      <td>3</td>\n",
       "    </tr>\n",
       "    <tr>\n",
       "      <th>1999-03-20</th>\n",
       "      <td>12.0</td>\n",
       "      <td>0.0</td>\n",
       "      <td>41.916167</td>\n",
       "      <td>70.062333</td>\n",
       "      <td>Lagenorhynchus acutus</td>\n",
       "      <td>Saturday</td>\n",
       "      <td>3</td>\n",
       "    </tr>\n",
       "    <tr>\n",
       "      <th>1999-03-21</th>\n",
       "      <td>2.0</td>\n",
       "      <td>0.0</td>\n",
       "      <td>41.933900</td>\n",
       "      <td>70.016200</td>\n",
       "      <td>Lagenorhynchus acutus</td>\n",
       "      <td>Sunday</td>\n",
       "      <td>3</td>\n",
       "    </tr>\n",
       "  </tbody>\n",
       "</table>\n",
       "</div>"
      ],
      "text/plain": [
       "            stranded  herded   latitude  longitude                species  \\\n",
       "date                                                                        \n",
       "1999-03-07       6.0     0.0  41.916667  70.033333  Lagenorhynchus acutus   \n",
       "1999-03-18       5.0     0.0  41.718017  70.368650  Lagenorhynchus acutus   \n",
       "1999-03-19      29.0     0.0  41.933900  70.016200  Lagenorhynchus acutus   \n",
       "1999-03-20      12.0     0.0  41.916167  70.062333  Lagenorhynchus acutus   \n",
       "1999-03-21       2.0     0.0  41.933900  70.016200  Lagenorhynchus acutus   \n",
       "\n",
       "             weekday  month  \n",
       "date                         \n",
       "1999-03-07    Sunday      3  \n",
       "1999-03-18  Thursday      3  \n",
       "1999-03-19    Friday      3  \n",
       "1999-03-20  Saturday      3  \n",
       "1999-03-21    Sunday      3  "
      ]
     },
     "execution_count": 48,
     "metadata": {},
     "output_type": "execute_result"
    }
   ],
   "source": [
    "dfc.head()"
   ]
  },
  {
   "cell_type": "code",
   "execution_count": 14,
   "metadata": {
    "collapsed": false
   },
   "outputs": [
    {
     "data": {
      "text/html": [
       "<div>\n",
       "<table border=\"1\" class=\"dataframe\">\n",
       "  <thead>\n",
       "    <tr style=\"text-align: right;\">\n",
       "      <th></th>\n",
       "      <th>date</th>\n",
       "      <th>stranded</th>\n",
       "      <th>herded</th>\n",
       "      <th>latitude</th>\n",
       "      <th>longitude</th>\n",
       "      <th>Delphinus_delphis</th>\n",
       "      <th>Globicephala_melas</th>\n",
       "      <th>Grampus_griseus</th>\n",
       "      <th>Lagenorhynchus_acutus</th>\n",
       "      <th>Tursiops_truncatus</th>\n",
       "      <th>total</th>\n",
       "    </tr>\n",
       "  </thead>\n",
       "  <tbody>\n",
       "    <tr>\n",
       "      <th>0</th>\n",
       "      <td>2000-04-09</td>\n",
       "      <td>2.0</td>\n",
       "      <td>0.0</td>\n",
       "      <td>41.930667</td>\n",
       "      <td>70.069667</td>\n",
       "      <td>0.0</td>\n",
       "      <td>0.0</td>\n",
       "      <td>0.0</td>\n",
       "      <td>2.0</td>\n",
       "      <td>0.0</td>\n",
       "      <td>2.0</td>\n",
       "    </tr>\n",
       "    <tr>\n",
       "      <th>1</th>\n",
       "      <td>2000-04-11</td>\n",
       "      <td>2.0</td>\n",
       "      <td>0.0</td>\n",
       "      <td>41.933333</td>\n",
       "      <td>70.024167</td>\n",
       "      <td>0.0</td>\n",
       "      <td>0.0</td>\n",
       "      <td>0.0</td>\n",
       "      <td>2.0</td>\n",
       "      <td>0.0</td>\n",
       "      <td>2.0</td>\n",
       "    </tr>\n",
       "  </tbody>\n",
       "</table>\n",
       "</div>"
      ],
      "text/plain": [
       "        date  stranded  herded   latitude  longitude  Delphinus_delphis  \\\n",
       "0 2000-04-09       2.0     0.0  41.930667  70.069667                0.0   \n",
       "1 2000-04-11       2.0     0.0  41.933333  70.024167                0.0   \n",
       "\n",
       "   Globicephala_melas  Grampus_griseus  Lagenorhynchus_acutus  \\\n",
       "0                 0.0              0.0                    2.0   \n",
       "1                 0.0              0.0                    2.0   \n",
       "\n",
       "   Tursiops_truncatus  total  \n",
       "0                 0.0    2.0  \n",
       "1                 0.0    2.0  "
      ]
     },
     "execution_count": 14,
     "metadata": {},
     "output_type": "execute_result"
    }
   ],
   "source": [
    "#1.\n",
    "dfs = pd.get_dummies(df, columns=['species'])\n",
    "#2.\n",
    "dfs['total']=dfs[['stranded','herded']].sum(axis=1)\n",
    "#3.\n",
    "speciescols = [col for col in dfs.columns if 'species' in col]\n",
    "dfs[speciescols] = dfs[speciescols].multiply(dfs.total, axis=0)\n",
    "#4.\n",
    "dfs.rename(columns={key:key.split('_')[1].replace(' ','_') for key in speciescols},\n",
    "           inplace=True)\n",
    "# Let's verify the result is as desired...\n",
    "dfs.head(2)"
   ]
  },
  {
   "cell_type": "markdown",
   "metadata": {},
   "source": [
    "Now I'm going to create a series, where the total column is aggregated into single dates."
   ]
  },
  {
   "cell_type": "code",
   "execution_count": 15,
   "metadata": {
    "collapsed": true
   },
   "outputs": [],
   "source": [
    "dfs_melt = pd.melt(dfs,id_vars='date',var_name='species',value_vars=['Delphinus_delphis','Globicephala_melas',\n",
    "                                                  'Grampus_griseus','Lagenorhynchus_acutus',\n",
    "                                                  'Tursiops_truncatus'],value_name='Stranded+Herded')"
   ]
  },
  {
   "cell_type": "code",
   "execution_count": 16,
   "metadata": {
    "collapsed": true
   },
   "outputs": [],
   "source": [
    "dfs_melt['dummy']=0"
   ]
  },
  {
   "cell_type": "code",
   "execution_count": 18,
   "metadata": {
    "collapsed": false
   },
   "outputs": [
    {
     "data": {
      "text/plain": [
       "<matplotlib.axes._subplots.AxesSubplot at 0x7f66a6c28390>"
      ]
     },
     "execution_count": 18,
     "metadata": {},
     "output_type": "execute_result"
    },
    {
     "data": {
      "image/png": "[encoded data removed]",
      "text/plain": [
       "<matplotlib.figure.Figure at 0x7f66a6d139e8>"
      ]
     },
     "metadata": {},
     "output_type": "display_data"
    }
   ],
   "source": [
    "sb.tsplot(dfs_melt,time='date',condition='species',value='Stranded+Herded')"
   ]
  },
  {
   "cell_type": "code",
   "execution_count": 19,
   "metadata": {
    "collapsed": false
   },
   "outputs": [
    {
     "data": {
      "image/png": "[encoded data removed]",
      "text/plain": [
       "<matplotlib.figure.Figure at 0x7f66a385a0b8>"
      ]
     },
     "metadata": {},
     "output_type": "display_data"
    }
   ],
   "source": [
    "totals_TS = dfs.groupby(by='date')['total'].sum()\n",
    "totals_TS.plot(kind='bar',style='o:',figsize=(10,4));"
   ]
  },
  {
   "cell_type": "code",
   "execution_count": null,
   "metadata": {
    "collapsed": true
   },
   "outputs": [],
   "source": []
  }
 ],
 "metadata": {
  "anaconda-cloud": {},
  "kernelspec": {
   "display_name": "Python [default]",
   "language": "python",
   "name": "python3"
  },
  "language_info": {
   "codemirror_mode": {
    "name": "ipython",
    "version": 3
   },
   "file_extension": ".py",
   "mimetype": "text/x-python",
   "name": "python",
   "nbconvert_exporter": "python",
   "pygments_lexer": "ipython3",
   "version": "3.5.2"
  },
  "nikola": {
   "category": "",
   "date": "2017-02-19 11:18:29 UTC-05:00",
   "description": "",
   "link": "",
   "slug": "marine-mammal-beachings",
   "tags": "",
   "title": "Marine Mammal Beachings",
   "type": "text"
  }
 },
 "nbformat": 4,
 "nbformat_minor": 2
}
