{
 "cells": [
  {
   "cell_type": "markdown",
   "metadata": {},
   "source": [
    "This post is part of a series documenting my (meager) contributions to an [investigative effort](https://www.nasa.gov/feature/goddard/2017/nasa-scientist-studies-whether-solar-storms-cause-animal-beachings) to uncover relations, if any, between space weather marine mammal beaching. This first installment, is a warm-up where I explore a small part of marine mammal beaching time series recorded in the vicinity of Cape Cod, Massachusetts (USA)."
   ]
  },
  {
   "cell_type": "code",
   "execution_count": 1,
   "metadata": {
    "collapsed": true
   },
   "outputs": [],
   "source": [
    "import pandas as pd\n",
    "import os\n",
    "import glob\n",
    "import matplotlib.pyplot as pl\n",
    "import seaborn as sb\n",
    "import matplotlib.colors as mcolors\n",
    "%matplotlib inline"
   ]
  },
  {
   "cell_type": "code",
   "execution_count": 2,
   "metadata": {
    "collapsed": true
   },
   "outputs": [],
   "source": [
    "fp = '/home/madhatter106/DATA/Beaching_Project/IFAW Mass Stranding Data 1999-2014.xlsx'\n",
    "try:\n",
    "    df = pd.read_excel(fp)\n",
    "except FileNotFoundError as e:\n",
    "    print(e)"
   ]
  },
  {
   "cell_type": "code",
   "execution_count": 3,
   "metadata": {
    "collapsed": false
   },
   "outputs": [
    {
     "data": {
      "text/plain": [
       "Index(['MASS_STRAND_NUM', 'SERIES_NUM', 'Event Start Date',\n",
       "       'Event End date (if applicable)', 'COMMENTS',\n",
       "       'Number of Animals Stranded', 'Number of Additional Animals Herded',\n",
       "       'LATITUDE_DEGREE', 'LONGITUDE_DEGREE', 'Addn. LATITUDE_DEGREE ',\n",
       "       'Addm. LONGITUDE_DEGREE', 'SPECIES'],\n",
       "      dtype='object')"
      ]
     },
     "execution_count": 3,
     "metadata": {},
     "output_type": "execute_result"
    }
   ],
   "source": [
    "df.columns"
   ]
  },
  {
   "cell_type": "code",
   "execution_count": 4,
   "metadata": {
    "collapsed": false
   },
   "outputs": [
    {
     "data": {
      "text/html": [
       "<div>\n",
       "<table border=\"1\" class=\"dataframe\">\n",
       "  <thead>\n",
       "    <tr style=\"text-align: right;\">\n",
       "      <th></th>\n",
       "      <th>MASS_STRAND_NUM</th>\n",
       "      <th>SERIES_NUM</th>\n",
       "      <th>Event Start Date</th>\n",
       "      <th>Event End date (if applicable)</th>\n",
       "      <th>COMMENTS</th>\n",
       "      <th>Number of Animals Stranded</th>\n",
       "      <th>Number of Additional Animals Herded</th>\n",
       "      <th>LATITUDE_DEGREE</th>\n",
       "      <th>LONGITUDE_DEGREE</th>\n",
       "      <th>Addn. LATITUDE_DEGREE</th>\n",
       "      <th>Addm. LONGITUDE_DEGREE</th>\n",
       "      <th>SPECIES</th>\n",
       "    </tr>\n",
       "  </thead>\n",
       "  <tbody>\n",
       "    <tr>\n",
       "      <th>0</th>\n",
       "      <td>MS00-01</td>\n",
       "      <td>Series0003</td>\n",
       "      <td>2000-04-09</td>\n",
       "      <td>NaN</td>\n",
       "      <td>Collected level A data\\n\\nCattle ear tag white...</td>\n",
       "      <td>2.0</td>\n",
       "      <td>0.0</td>\n",
       "      <td>41.930667</td>\n",
       "      <td>70.069667</td>\n",
       "      <td>NaN</td>\n",
       "      <td>NaN</td>\n",
       "      <td>Lagenorhynchus acutus</td>\n",
       "    </tr>\n",
       "    <tr>\n",
       "      <th>1</th>\n",
       "      <td>MS00-02</td>\n",
       "      <td>Series0003</td>\n",
       "      <td>2000-04-11</td>\n",
       "      <td>NaN</td>\n",
       "      <td>Skin- Kim Amaral,  Dorsal fin to G. Early\\n\\nS...</td>\n",
       "      <td>2.0</td>\n",
       "      <td>0.0</td>\n",
       "      <td>41.933333</td>\n",
       "      <td>70.024167</td>\n",
       "      <td>NaN</td>\n",
       "      <td>NaN</td>\n",
       "      <td>Lagenorhynchus acutus</td>\n",
       "    </tr>\n",
       "  </tbody>\n",
       "</table>\n",
       "</div>"
      ],
      "text/plain": [
       "  MASS_STRAND_NUM  SERIES_NUM Event Start Date  \\\n",
       "0         MS00-01  Series0003       2000-04-09   \n",
       "1         MS00-02  Series0003       2000-04-11   \n",
       "\n",
       "   Event End date (if applicable)  \\\n",
       "0                             NaN   \n",
       "1                             NaN   \n",
       "\n",
       "                                            COMMENTS  \\\n",
       "0  Collected level A data\\n\\nCattle ear tag white...   \n",
       "1  Skin- Kim Amaral,  Dorsal fin to G. Early\\n\\nS...   \n",
       "\n",
       "   Number of Animals Stranded  Number of Additional Animals Herded  \\\n",
       "0                         2.0                                  0.0   \n",
       "1                         2.0                                  0.0   \n",
       "\n",
       "   LATITUDE_DEGREE  LONGITUDE_DEGREE  Addn. LATITUDE_DEGREE   \\\n",
       "0        41.930667         70.069667                     NaN   \n",
       "1        41.933333         70.024167                     NaN   \n",
       "\n",
       "   Addm. LONGITUDE_DEGREE                SPECIES  \n",
       "0                     NaN  Lagenorhynchus acutus  \n",
       "1                     NaN  Lagenorhynchus acutus  "
      ]
     },
     "execution_count": 4,
     "metadata": {},
     "output_type": "execute_result"
    }
   ],
   "source": [
    "df.head(2)"
   ]
  },
  {
   "cell_type": "markdown",
   "metadata": {},
   "source": [
    "Cleanup: too many non-features (useless columns), I'll start by dropping those. My criteria area as follows, there are several lines for a given event, which from a numerical point of view, is redundant. At this stage, what I care about are numbers of stranded/herded animals, location, date, species. "
   ]
  },
  {
   "cell_type": "code",
   "execution_count": 5,
   "metadata": {
    "collapsed": true
   },
   "outputs": [],
   "source": [
    "df.drop(['MASS_STRAND_NUM','SERIES_NUM','Event End date (if applicable)','COMMENTS','Addn. LATITUDE_DEGREE ',\n",
    "         'Addm. LONGITUDE_DEGREE'],axis=1, inplace=True)"
   ]
  },
  {
   "cell_type": "markdown",
   "metadata": {},
   "source": [
    "Next is to replace column names with something more practical:"
   ]
  },
  {
   "cell_type": "code",
   "execution_count": 6,
   "metadata": {
    "collapsed": false
   },
   "outputs": [
    {
     "data": {
      "text/html": [
       "<div>\n",
       "<table border=\"1\" class=\"dataframe\">\n",
       "  <thead>\n",
       "    <tr style=\"text-align: right;\">\n",
       "      <th></th>\n",
       "      <th>date</th>\n",
       "      <th>stranded</th>\n",
       "      <th>herded</th>\n",
       "      <th>latitude</th>\n",
       "      <th>longitude</th>\n",
       "      <th>species</th>\n",
       "    </tr>\n",
       "  </thead>\n",
       "  <tbody>\n",
       "    <tr>\n",
       "      <th>0</th>\n",
       "      <td>2000-04-09</td>\n",
       "      <td>2.0</td>\n",
       "      <td>0.0</td>\n",
       "      <td>41.930667</td>\n",
       "      <td>70.069667</td>\n",
       "      <td>Lagenorhynchus acutus</td>\n",
       "    </tr>\n",
       "    <tr>\n",
       "      <th>1</th>\n",
       "      <td>2000-04-11</td>\n",
       "      <td>2.0</td>\n",
       "      <td>0.0</td>\n",
       "      <td>41.933333</td>\n",
       "      <td>70.024167</td>\n",
       "      <td>Lagenorhynchus acutus</td>\n",
       "    </tr>\n",
       "    <tr>\n",
       "      <th>2</th>\n",
       "      <td>2000-04-11</td>\n",
       "      <td>2.0</td>\n",
       "      <td>0.0</td>\n",
       "      <td>41.933333</td>\n",
       "      <td>70.024167</td>\n",
       "      <td>Lagenorhynchus acutus</td>\n",
       "    </tr>\n",
       "    <tr>\n",
       "      <th>3</th>\n",
       "      <td>2000-08-14</td>\n",
       "      <td>NaN</td>\n",
       "      <td>NaN</td>\n",
       "      <td>41.806833</td>\n",
       "      <td>70.002667</td>\n",
       "      <td>Lagenorhynchus acutus</td>\n",
       "    </tr>\n",
       "    <tr>\n",
       "      <th>4</th>\n",
       "      <td>2000-08-26</td>\n",
       "      <td>6.0</td>\n",
       "      <td>20.0</td>\n",
       "      <td>41.928167</td>\n",
       "      <td>70.066833</td>\n",
       "      <td>Lagenorhynchus acutus</td>\n",
       "    </tr>\n",
       "  </tbody>\n",
       "</table>\n",
       "</div>"
      ],
      "text/plain": [
       "        date  stranded  herded   latitude  longitude                species\n",
       "0 2000-04-09       2.0     0.0  41.930667  70.069667  Lagenorhynchus acutus\n",
       "1 2000-04-11       2.0     0.0  41.933333  70.024167  Lagenorhynchus acutus\n",
       "2 2000-04-11       2.0     0.0  41.933333  70.024167  Lagenorhynchus acutus\n",
       "3 2000-08-14       NaN     NaN  41.806833  70.002667  Lagenorhynchus acutus\n",
       "4 2000-08-26       6.0    20.0  41.928167  70.066833  Lagenorhynchus acutus"
      ]
     },
     "execution_count": 6,
     "metadata": {},
     "output_type": "execute_result"
    }
   ],
   "source": [
    "replNames = {key: repl for key,repl in zip(df.columns[:3],['date','stranded', 'herded'])}\n",
    "replNames.update({key:key.lower().split('_')[0] for key in df.columns[3:]})\n",
    "df.rename(columns=replNames,inplace=True)\n",
    "df.head(5)"
   ]
  },
  {
   "cell_type": "markdown",
   "metadata": {},
   "source": [
    "*** More cleaning: Duplicates and NaNs***\n",
    "\n",
    "Now I'll see if the data itself needs to be cleaned up. \n",
    "First thing is to drop NaNs. In the case of *stranded* and *herded*, any nans should be converted to 0."
   ]
  },
  {
   "cell_type": "code",
   "execution_count": 7,
   "metadata": {
    "collapsed": true
   },
   "outputs": [],
   "source": [
    "df.dropna(inplace=True)"
   ]
  },
  {
   "cell_type": "code",
   "execution_count": 10,
   "metadata": {
    "collapsed": false
   },
   "outputs": [
    {
     "data": {
      "text/html": [
       "<div>\n",
       "<table border=\"1\" class=\"dataframe\">\n",
       "  <thead>\n",
       "    <tr style=\"text-align: right;\">\n",
       "      <th></th>\n",
       "      <th>date</th>\n",
       "      <th>stranded</th>\n",
       "      <th>herded</th>\n",
       "      <th>latitude</th>\n",
       "      <th>longitude</th>\n",
       "      <th>species</th>\n",
       "    </tr>\n",
       "  </thead>\n",
       "  <tbody>\n",
       "    <tr>\n",
       "      <th>0</th>\n",
       "      <td>2000-04-09</td>\n",
       "      <td>2.0</td>\n",
       "      <td>0.0</td>\n",
       "      <td>41.930667</td>\n",
       "      <td>70.069667</td>\n",
       "      <td>Lagenorhynchus acutus</td>\n",
       "    </tr>\n",
       "    <tr>\n",
       "      <th>1</th>\n",
       "      <td>2000-04-11</td>\n",
       "      <td>2.0</td>\n",
       "      <td>0.0</td>\n",
       "      <td>41.933333</td>\n",
       "      <td>70.024167</td>\n",
       "      <td>Lagenorhynchus acutus</td>\n",
       "    </tr>\n",
       "    <tr>\n",
       "      <th>2</th>\n",
       "      <td>2000-04-11</td>\n",
       "      <td>2.0</td>\n",
       "      <td>0.0</td>\n",
       "      <td>41.933333</td>\n",
       "      <td>70.024167</td>\n",
       "      <td>Lagenorhynchus acutus</td>\n",
       "    </tr>\n",
       "    <tr>\n",
       "      <th>4</th>\n",
       "      <td>2000-08-26</td>\n",
       "      <td>6.0</td>\n",
       "      <td>20.0</td>\n",
       "      <td>41.928167</td>\n",
       "      <td>70.066833</td>\n",
       "      <td>Lagenorhynchus acutus</td>\n",
       "    </tr>\n",
       "    <tr>\n",
       "      <th>5</th>\n",
       "      <td>2000-08-27</td>\n",
       "      <td>5.0</td>\n",
       "      <td>0.0</td>\n",
       "      <td>41.928967</td>\n",
       "      <td>70.052300</td>\n",
       "      <td>Lagenorhynchus acutus</td>\n",
       "    </tr>\n",
       "    <tr>\n",
       "      <th>6</th>\n",
       "      <td>2001-03-07</td>\n",
       "      <td>2.0</td>\n",
       "      <td>0.0</td>\n",
       "      <td>41.906433</td>\n",
       "      <td>70.001117</td>\n",
       "      <td>Lagenorhynchus acutus</td>\n",
       "    </tr>\n",
       "    <tr>\n",
       "      <th>7</th>\n",
       "      <td>2001-04-13</td>\n",
       "      <td>6.0</td>\n",
       "      <td>0.0</td>\n",
       "      <td>42.485750</td>\n",
       "      <td>70.655600</td>\n",
       "      <td>Lagenorhynchus acutus</td>\n",
       "    </tr>\n",
       "    <tr>\n",
       "      <th>8</th>\n",
       "      <td>2002-01-27</td>\n",
       "      <td>9.0</td>\n",
       "      <td>12.0</td>\n",
       "      <td>41.919500</td>\n",
       "      <td>70.031667</td>\n",
       "      <td>Delphinus delphis</td>\n",
       "    </tr>\n",
       "    <tr>\n",
       "      <th>9</th>\n",
       "      <td>2002-03-05</td>\n",
       "      <td>11.0</td>\n",
       "      <td>0.0</td>\n",
       "      <td>41.927833</td>\n",
       "      <td>70.053000</td>\n",
       "      <td>Lagenorhynchus acutus</td>\n",
       "    </tr>\n",
       "    <tr>\n",
       "      <th>10</th>\n",
       "      <td>2002-03-17</td>\n",
       "      <td>8.0</td>\n",
       "      <td>0.0</td>\n",
       "      <td>41.929500</td>\n",
       "      <td>70.047667</td>\n",
       "      <td>Lagenorhynchus acutus</td>\n",
       "    </tr>\n",
       "  </tbody>\n",
       "</table>\n",
       "</div>"
      ],
      "text/plain": [
       "         date  stranded  herded   latitude  longitude                species\n",
       "0  2000-04-09       2.0     0.0  41.930667  70.069667  Lagenorhynchus acutus\n",
       "1  2000-04-11       2.0     0.0  41.933333  70.024167  Lagenorhynchus acutus\n",
       "2  2000-04-11       2.0     0.0  41.933333  70.024167  Lagenorhynchus acutus\n",
       "4  2000-08-26       6.0    20.0  41.928167  70.066833  Lagenorhynchus acutus\n",
       "5  2000-08-27       5.0     0.0  41.928967  70.052300  Lagenorhynchus acutus\n",
       "6  2001-03-07       2.0     0.0  41.906433  70.001117  Lagenorhynchus acutus\n",
       "7  2001-04-13       6.0     0.0  42.485750  70.655600  Lagenorhynchus acutus\n",
       "8  2002-01-27       9.0    12.0  41.919500  70.031667      Delphinus delphis\n",
       "9  2002-03-05      11.0     0.0  41.927833  70.053000  Lagenorhynchus acutus\n",
       "10 2002-03-17       8.0     0.0  41.929500  70.047667  Lagenorhynchus acutus"
      ]
     },
     "execution_count": 10,
     "metadata": {},
     "output_type": "execute_result"
    }
   ],
   "source": [
    "df.head(10)"
   ]
  },
  {
   "cell_type": "markdown",
   "metadata": {},
   "source": [
    "Now I'll take care of duplicates"
   ]
  },
  {
   "cell_type": "code",
   "execution_count": 11,
   "metadata": {
    "collapsed": false
   },
   "outputs": [
    {
     "data": {
      "text/html": [
       "<div>\n",
       "<table border=\"1\" class=\"dataframe\">\n",
       "  <thead>\n",
       "    <tr style=\"text-align: right;\">\n",
       "      <th></th>\n",
       "      <th>date</th>\n",
       "      <th>stranded</th>\n",
       "      <th>herded</th>\n",
       "      <th>latitude</th>\n",
       "      <th>longitude</th>\n",
       "      <th>species</th>\n",
       "    </tr>\n",
       "  </thead>\n",
       "  <tbody>\n",
       "    <tr>\n",
       "      <th>2</th>\n",
       "      <td>2000-04-11</td>\n",
       "      <td>2.0</td>\n",
       "      <td>0.0</td>\n",
       "      <td>41.933333</td>\n",
       "      <td>70.024167</td>\n",
       "      <td>Lagenorhynchus acutus</td>\n",
       "    </tr>\n",
       "  </tbody>\n",
       "</table>\n",
       "</div>"
      ],
      "text/plain": [
       "        date  stranded  herded   latitude  longitude                species\n",
       "2 2000-04-11       2.0     0.0  41.933333  70.024167  Lagenorhynchus acutus"
      ]
     },
     "execution_count": 11,
     "metadata": {},
     "output_type": "execute_result"
    }
   ],
   "source": [
    "df.loc[df.duplicated(),:]"
   ]
  },
  {
   "cell_type": "markdown",
   "metadata": {},
   "source": [
    "There appear to be a duplicate entry of the above. Here a decision needs to be made. Was the twin entry a legitimate or an error? I'll assume the latter and drop the duplicat; it's not a big dent in the data."
   ]
  },
  {
   "cell_type": "code",
   "execution_count": 12,
   "metadata": {
    "collapsed": true
   },
   "outputs": [],
   "source": [
    "df.drop_duplicates(inplace=True)"
   ]
  },
  {
   "cell_type": "markdown",
   "metadata": {},
   "source": [
    "Now, there might still be some date duplicates, because of multiple events ocurring on the same day. Let's look at that: Date-wise duplicates"
   ]
  },
  {
   "cell_type": "code",
   "execution_count": 13,
   "metadata": {
    "collapsed": false
   },
   "outputs": [
    {
     "data": {
      "text/html": [
       "<div>\n",
       "<table border=\"1\" class=\"dataframe\">\n",
       "  <thead>\n",
       "    <tr style=\"text-align: right;\">\n",
       "      <th></th>\n",
       "      <th>date</th>\n",
       "      <th>stranded</th>\n",
       "      <th>herded</th>\n",
       "      <th>latitude</th>\n",
       "      <th>longitude</th>\n",
       "      <th>species</th>\n",
       "    </tr>\n",
       "  </thead>\n",
       "  <tbody>\n",
       "    <tr>\n",
       "      <th>103</th>\n",
       "      <td>2008-12-25</td>\n",
       "      <td>3.0</td>\n",
       "      <td>0.0</td>\n",
       "      <td>41.9205</td>\n",
       "      <td>70.032167</td>\n",
       "      <td>Grampus griseus</td>\n",
       "    </tr>\n",
       "    <tr>\n",
       "      <th>187</th>\n",
       "      <td>2012-02-09</td>\n",
       "      <td>3.0</td>\n",
       "      <td>0.0</td>\n",
       "      <td>41.8923</td>\n",
       "      <td>-70.008500</td>\n",
       "      <td>Delphinus delphis</td>\n",
       "    </tr>\n",
       "  </tbody>\n",
       "</table>\n",
       "</div>"
      ],
      "text/plain": [
       "          date  stranded  herded  latitude  longitude            species\n",
       "103 2008-12-25       3.0     0.0   41.9205  70.032167    Grampus griseus\n",
       "187 2012-02-09       3.0     0.0   41.8923 -70.008500  Delphinus delphis"
      ]
     },
     "execution_count": 13,
     "metadata": {},
     "output_type": "execute_result"
    }
   ],
   "source": [
    "df.loc[df.duplicated(subset='date')]"
   ]
  },
  {
   "cell_type": "markdown",
   "metadata": {},
   "source": [
    "Two cases. Let's see what happens on those dates:"
   ]
  },
  {
   "cell_type": "code",
   "execution_count": 14,
   "metadata": {
    "collapsed": false
   },
   "outputs": [
    {
     "name": "stdout",
     "output_type": "stream",
     "text": [
      "          date  stranded  herded  latitude  longitude            species\n",
      "102 2008-12-25       5.0     0.0   41.7840 -70.033100  Delphinus delphis\n",
      "103 2008-12-25       3.0     0.0   41.9205  70.032167    Grampus griseus\n",
      "          date  stranded  herded  latitude  longitude            species\n",
      "186 2012-02-09       5.0     0.0   41.7272   -70.3031  Delphinus delphis\n",
      "187 2012-02-09       3.0     0.0   41.8923   -70.0085  Delphinus delphis\n"
     ]
    }
   ],
   "source": [
    "dupDates = df.loc[df.duplicated(subset='date'),'date'].values\n",
    "for dd in dupDates:\n",
    "    print(df[df['date'] == dd])"
   ]
  },
  {
   "cell_type": "markdown",
   "metadata": {},
   "source": [
    "So in the first case two different species stranded at different locations. In the second case, the same species stranded at different locations.  \n",
    "\n",
    "---\n",
    "\n",
    "\n",
    "That's all the cleaning for now.\n",
    "\n",
    "If I end up modeling the time series, I'll have to come back and zero-pad the data. For now I need to reshape the data some to ease plotting and further exploration. For that, I'll create a new dataframe with the following operations:\n",
    "1. use one-hot encoding to create count columns for each species.\n",
    "2. sum *stranded* and *herded* into a new *total* columns\n",
    "3. multiply the total count across species count columns\n",
    "4. rename species columns to a more practical set of names."
   ]
  },
  {
   "cell_type": "code",
   "execution_count": 17,
   "metadata": {
    "collapsed": false
   },
   "outputs": [
    {
     "data": {
      "text/html": [
       "<div>\n",
       "<table border=\"1\" class=\"dataframe\">\n",
       "  <thead>\n",
       "    <tr style=\"text-align: right;\">\n",
       "      <th></th>\n",
       "      <th>date</th>\n",
       "      <th>stranded</th>\n",
       "      <th>herded</th>\n",
       "      <th>latitude</th>\n",
       "      <th>longitude</th>\n",
       "      <th>Delphinus_delphis</th>\n",
       "      <th>Globicephala_melas</th>\n",
       "      <th>Grampus_griseus</th>\n",
       "      <th>Lagenorhynchus_acutus</th>\n",
       "      <th>Tursiops_truncatus</th>\n",
       "      <th>total</th>\n",
       "    </tr>\n",
       "  </thead>\n",
       "  <tbody>\n",
       "    <tr>\n",
       "      <th>0</th>\n",
       "      <td>2000-04-09</td>\n",
       "      <td>2.0</td>\n",
       "      <td>0.0</td>\n",
       "      <td>41.930667</td>\n",
       "      <td>70.069667</td>\n",
       "      <td>0.0</td>\n",
       "      <td>0.0</td>\n",
       "      <td>0.0</td>\n",
       "      <td>2.0</td>\n",
       "      <td>0.0</td>\n",
       "      <td>2.0</td>\n",
       "    </tr>\n",
       "    <tr>\n",
       "      <th>1</th>\n",
       "      <td>2000-04-11</td>\n",
       "      <td>2.0</td>\n",
       "      <td>0.0</td>\n",
       "      <td>41.933333</td>\n",
       "      <td>70.024167</td>\n",
       "      <td>0.0</td>\n",
       "      <td>0.0</td>\n",
       "      <td>0.0</td>\n",
       "      <td>2.0</td>\n",
       "      <td>0.0</td>\n",
       "      <td>2.0</td>\n",
       "    </tr>\n",
       "  </tbody>\n",
       "</table>\n",
       "</div>"
      ],
      "text/plain": [
       "        date  stranded  herded   latitude  longitude  Delphinus_delphis  \\\n",
       "0 2000-04-09       2.0     0.0  41.930667  70.069667                0.0   \n",
       "1 2000-04-11       2.0     0.0  41.933333  70.024167                0.0   \n",
       "\n",
       "   Globicephala_melas  Grampus_griseus  Lagenorhynchus_acutus  \\\n",
       "0                 0.0              0.0                    2.0   \n",
       "1                 0.0              0.0                    2.0   \n",
       "\n",
       "   Tursiops_truncatus  total  \n",
       "0                 0.0    2.0  \n",
       "1                 0.0    2.0  "
      ]
     },
     "execution_count": 17,
     "metadata": {},
     "output_type": "execute_result"
    }
   ],
   "source": [
    "#1.\n",
    "dfs = pd.get_dummies(df, columns=['species'])\n",
    "#2.\n",
    "dfs['total']=dfs[['stranded','herded']].sum(axis=1)\n",
    "#3.\n",
    "speciescols = [col for col in dfs.columns if 'species' in col]\n",
    "dfs[speciescols] = dfs[speciescols].multiply(dfs.total, axis=0)\n",
    "#4.\n",
    "dfs.rename(columns={key:key.split('_')[1].replace(' ','_') for key in speciescols},\n",
    "           inplace=True)\n",
    "# Let's verify the result is as desired...\n",
    "dfs.head(2)"
   ]
  },
  {
   "cell_type": "markdown",
   "metadata": {},
   "source": [
    "Now I'm going to create a series, where the total column is aggregated into single dates."
   ]
  },
  {
   "cell_type": "code",
   "execution_count": 18,
   "metadata": {
    "collapsed": false
   },
   "outputs": [
    {
     "data": {
      "text/plain": [
       "<matplotlib.axes._subplots.AxesSubplot at 0x7fe6c7b509e8>"
      ]
     },
     "execution_count": 18,
     "metadata": {},
     "output_type": "execute_result"
    },
    {
     "data": {
      "image/png": "[encoded data removed]",
      "text/plain": [
       "<matplotlib.figure.Figure at 0x7fe6c7b50c18>"
      ]
     },
     "metadata": {},
     "output_type": "display_data"
    }
   ],
   "source": [
    "totals_TS = dfs.groupby(by='date')['total'].sum()\n",
    "totals_TS.plot(style='o:',figsize=(10,4))"
   ]
  },
  {
   "cell_type": "code",
   "execution_count": null,
   "metadata": {
    "collapsed": true
   },
   "outputs": [],
   "source": []
  }
 ],
 "metadata": {
  "anaconda-cloud": {},
  "kernelspec": {
   "display_name": "Python [default]",
   "language": "python",
   "name": "python3"
  },
  "language_info": {
   "codemirror_mode": {
    "name": "ipython",
    "version": 3
   },
   "file_extension": ".py",
   "mimetype": "text/x-python",
   "name": "python",
   "nbconvert_exporter": "python",
   "pygments_lexer": "ipython3",
   "version": "3.5.2"
  },
  "nikola": {
   "category": "",
   "date": "2017-02-19 11:18:29 UTC-05:00",
   "description": "",
   "link": "",
   "slug": "marine-mammal-beachings",
   "tags": "draft",
   "title": "Marine Mammal Beachings",
   "type": "text"
  }
 },
 "nbformat": 4,
 "nbformat_minor": 2
}
