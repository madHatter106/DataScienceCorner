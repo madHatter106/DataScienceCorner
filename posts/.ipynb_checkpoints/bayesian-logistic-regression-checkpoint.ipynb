{
 "cells": [
  {
   "cell_type": "markdown",
   "metadata": {},
   "source": [
    "#### Bayesian Logistic Regression\n",
    "\n",
    "I am first going to explore concepts in logistic regression.\n",
    "Then I'm going to add a bayesian twist to this ML algorithm and apply it to a couple of familiar problems."
   ]
  },
  {
   "cell_type": "code",
   "execution_count": null,
   "metadata": {
    "collapsed": true
   },
   "outputs": [],
   "source": []
  }
 ],
 "metadata": {
  "anaconda-cloud": {},
  "kernelspec": {
   "display_name": "Python [default]",
   "language": "python",
   "name": "python3"
  },
  "language_info": {
   "codemirror_mode": {
    "name": "ipython",
    "version": 3
   },
   "file_extension": ".py",
   "mimetype": "text/x-python",
   "name": "python",
   "nbconvert_exporter": "python",
   "pygments_lexer": "ipython3",
   "version": "3.5.2"
  },
  "nikola": {
   "category": "",
   "date": "2017-01-13 17:03:34 UTC-05:00",
   "description": "",
   "link": "",
   "slug": "bayesian-logistic-regression",
   "tags": "pymc3,logistic regression,machine learning,blog,classification",
   "title": "Bayesian Logistic Regression",
   "type": "text"
  }
 },
 "nbformat": 4,
 "nbformat_minor": 2
}
